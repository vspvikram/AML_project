{
 "cells": [
  {
   "cell_type": "code",
   "execution_count": 69,
   "id": "6f0ba0d1",
   "metadata": {},
   "outputs": [
    {
     "name": "stdout",
     "output_type": "stream",
     "text": [
      "The autoreload extension is already loaded. To reload it, use:\n",
      "  %reload_ext autoreload\n"
     ]
    }
   ],
   "source": [
    "import os\n",
    "import re\n",
    "import functools\n",
    "\n",
    "import pandas as pd\n",
    "import numpy as np\n",
    "import matplotlib.pyplot as plt\n",
    "import seaborn as sns\n",
    "import cv2\n",
    "import tensorflow as tf\n",
    "\n",
    "%load_ext autoreload\n",
    "%autoreload 2\n",
    "from PIL import Image\n",
    "from bs4 import BeautifulSoup\n",
    "from nltk.corpus import stopwords\n",
    "from collections import Counter\n",
    "from wordcloud import WordCloud, STOPWORDS\n",
    "from Encoder import Encoder\n",
    "from dataset import Dataset\n",
    "import string\n",
    "\n",
    "from sklearn.model_selection import train_test_split\n",
    "from sklearn.utils import resample\n",
    "from keras.preprocessing.image import load_img\n",
    "from spacy.lang.en.stop_words import STOP_WORDS\n",
    "from tensorflow.keras.preprocessing.sequence import pad_sequences\n",
    "from tensorflow.keras.preprocessing.text import Tokenizer\n",
    "from tensorflow.keras.layers import Dense,GlobalAveragePooling2D, Input, Embedding \n",
    "from tensorflow.keras.layers import LSTM,Dot,Reshape,Concatenate,BatchNormalization \n",
    "from tensorflow.keras.layers import GlobalMaxPooling2D, Dropout, Add, MaxPooling2D, GRU, AveragePooling2D"
   ]
  },
  {
   "cell_type": "markdown",
   "id": "dbdce886",
   "metadata": {},
   "source": [
    "# Loading Data"
   ]
  },
  {
   "cell_type": "code",
   "execution_count": 3,
   "id": "97c07137",
   "metadata": {},
   "outputs": [],
   "source": [
    "def parse_input(x):\n",
    "    if os.path.exists(\"/users/vspvikram/Downloads/AML_project/ecgen-radiology/%s.xml\" %x):\n",
    "        f = open(\"/users/vspvikram/Downloads/AML_project/ecgen-radiology/%s.xml\" %x, 'r')\n",
    "        soup = BeautifulSoup(f, \"html.parser\")\n",
    "        reports = soup.find(label=\"IMPRESSION\").get_text().lower()\n",
    "        return re.sub(r'[\\W]', ' ', reports)\n",
    "    \n",
    "image = pd.Series(os.listdir('/users/vspvikram/Downloads/AML_project/NLMCXR_png'))\n",
    "number = image.apply(lambda x: x.split('_')[0][3:])\n",
    "report = number.apply(parse_input)"
   ]
  },
  {
   "cell_type": "code",
   "execution_count": 4,
   "id": "2d059bcb",
   "metadata": {},
   "outputs": [
    {
     "data": {
      "text/html": [
       "<div>\n",
       "<style scoped>\n",
       "    .dataframe tbody tr th:only-of-type {\n",
       "        vertical-align: middle;\n",
       "    }\n",
       "\n",
       "    .dataframe tbody tr th {\n",
       "        vertical-align: top;\n",
       "    }\n",
       "\n",
       "    .dataframe thead th {\n",
       "        text-align: right;\n",
       "    }\n",
       "</style>\n",
       "<table border=\"1\" class=\"dataframe\">\n",
       "  <thead>\n",
       "    <tr style=\"text-align: right;\">\n",
       "      <th></th>\n",
       "      <th>Image</th>\n",
       "      <th>Number</th>\n",
       "      <th>Caption</th>\n",
       "    </tr>\n",
       "  </thead>\n",
       "  <tbody>\n",
       "    <tr>\n",
       "      <th>0</th>\n",
       "      <td>CXR1_1_IM-0001-4001.png</td>\n",
       "      <td>1</td>\n",
       "      <td>normal chest x xxxx</td>\n",
       "    </tr>\n",
       "    <tr>\n",
       "      <th>1</th>\n",
       "      <td>CXR1_1_IM-0001-3001.png</td>\n",
       "      <td>1</td>\n",
       "      <td>normal chest x xxxx</td>\n",
       "    </tr>\n",
       "    <tr>\n",
       "      <th>2</th>\n",
       "      <td>CXR10_IM-0002-2001.png</td>\n",
       "      <td>10</td>\n",
       "      <td>no acute cardiopulmonary process</td>\n",
       "    </tr>\n",
       "    <tr>\n",
       "      <th>3</th>\n",
       "      <td>CXR10_IM-0002-1001.png</td>\n",
       "      <td>10</td>\n",
       "      <td>no acute cardiopulmonary process</td>\n",
       "    </tr>\n",
       "    <tr>\n",
       "      <th>4</th>\n",
       "      <td>CXR100_IM-0002-2001.png</td>\n",
       "      <td>100</td>\n",
       "      <td>no active disease</td>\n",
       "    </tr>\n",
       "  </tbody>\n",
       "</table>\n",
       "</div>"
      ],
      "text/plain": [
       "                     Image Number                            Caption\n",
       "0  CXR1_1_IM-0001-4001.png      1               normal chest x xxxx \n",
       "1  CXR1_1_IM-0001-3001.png      1               normal chest x xxxx \n",
       "2   CXR10_IM-0002-2001.png     10  no acute cardiopulmonary process \n",
       "3   CXR10_IM-0002-1001.png     10  no acute cardiopulmonary process \n",
       "4  CXR100_IM-0002-2001.png    100                 no active disease "
      ]
     },
     "execution_count": 4,
     "metadata": {},
     "output_type": "execute_result"
    }
   ],
   "source": [
    "df = pd.DataFrame({'Image': image, 'Number': number, 'Caption': report}).dropna().sort_values(['Number']).reset_index(drop\n",
    "                                                                                                                     =True)\n",
    "df.head()"
   ]
  },
  {
   "cell_type": "markdown",
   "id": "15583b6d",
   "metadata": {},
   "source": [
    "# Sample Images and report"
   ]
  },
  {
   "cell_type": "code",
   "execution_count": null,
   "id": "e6cacb43",
   "metadata": {},
   "outputs": [],
   "source": [
    "for i in range(3):\n",
    "    file_name = np.random.choice(df.Image)\n",
    "    img = Image.open('/users/vspvikram/Downloads/AML_project/NLMCXR_png/' + file_name)\n",
    "    plt.imshow(img)\n",
    "    plt.show()\n",
    "    print(df[df.Image == file_name].Caption.item())\n",
    "    print()"
   ]
  },
  {
   "cell_type": "markdown",
   "id": "18d043f3",
   "metadata": {},
   "source": [
    "# Visualization"
   ]
  },
  {
   "cell_type": "code",
   "execution_count": null,
   "id": "92821667",
   "metadata": {},
   "outputs": [],
   "source": [
    "texts = df.Caption.unique()\n",
    "texts = functools.reduce(lambda a, b: a + b, texts).split()\n",
    "texts = [i for i in texts if i not in set(stopwords.words('english'))]\n",
    "words_counter = Counter(texts)"
   ]
  },
  {
   "cell_type": "code",
   "execution_count": null,
   "id": "0d13bf72",
   "metadata": {},
   "outputs": [],
   "source": [
    "plt.figure(figsize=(12,12))\n",
    "wordcloud = WordCloud(\n",
    "    width=1600, height=1600,\n",
    "    background_color = 'white',\n",
    "    min_font_size=10).generate(\" \".join(texts))\n",
    "\n",
    "plt.imshow(wordcloud)\n",
    "plt.show()"
   ]
  },
  {
   "cell_type": "code",
   "execution_count": null,
   "id": "05ed5019",
   "metadata": {},
   "outputs": [],
   "source": [
    "n_img = df.groupby(['Number']).size().value_counts().reset_index()\n",
    "n_img.columns = ['Number of images', 'Count']\n",
    "\n",
    "plt.figure(figsize=(12,8))\n",
    "plt.bar(x=n_img['Number of images'], height=n_img['Count'])\n",
    "plt.xlabel(\"Number of images for each report\")\n",
    "plt.ylabel(\"Count\")\n",
    "plt.title(\"Distribution of number of images for every caption\")\n",
    "plt.show()"
   ]
  },
  {
   "cell_type": "code",
   "execution_count": 5,
   "id": "b40a97df",
   "metadata": {},
   "outputs": [
    {
     "data": {
      "text/html": [
       "<div>\n",
       "<style scoped>\n",
       "    .dataframe tbody tr th:only-of-type {\n",
       "        vertical-align: middle;\n",
       "    }\n",
       "\n",
       "    .dataframe tbody tr th {\n",
       "        vertical-align: top;\n",
       "    }\n",
       "\n",
       "    .dataframe thead th {\n",
       "        text-align: right;\n",
       "    }\n",
       "</style>\n",
       "<table border=\"1\" class=\"dataframe\">\n",
       "  <thead>\n",
       "    <tr style=\"text-align: right;\">\n",
       "      <th></th>\n",
       "      <th>Number</th>\n",
       "      <th>Caption</th>\n",
       "      <th>Image1</th>\n",
       "      <th>Image2</th>\n",
       "    </tr>\n",
       "  </thead>\n",
       "  <tbody>\n",
       "    <tr>\n",
       "      <th>0</th>\n",
       "      <td>1</td>\n",
       "      <td>normal chest x xxxx</td>\n",
       "      <td>CXR1_1_IM-0001-4001.png</td>\n",
       "      <td>CXR1_1_IM-0001-3001.png</td>\n",
       "    </tr>\n",
       "    <tr>\n",
       "      <th>1</th>\n",
       "      <td>10</td>\n",
       "      <td>no acute cardiopulmonary process</td>\n",
       "      <td>CXR10_IM-0002-2001.png</td>\n",
       "      <td>CXR10_IM-0002-1001.png</td>\n",
       "    </tr>\n",
       "    <tr>\n",
       "      <th>2</th>\n",
       "      <td>100</td>\n",
       "      <td>no active disease</td>\n",
       "      <td>CXR100_IM-0002-2001.png</td>\n",
       "      <td>CXR100_IM-0002-1001.png</td>\n",
       "    </tr>\n",
       "    <tr>\n",
       "      <th>3</th>\n",
       "      <td>1001</td>\n",
       "      <td>diffuse fibrosis  no visible focal acute disease</td>\n",
       "      <td>CXR1001_IM-0004-1001.png</td>\n",
       "      <td>CXR1001_IM-0004-1002.png</td>\n",
       "    </tr>\n",
       "    <tr>\n",
       "      <th>4</th>\n",
       "      <td>1002</td>\n",
       "      <td>status post left mastectomy  heart size normal...</td>\n",
       "      <td>CXR1002_IM-0004-2001.png</td>\n",
       "      <td>CXR1002_IM-0004-1001.png</td>\n",
       "    </tr>\n",
       "    <tr>\n",
       "      <th>...</th>\n",
       "      <td>...</td>\n",
       "      <td>...</td>\n",
       "      <td>...</td>\n",
       "      <td>...</td>\n",
       "    </tr>\n",
       "    <tr>\n",
       "      <th>3203</th>\n",
       "      <td>994</td>\n",
       "      <td>negative chest</td>\n",
       "      <td>CXR994_IM-2478-2001.png</td>\n",
       "      <td>CXR994_IM-2478-1001.png</td>\n",
       "    </tr>\n",
       "    <tr>\n",
       "      <th>3204</th>\n",
       "      <td>995</td>\n",
       "      <td>post operative chest with no acute disease</td>\n",
       "      <td>CXR995_IM-2478-1002.png</td>\n",
       "      <td>CXR995_IM-2478-1001.png</td>\n",
       "    </tr>\n",
       "    <tr>\n",
       "      <th>3205</th>\n",
       "      <td>996</td>\n",
       "      <td>heart size is normal and lungs are clear  no p...</td>\n",
       "      <td>CXR996_IM-2479-1001.png</td>\n",
       "      <td>CXR996_IM-2479-2001.png</td>\n",
       "    </tr>\n",
       "    <tr>\n",
       "      <th>3206</th>\n",
       "      <td>997</td>\n",
       "      <td>no acute cardiopulmonary abnormality</td>\n",
       "      <td>CXR997_IM-2479-1001.png</td>\n",
       "      <td>CXR997_IM-2479-2001.png</td>\n",
       "    </tr>\n",
       "    <tr>\n",
       "      <th>3207</th>\n",
       "      <td>998</td>\n",
       "      <td>no acute cardiopulmonary abnormality</td>\n",
       "      <td>CXR998_IM-2479-1001.png</td>\n",
       "      <td>CXR998_IM-2479-2001.png</td>\n",
       "    </tr>\n",
       "  </tbody>\n",
       "</table>\n",
       "<p>3208 rows × 4 columns</p>\n",
       "</div>"
      ],
      "text/plain": [
       "     Number                                            Caption  \\\n",
       "0         1                               normal chest x xxxx    \n",
       "1        10                  no acute cardiopulmonary process    \n",
       "2       100                                 no active disease    \n",
       "3      1001  diffuse fibrosis  no visible focal acute disease    \n",
       "4      1002  status post left mastectomy  heart size normal...   \n",
       "...     ...                                                ...   \n",
       "3203    994                                   negative chest     \n",
       "3204    995        post operative chest with no acute disease    \n",
       "3205    996  heart size is normal and lungs are clear  no p...   \n",
       "3206    997            no acute cardiopulmonary abnormality      \n",
       "3207    998              no acute cardiopulmonary abnormality    \n",
       "\n",
       "                        Image1                     Image2  \n",
       "0      CXR1_1_IM-0001-4001.png    CXR1_1_IM-0001-3001.png  \n",
       "1       CXR10_IM-0002-2001.png     CXR10_IM-0002-1001.png  \n",
       "2      CXR100_IM-0002-2001.png    CXR100_IM-0002-1001.png  \n",
       "3     CXR1001_IM-0004-1001.png   CXR1001_IM-0004-1002.png  \n",
       "4     CXR1002_IM-0004-2001.png   CXR1002_IM-0004-1001.png  \n",
       "...                        ...                        ...  \n",
       "3203   CXR994_IM-2478-2001.png    CXR994_IM-2478-1001.png  \n",
       "3204   CXR995_IM-2478-1002.png    CXR995_IM-2478-1001.png  \n",
       "3205   CXR996_IM-2479-1001.png    CXR996_IM-2479-2001.png  \n",
       "3206   CXR997_IM-2479-1001.png    CXR997_IM-2479-2001.png  \n",
       "3207   CXR998_IM-2479-1001.png    CXR998_IM-2479-2001.png  \n",
       "\n",
       "[3208 rows x 4 columns]"
      ]
     },
     "execution_count": 5,
     "metadata": {},
     "output_type": "execute_result"
    }
   ],
   "source": [
    "df2 = df.copy()\n",
    "df2['Img_count'] = df['Image'].groupby(df['Number']).transform('count')\n",
    "\n",
    "# keeping only the 2 images per report files\n",
    "df2 = df2[df2.Img_count == 2] \n",
    "\n",
    "Image_names = df2.groupby(['Number']).apply(lambda x: ', '.join(x.Image)).reset_index()\n",
    "Image_names.rename(columns= {'Number': 'Number', 0: 'Image'})\n",
    "df2 = df2[['Number', 'Caption']]\n",
    "df2 = df2.drop_duplicates()\n",
    "df2 = df2.merge(Image_names, on='Number')\n",
    "\n",
    "df2.rename(columns={0: 'Images'}, inplace=True)\n",
    "Images = df2['Images'].str.split(',', n=1, expand=True)\n",
    "df2['Image1'] = Images[0]\n",
    "df2['Image2'] = Images[1]\n",
    "df2.drop(columns=['Images'], inplace=True)\n",
    "df2"
   ]
  },
  {
   "cell_type": "code",
   "execution_count": 5,
   "id": "6ee54131",
   "metadata": {},
   "outputs": [
    {
     "data": {
      "text/plain": [
       "no acute cardiopulmonary abnormality                 265\n",
       "no active disease                                    102\n",
       "no acute cardiopulmonary abnormalities                97\n",
       "no acute cardiopulmonary findings                     96\n",
       "no acute disease                                      92\n",
       "no acute cardiopulmonary disease                      77\n",
       "no acute cardiopulmonary process                      56\n",
       "1  no acute radiographic cardiopulmonary process      49\n",
       "no evidence of active disease                         41\n",
       "no acute pulmonary disease                            39\n",
       "no acute cardiopulmonary abnormality                  38\n",
       "1  no evidence of active disease                      38\n",
       "no acute cardiopulmonary abnormality                  36\n",
       "normal chest                                          32\n",
       "no acute cardiopulmonary findings                     29\n",
       "no acute findings                                     28\n",
       "negative for acute abnormality                        27\n",
       "no acute process                                      25\n",
       "no acute findings                                     25\n",
       "1  no acute pulmonary abnormality                     24\n",
       "Name: Caption, dtype: int64"
      ]
     },
     "execution_count": 5,
     "metadata": {},
     "output_type": "execute_result"
    }
   ],
   "source": [
    "df2['Caption'].value_counts()[:20]"
   ]
  },
  {
   "cell_type": "code",
   "execution_count": 6,
   "id": "aa47a291",
   "metadata": {},
   "outputs": [
    {
     "data": {
      "text/html": [
       "<div>\n",
       "<style scoped>\n",
       "    .dataframe tbody tr th:only-of-type {\n",
       "        vertical-align: middle;\n",
       "    }\n",
       "\n",
       "    .dataframe tbody tr th {\n",
       "        vertical-align: top;\n",
       "    }\n",
       "\n",
       "    .dataframe thead th {\n",
       "        text-align: right;\n",
       "    }\n",
       "</style>\n",
       "<table border=\"1\" class=\"dataframe\">\n",
       "  <thead>\n",
       "    <tr style=\"text-align: right;\">\n",
       "      <th></th>\n",
       "      <th>Number</th>\n",
       "      <th>Caption</th>\n",
       "      <th>Image1</th>\n",
       "      <th>Image2</th>\n",
       "      <th>Caption_count</th>\n",
       "    </tr>\n",
       "  </thead>\n",
       "  <tbody>\n",
       "    <tr>\n",
       "      <th>0</th>\n",
       "      <td>1</td>\n",
       "      <td>normal chest x xxxx</td>\n",
       "      <td>CXR1_1_IM-0001-4001.png</td>\n",
       "      <td>CXR1_1_IM-0001-3001.png</td>\n",
       "      <td>2</td>\n",
       "    </tr>\n",
       "    <tr>\n",
       "      <th>1</th>\n",
       "      <td>10</td>\n",
       "      <td>no acute cardiopulmonary process</td>\n",
       "      <td>CXR10_IM-0002-2001.png</td>\n",
       "      <td>CXR10_IM-0002-1001.png</td>\n",
       "      <td>56</td>\n",
       "    </tr>\n",
       "    <tr>\n",
       "      <th>2</th>\n",
       "      <td>100</td>\n",
       "      <td>no active disease</td>\n",
       "      <td>CXR100_IM-0002-2001.png</td>\n",
       "      <td>CXR100_IM-0002-1001.png</td>\n",
       "      <td>102</td>\n",
       "    </tr>\n",
       "    <tr>\n",
       "      <th>3</th>\n",
       "      <td>1001</td>\n",
       "      <td>diffuse fibrosis  no visible focal acute disease</td>\n",
       "      <td>CXR1001_IM-0004-1001.png</td>\n",
       "      <td>CXR1001_IM-0004-1002.png</td>\n",
       "      <td>1</td>\n",
       "    </tr>\n",
       "    <tr>\n",
       "      <th>4</th>\n",
       "      <td>1002</td>\n",
       "      <td>status post left mastectomy  heart size normal...</td>\n",
       "      <td>CXR1002_IM-0004-2001.png</td>\n",
       "      <td>CXR1002_IM-0004-1001.png</td>\n",
       "      <td>1</td>\n",
       "    </tr>\n",
       "  </tbody>\n",
       "</table>\n",
       "</div>"
      ],
      "text/plain": [
       "  Number                                            Caption  \\\n",
       "0      1                               normal chest x xxxx    \n",
       "1     10                  no acute cardiopulmonary process    \n",
       "2    100                                 no active disease    \n",
       "3   1001  diffuse fibrosis  no visible focal acute disease    \n",
       "4   1002  status post left mastectomy  heart size normal...   \n",
       "\n",
       "                     Image1                     Image2  Caption_count  \n",
       "0   CXR1_1_IM-0001-4001.png    CXR1_1_IM-0001-3001.png              2  \n",
       "1    CXR10_IM-0002-2001.png     CXR10_IM-0002-1001.png             56  \n",
       "2   CXR100_IM-0002-2001.png    CXR100_IM-0002-1001.png            102  \n",
       "3  CXR1001_IM-0004-1001.png   CXR1001_IM-0004-1002.png              1  \n",
       "4  CXR1002_IM-0004-2001.png   CXR1002_IM-0004-1001.png              1  "
      ]
     },
     "execution_count": 6,
     "metadata": {},
     "output_type": "execute_result"
    }
   ],
   "source": [
    "df2['Caption_count'] = df2.groupby(['Caption'])['Number'].transform('count')\n",
    "df2.head()"
   ]
  },
  {
   "cell_type": "markdown",
   "id": "4c7a0082",
   "metadata": {},
   "source": [
    "**Most of the above captions have similar meaning, that means having disease is rare and the data is not uniform in terms of the captions**"
   ]
  },
  {
   "cell_type": "code",
   "execution_count": null,
   "id": "b219ba34",
   "metadata": {},
   "outputs": [],
   "source": [
    "df2[df2.Caption_count < 6]['Caption_count'].value_counts() #39 types of captions are available in the dataset"
   ]
  },
  {
   "cell_type": "code",
   "execution_count": null,
   "id": "f6e1c845",
   "metadata": {
    "scrolled": false
   },
   "outputs": [],
   "source": [
    "\n",
    "df_counts_unique = df2.Caption_count.value_counts().reset_index()\n",
    "df_counts_unique['Caption_count_correct'] = df_counts_unique['Caption_count']/df_counts_unique['index']\n",
    "\n",
    "plt.figure(figsize=(12,8))\n",
    "ax = sns.barplot(x='index', y= 'Caption_count_correct', data = df_counts_unique)\n",
    "plt.xlabel(\"Number of counts for each unique caption \")\n",
    "plt.ylabel(\"Count\")\n",
    "plt.title(\"Frequencies of counts of unique caption\")\n",
    "plt.show()"
   ]
  },
  {
   "cell_type": "code",
   "execution_count": null,
   "id": "5a5d9ba0",
   "metadata": {},
   "outputs": [],
   "source": [
    "df_counts_unique_wt1 = df_counts_unique[df_counts_unique['index'] != 1]\n",
    "\n",
    "plt.figure(figsize=(12,8))\n",
    "ax = sns.barplot(x='index', y= 'Caption_count_correct', data = df_counts_unique_wt1)\n",
    "plt.xlabel(\"Number of counts for each unique caption \")\n",
    "plt.ylabel(\"Count\")\n",
    "plt.title(\"Unique instances for same Number of counts of unique caption\")\n",
    "plt.show()"
   ]
  },
  {
   "cell_type": "markdown",
   "id": "5994881a",
   "metadata": {},
   "source": [
    "# Creating train test Dataset"
   ]
  },
  {
   "cell_type": "code",
   "execution_count": 7,
   "id": "e6527488",
   "metadata": {},
   "outputs": [],
   "source": [
    "\n",
    "\n",
    "# Making separate df for rows having (>1 & < 6) caption count\n",
    "ovsmpl_df = df2[(df2.Caption_count < 6) & (df2.Caption_count > 1)]\n",
    "resampled = resample(ovsmpl_df, n_samples = int(0.2*ovsmpl_df.shape[0]), \n",
    "                     replace=False, random_state=42)\n",
    "\n",
    "# Making separate df for rows having (==1) caption count\n",
    "ovsmpl_df_count1 = df2[df2.Caption_count == 1]\n",
    "resampled_count1 = resample(ovsmpl_df_count1, n_samples = int(0.2*ovsmpl_df_count1.shape[0]),\n",
    "                            replace=False, random_state=43)\n",
    "\n",
    "df3 = df2.drop(ovsmpl_df.index, axis=0)\n",
    "df3 = df3.drop(ovsmpl_df_count1.index, axis=0)\n",
    "\n",
    "train, test = train_test_split(df3, stratify = df3['Caption'].values, test_size=0.2, random_state=42)\n",
    "\n",
    "test = test.append(resampled)\n",
    "test = test.append(resampled_count1)\n",
    "test = test.reset_index(drop=True)\n",
    "\n",
    "ovsmpl_df = ovsmpl_df.drop(resampled.index, axis=0)\n",
    "ovsmpl_df_count1 = ovsmpl_df_count1.drop(resampled_count1.index, axis=0)\n",
    "\n",
    "train = train.append(ovsmpl_df)\n",
    "train = train.append(ovsmpl_df_count1)"
   ]
  },
  {
   "cell_type": "code",
   "execution_count": null,
   "id": "470f8e7d",
   "metadata": {},
   "outputs": [],
   "source": [
    "print(f'Train shape: {train.shape}\\nTest shape:  {test.shape}') "
   ]
  },
  {
   "cell_type": "code",
   "execution_count": null,
   "id": "5886a226",
   "metadata": {},
   "outputs": [],
   "source": [
    "train.head()"
   ]
  },
  {
   "cell_type": "code",
   "execution_count": null,
   "id": "bed3d121",
   "metadata": {},
   "outputs": [],
   "source": [
    "def get_img_features(df, input_size):\n",
    "    path = \"/users/vspvikram/Downloads/AML_project/NLMCXR_png/\"\n",
    "    Xnet_features = {}\n",
    "    for i in range(len(df)):\n",
    "        image1 = cv2.imread(os.path.join(path, df.iloc[i][\"Image1\"].lstrip()), cv2.IMREAD_UNCHANGED)/255\n",
    "        image1 = cv2.resize(image1, (input_size[0], input_size[1]), interpolation = cv2.INTER_NEAREST)\n",
    "        image1 = np.array(image1).reshape(1,input_size[0],input_size[1],input_size[2])\n",
    "        \n",
    "        image2 = cv2.imread(os.path.join(path, df.iloc[i][\"Image2\"].lstrip()), cv2.IMREAD_UNCHANGED)/255\n",
    "        image2 = cv2.resize(image2, (input_size[0], input_size[1]), interpolation = cv2.INTER_NEAREST)\n",
    "        image2 = np.array(image2).reshape(1,input_size[0],input_size[1],input_size[2])\n",
    "\n",
    "        en_model = Encoder()\n",
    "        en_model.build(input_shape = (None, input_size[0],input_size[1],input_size[2]))\n",
    "\n",
    "        image1_features = en_model.predict(image1)\n",
    "        image2_features = en_model.predict(image2)\n",
    "        input_concat = np.concatenate((image1_features, image2_features), axis=1)\n",
    "\n",
    "        Xnet_features[int(df.iloc[i]['Number'])] = input_concat\n",
    "    return Xnet_features"
   ]
  },
  {
   "cell_type": "code",
   "execution_count": null,
   "id": "6e2876eb",
   "metadata": {},
   "outputs": [],
   "source": [
    "en_output = get_img_features(test.iloc[1:3], (224,224,3))"
   ]
  },
  {
   "cell_type": "code",
   "execution_count": null,
   "id": "37428e6f",
   "metadata": {},
   "outputs": [],
   "source": [
    "len(en_output[131][0])"
   ]
  },
  {
   "cell_type": "code",
   "execution_count": null,
   "id": "88d7a902",
   "metadata": {},
   "outputs": [],
   "source": [
    "class Dataset():\n",
    "    def __init__(self, df,  path, max_pad,\n",
    "                 tokenizer, input_size = (224,224,3)):\n",
    "        self.image1 = df.Image1\n",
    "        self.image2 = df.Image2\n",
    "        \n",
    "        self.number = df.Number\n",
    "        self.path = path\n",
    "        self.input_size = input_size\n",
    "        self.pad = max_pad\n",
    "        \n",
    "        # preprocessing on the text\n",
    "        # self.caption = df[caption_col].apply(lambda x: text_preprocess(x))\n",
    "        self.tokenizer = tokenizer\n",
    "        self.caption = df.Caption\n",
    "    \n",
    "        \n",
    "    def __getitem__(self, i):\n",
    "        image1 = cv2.imread(os.path.join(self.path, self.image1.iloc[i].lstrip()), cv2.IMREAD_UNCHANGED)/255\n",
    "        image1 = cv2.resize(image1, (self.input_size[0], self.input_size[1]), interpolation = cv2.INTER_NEAREST)\n",
    "        image1 = np.array(image1).reshape(1,self.input_size[0],self.input_size[1],self.input_size[2])\n",
    "        \n",
    "        image2 = cv2.imread(os.path.join(self.path, self.image2.iloc[i].lstrip()), cv2.IMREAD_UNCHANGED)/255\n",
    "        image2 = cv2.resize(image2, (self.input_size[0], self.input_size[1]), interpolation = cv2.INTER_NEAREST)\n",
    "        image2 = np.array(image2).reshape(1,self.input_size[0],self.input_size[1],self.input_size[2])\n",
    "        \n",
    "        # return the caption value\n",
    "        caption = self.tokenizer.texts_to_sequences(self.caption.iloc[i:i+1])\n",
    "        caption = pad_sequences(caption, maxlen = self.pad, padding = 'post')\n",
    "        \n",
    "        \n",
    "        return image1, image2, caption\n",
    "    \n",
    "    def text_preprocess(self, capt):\n",
    "        capt = capt.split()\n",
    "\n",
    "        capt = [word.lower() for word in capt]\n",
    "\n",
    "        # remove punctuations from the string; like $#&\n",
    "        table = str.maketrans('', '', string.punctuation)\n",
    "        capt = [word.translate(table) for word in capt]\n",
    "\n",
    "        # removing the hanging letters like s or t\n",
    "        capt = [word for word in capt if len(word)>1] \n",
    "        capt = [word for word in capt if word not in STOP_WORDS]\n",
    "\n",
    "        return ' '.join(capt)"
   ]
  },
  {
   "cell_type": "code",
   "execution_count": 9,
   "id": "313555e0",
   "metadata": {},
   "outputs": [
    {
     "data": {
      "text/plain": [
       "1300"
      ]
     },
     "execution_count": 9,
     "metadata": {},
     "output_type": "execute_result"
    }
   ],
   "source": [
    "vocabulary = set()\n",
    "for i in range(len(train)):\n",
    "    vocabulary.update(train.iloc[i]['Caption'].split())\n",
    "len(vocabulary)"
   ]
  },
  {
   "cell_type": "code",
   "execution_count": 80,
   "id": "51ac1f51",
   "metadata": {},
   "outputs": [],
   "source": [
    "from tensorflow.keras.preprocessing.text import Tokenizer\n",
    "a = \"Now you4 sh&ould go bAck! go now now now go you4\"\n",
    "token = Tokenizer(num_words=15000)\n",
    "token.fit_on_texts(train['Caption'])"
   ]
  },
  {
   "cell_type": "code",
   "execution_count": 81,
   "id": "80c25711",
   "metadata": {},
   "outputs": [
    {
     "data": {
      "text/plain": [
       "{'num_words': 15000,\n",
       " 'filters': '!\"#$%&()*+,-./:;<=>?@[\\\\]^_`{|}~\\t\\n',\n",
       " 'lower': True,\n",
       " 'split': ' ',\n",
       " 'char_level': False,\n",
       " 'oov_token': None,\n",
       " 'document_count': 2567,\n",
       " 'word_counts': '{\"no\": 2088, \"acute\": 1551, \"cardiopulmonary\": 1091, \"abnormality\": 563, \"disease\": 698, \"radiographic\": 96, \"process\": 224, \"findings\": 312, \"evidence\": 212, \"of\": 610, \"active\": 237, \"heart\": 227, \"size\": 212, \"is\": 260, \"normal\": 359, \"and\": 395, \"the\": 525, \"lungs\": 271, \"are\": 176, \"clear\": 248, \"negative\": 98, \"for\": 155, \"1\": 504, \"pulmonary\": 319, \"comparison\": 59, \"xxxx\": 750, \"well\": 48, \"expanded\": 43, \"mediastinal\": 120, \"contour\": 67, \"within\": 109, \"limits\": 107, \"identified\": 89, \"stable\": 173, \"chest\": 262, \"preoperative\": 14, \"abnormalities\": 134, \"intrathoracic\": 15, \"finding\": 29, \"exam\": 44, \"x\": 54, \"emphysema\": 46, \"without\": 107, \"or\": 266, \"cardiac\": 38, \"pleural\": 223, \"cardiomediastinal\": 18, \"silhouette\": 47, \"vasculature\": 24, \"appears\": 23, \"there\": 85, \"focal\": 103, \"air\": 35, \"space\": 22, \"consolidation\": 82, \"effusion\": 156, \"pneumothorax\": 88, \"hypoinflation\": 20, \"with\": 306, \"visible\": 19, \"low\": 75, \"lung\": 217, \"volumes\": 67, \"old\": 17, \"granulomatous\": 28, \"hyperexpanded\": 22, \"but\": 24, \"infiltrate\": 68, \"right\": 379, \"lower\": 81, \"lobe\": 135, \"pneumonia\": 99, \"copd\": 29, \"cardiothoracic\": 5, \"unremarkable\": 32, \"examination\": 14, \"radiograph\": 28, \"otherwise\": 43, \"borderline\": 22, \"cardiomegaly\": 151, \"specifically\": 10, \"tuberculous\": 5, \"film\": 12, \"chronic\": 64, \"changes\": 87, \"as\": 33, \"described\": 6, \"tuberculosis\": 41, \"mild\": 128, \"change\": 40, \"hyperinflated\": 17, \"trapping\": 7, \"versus\": 44, \"inspiratory\": 8, \"appearance\": 40, \"limited\": 19, \"quality\": 6, \"shows\": 3, \"definite\": 31, \"opacity\": 76, \"seen\": 72, \"contours\": 16, \"effusions\": 92, \"infiltrates\": 19, \"radiographs\": 9, \"visualized\": 9, \"tb\": 3, \"parenchyma\": 8, \"airspace\": 123, \"edema\": 112, \"upper\": 109, \"unchanged\": 32, \"small\": 74, \"bilateral\": 73, \"end\": 3, \"report\": 3, \"superimposed\": 18, \"thoracic\": 44, \"bibasilar\": 47, \"atelectasis\": 180, \"mildly\": 22, \"from\": 38, \"prior\": 55, \"imaging\": 16, \"please\": 12, \"note\": 4, \"that\": 7, \"fractures\": 27, \"may\": 106, \"not\": 34, \"be\": 118, \"demonstrated\": 6, \"consider\": 25, \"additional\": 4, \"clinically\": 18, \"warranted\": 7, \"suspicious\": 12, \"nodules\": 51, \"masses\": 28, \"diffuse\": 6, \"fibrosis\": 16, \"status\": 7, \"post\": 10, \"left\": 295, \"mastectomy\": 1, \"central\": 25, \"vascular\": 32, \"congestion\": 22, \"2\": 255, \"elevated\": 12, \"hemidiaphragm\": 28, \"basilar\": 72, \"subsegmental\": 32, \"3\": 55, \"extensive\": 7, \"shoulder\": 9, \"degenerative\": 26, \"subluxation\": 1, \"dislocation\": 2, \"possibly\": 22, \"suggest\": 16, \"clinical\": 23, \"correlation\": 18, \"slightly\": 11, \"enlarged\": 21, \"aortic\": 23, \"calcification\": 6, \"along\": 4, \"wall\": 4, \"compatible\": 31, \"thickening\": 15, \"some\": 18, \"loculated\": 2, \"accompanied\": 1, \"adjacent\": 6, \"base\": 65, \"round\": 5, \"projecting\": 13, \"to\": 181, \"hilum\": 6, \"on\": 70, \"pa\": 7, \"view\": 28, \"lateral\": 49, \"represent\": 66, \"discoid\": 1, \"fluid\": 13, \"associated\": 12, \"aspect\": 3, \"fissure\": 2, \"opacities\": 84, \"scarring\": 66, \"inflammatory\": 8, \"which\": 46, \"more\": 10, \"conspicuous\": 4, \"previous\": 25, \"blunting\": 16, \"costophrenic\": 25, \"sulcus\": 3, \"could\": 38, \"secondary\": 21, \"a\": 87, \"prominence\": 19, \"near\": 6, \"representing\": 11, \"ascending\": 4, \"aorta\": 29, \"lymphadenopathy\": 9, \"ct\": 36, \"contrast\": 16, \"helpful\": 15, \"further\": 56, \"evaluation\": 37, \"perihilar\": 23, \"due\": 21, \"bronchiectasis\": 4, \"vague\": 8, \"nodular\": 26, \"in\": 192, \"zone\": 2, \"dilated\": 4, \"bronchi\": 1, \"filled\": 1, \"mucous\": 1, \"areas\": 4, \"peribronchial\": 3, \"width\": 1, \"supine\": 1, \"ap\": 5, \"technique\": 10, \"hilar\": 29, \"calcifications\": 12, \"very\": 9, \"anterior\": 20, \"wedge\": 5, \"deformity\": 17, \"midthoracic\": 10, \"vertebrae\": 2, \"t7\": 1, \"age\": 14, \"indeterminate\": 12, \"correlate\": 10, \"tenderness\": 5, \"displaced\": 9, \"rib\": 38, \"question\": 14, \"posterior\": 21, \"10\": 2, \"fracture\": 27, \"interval\": 39, \"improvement\": 3, \"aeration\": 5, \"bases\": 9, \"residual\": 9, \"questionable\": 5, \"nonspecific\": 7, \"mediastinum\": 19, \"repeat\": 2, \"cxr\": 1, \"if\": 50, \"any\": 5, \"concern\": 11, \"scattered\": 12, \"decreased\": 2, \"continued\": 10, \"innumerable\": 1, \"soft\": 11, \"tissue\": 10, \"bone\": 6, \"bony\": 19, \"thorax\": 9, \"discrete\": 2, \"adenopathy\": 18, \"significant\": 16, \"abnormal\": 10, \"separation\": 2, \"injury\": 11, \"pain\": 1, \"indicated\": 13, \"dedicated\": 6, \"films\": 7, \"cortical\": 2, \"artery\": 6, \"severe\": 15, \"irregular\": 5, \"parenchymal\": 14, \"this\": 74, \"however\": 11, \"recommend\": 31, \"remote\": 2, \"outside\": 7, \"available\": 14, \"determine\": 2, \"long\": 1, \"term\": 2, \"stability\": 7, \"none\": 2, \"short\": 2, \"4\": 22, \"months\": 3, \"coronal\": 1, \"sagittal\": 1, \"reformatted\": 1, \"images\": 8, \"study\": 31, \"would\": 23, \"also\": 5, \"these\": 16, \"were\": 9, \"at\": 40, \"institution\": 1, \"malignancy\": 8, \"cannot\": 9, \"confidently\": 1, \"excluded\": 9, \"volume\": 18, \"demonstrates\": 2, \"amount\": 4, \"increased\": 31, \"markings\": 16, \"particularly\": 1, \"region\": 11, \"related\": 10, \"history\": 14, \"bronchitis\": 2, \"streaky\": 24, \"midlung\": 29, \"vascularity\": 17, \"subtle\": 3, \"density\": 22, \"medial\": 15, \"obscuring\": 1, \"given\": 12, \"skeletal\": 1, \"structures\": 21, \"fusion\": 4, \"interstitial\": 68, \"infection\": 33, \"body\": 10, \"habitus\": 1, \"lordotic\": 4, \"projection\": 3, \"t\": 1, \"spine\": 38, \"noted\": 31, \"c\": 1, \"critical\": 9, \"result\": 7, \"notification\": 6, \"documented\": 6, \"through\": 8, \"primordial\": 9, \"moderate\": 24, \"increase\": 4, \"unclear\": 3, \"whether\": 1, \"pericardial\": 7, \"widened\": 1, \"maybe\": 3, \"prominent\": 31, \"fat\": 5, \"tortuous\": 19, \"mass\": 22, \"recommended\": 30, \"emphysematous\": 13, \"resolution\": 27, \"patchy\": 32, \"concerning\": 11, \"favoring\": 1, \"granulomas\": 17, \"bronchovascular\": 23, \"crowding\": 24, \"suggestive\": 19, \"obstructive\": 7, \"minimal\": 45, \"ill\": 6, \"defined\": 7, \"oblong\": 1, \"based\": 4, \"exact\": 2, \"followup\": 32, \"suggested\": 4, \"confirm\": 5, \"clearing\": 4, \"cuffing\": 2, \"fullness\": 3, \"regions\": 3, \"than\": 18, \"can\": 5, \"manifestations\": 1, \"reactive\": 4, \"airways\": 1, \"lobar\": 15, \"after\": 6, \"appropriate\": 10, \"therapy\": 3, \"8\": 8, \"12\": 2, \"weeks\": 8, \"exclude\": 10, \"an\": 19, \"underlying\": 13, \"slight\": 11, \"failure\": 16, \"collapse\": 5, \"consistent\": 26, \"improved\": 9, \"widening\": 2, \"alveolar\": 17, \"hypoventilation\": 7, \"typical\": 21, \"over\": 17, \"appearing\": 12, \"middle\": 24, \"most\": 27, \"follow\": 4, \"up\": 8, \"ensure\": 6, \"configuration\": 6, \"appear\": 29, \"osseous\": 12, \"free\": 5, \"appreciated\": 4, \"beneath\": 1, \"hemidiaphragms\": 2, \"minimally\": 2, \"bilaterally\": 9, \"atypical\": 11, \"infectious\": 8, \"compared\": 7, \"calcified\": 56, \"granuloma\": 30, \"juxtahilar\": 1, \"setting\": 6, \"following\": 7, \"treatment\": 8, \"document\": 10, \"venous\": 8, \"hypertension\": 10, \"area\": 10, \"lingula\": 9, \"asymmetric\": 4, \"apical\": 20, \"attributable\": 1, \"sternoclavicular\": 1, \"joint\": 5, \"nodule\": 34, \"entirely\": 3, \"evaluate\": 8, \"recommendations\": 3, \"discussed\": 7, \"department\": 2, \"m\": 3, \"indicate\": 3, \"lingular\": 9, \"large\": 24, \"indistinct\": 3, \"margination\": 3, \"assessment\": 1, \"obscured\": 3, \"reflecting\": 2, \"sequela\": 5, \"patient\": 25, \"s\": 20, \"known\": 12, \"sarcoidosis\": 5, \"greater\": 10, \"postsurgical\": 11, \"colonic\": 1, \"interposition\": 1, \"overlying\": 14, \"ectasia\": 8, \"tortuosity\": 10, \"similar\": 7, \"favored\": 3, \"stigmata\": 1, \"cell\": 1, \"cholelithiasis\": 1, \"circumscribed\": 1, \"structure\": 2, \"arterial\": 3, \"aneurysm\": 6, \"enlargement\": 15, \"atrial\": 3, \"appendage\": 1, \"online\": 1, \"should\": 3, \"considered\": 3, \"pleuritis\": 1, \"sympathetic\": 1, \"pancreatitis\": 2, \"ectatic\": 5, \"distal\": 11, \"clavicle\": 8, \"better\": 5, \"today\": 6, \"has\": 10, \"fibrotic\": 4, \"throughout\": 5, \"both\": 7, \"sided\": 26, \"subclavian\": 7, \"catheter\": 19, \"tip\": 26, \"approximating\": 2, \"svc\": 8, \"suprahilar\": 4, \"elevation\": 12, \"measuring\": 7, \"approximately\": 8, \"cm\": 21, \"apex\": 11, \"axilla\": 1, \"level\": 12, \"incompletely\": 3, \"evaluated\": 4, \"recent\": 5, \"br\": 1, \"metastatic\": 15, \"bandlike\": 4, \"by\": 12, \"arm\": 1, \"grossly\": 15, \"5\": 21, \"spaces\": 3, \"6\": 11, \"7\": 4, \"hiatal\": 18, \"hernia\": 18, \"suspected\": 7, \"6th\": 5, \"7th\": 5, \"ribs\": 13, \"uncertain\": 3, \"acuity\": 1, \"multifocal\": 2, \"part\": 3, \"difficult\": 5, \"paratracheal\": 9, \"correlated\": 1, \"represents\": 10, \"shadows\": 5, \"curvature\": 6, \"endplate\": 2, \"spurring\": 10, \"mid\": 14, \"grade\": 2, \"anterolisthesis\": 1, \"vertebral\": 11, \"t10\": 2, \"t11\": 2, \"marked\": 6, \"diaphragm\": 6, \"line\": 8, \"atherosclerotic\": 6, \"kyphotic\": 1, \"degenerated\": 1, \"osteopenia\": 3, \"multilevel\": 1, \"deformities\": 4, \"poorly\": 1, \"possible\": 20, \"probably\": 5, \"studies\": 5, \"lymph\": 13, \"arteries\": 6, \"enhanced\": 2, \"performed\": 4, \"lobulated\": 1, \"periphery\": 4, \"will\": 3, \"require\": 1, \"remainder\": 1, \"development\": 4, \"scoliosis\": 4, \"before\": 11, \"haziness\": 1, \"explained\": 1, \"overlapping\": 3, \"useful\": 3, \"retrocardiac\": 8, \"corresponding\": 2, \"removal\": 3, \"tube\": 10, \"recurrence\": 2, \"less\": 5, \"pneumonitis\": 6, \"onset\": 2, \"dyspnea\": 1, \"positioning\": 1, \"9th\": 2, \"reflects\": 2, \"platelike\": 3, \"decreasing\": 4, \"probable\": 18, \"surgery\": 7, \"significantly\": 2, \"remaining\": 1, \"obliteration\": 1, \"sinus\": 2, \"side\": 3, \"alternatively\": 1, \"detailed\": 2, \"decubitus\": 5, \"views\": 5, \"since\": 15, \"scapular\": 2, \"acromioclavicular\": 1, \"neck\": 4, \"subglottic\": 1, \"prevertebral\": 1, \"rotation\": 4, \"head\": 2, \"epiglottis\": 1, \"caliber\": 1, \"injuries\": 3, \"present\": 7, \"adequately\": 2, \"placed\": 1, \"subpleural\": 1, \"overload\": 3, \"viral\": 1, \"bronchiolitis\": 2, \"scar\": 9, \"exaggerated\": 2, \"silhouettes\": 2, \"provide\": 1, \"overt\": 9, \"recess\": 3, \"overall\": 8, \"mixed\": 1, \"increasing\": 1, \"superior\": 4, \"segment\": 5, \"worsening\": 8, \"tumor\": 3, \"dislocations\": 3, \"segments\": 1, \"worse\": 5, \"causing\": 1, \"persistent\": 14, \"identify\": 2, \"location\": 4, \"previously\": 5, \"peripheral\": 7, \"opacification\": 4, \"somewhat\": 2, \"consideration\": 5, \"does\": 5, \"resolve\": 2, \"characterization\": 8, \"obvious\": 4, \"nondisplaced\": 3, \"fractured\": 1, \"sternotomy\": 9, \"complication\": 1, \"lucency\": 5, \"under\": 1, \"intraperitoneal\": 2, \"numerous\": 5, \"dominant\": 1, \"diagnostic\": 1, \"considerations\": 4, \"include\": 4, \"primary\": 7, \"carcinoma\": 1, \"brain\": 1, \"few\": 6, \"relatively\": 4, \"dense\": 6, \"establish\": 2, \"anticipated\": 4, \"senescent\": 6, \"destructive\": 1, \"lesions\": 4, \"great\": 1, \"mm\": 24, \"underneath\": 1, \"second\": 1, \"dextroscoliosis\": 5, \"irregularity\": 3, \"high\": 4, \"cross\": 1, \"sectional\": 1, \"verify\": 1, \"densities\": 5, \"5th\": 2, \"healing\": 3, \"rule\": 2, \"out\": 3, \"veriphy\": 1, \"message\": 2, \"was\": 9, \"sent\": 1, \"regarding\": 2, \"hours\": 5, \"redemonstration\": 1, \"developing\": 4, \"feeding\": 1, \"gastroesophageal\": 1, \"junction\": 2, \"sclerotic\": 3, \"focus\": 5, \"although\": 6, \"artifact\": 5, \"scan\": 14, \"piriform\": 1, \"only\": 6, \"parapneumonic\": 1, \"lipoma\": 1, \"lines\": 1, \"tubes\": 2, \"above\": 9, \"top\": 6, \"lumbar\": 5, \"interface\": 1, \"review\": 2, \"staff\": 1, \"radiologist\": 3, \"core\": 1, \"margin\": 1, \"sternum\": 2, \"addition\": 3, \"lentiform\": 1, \"hyperdensity\": 1, \"callus\": 2, \"formation\": 1, \"ovoid\": 1, \"projectional\": 2, \"solid\": 1, \"assess\": 1, \"dr\": 7, \"crowded\": 2, \"series\": 3, \"circular\": 1, \"portion\": 2, \"arteriographic\": 1, \"foot\": 2, \"erosions\": 1, \"hyperinflation\": 7, \"eventration\": 5, \"replacement\": 2, \"accentuation\": 1, \"appreciable\": 1, \"it\": 1, \"densely\": 2, \"kv\": 1, \"p\": 3, \"obtained\": 2, \"confirmation\": 2, \"addended\": 1, \"questions\": 3, \"interpretation\": 2, \"symptoms\": 1, \"ij\": 2, \"approach\": 2, \"reaches\": 1, \"brachiocephalic\": 1, \"confluence\": 1, \"essentially\": 2, \"resolved\": 2, \"radiodense\": 1, \"foreign\": 1, \"bodies\": 2, \"scoliotic\": 1, \"t9\": 1, \"bibasal\": 1, \"infrahilar\": 2, \"thoracentesis\": 1, \"radiographically\": 3, \"apparent\": 3, \"etiology\": 5, \"hemoptysis\": 1, \"cabg\": 4, \"comparisons\": 2, \"coronary\": 3, \"bypass\": 2, \"grafting\": 2, \"cleared\": 2, \"characterize\": 2, \"moderately\": 3, \"proximal\": 2, \"humerus\": 4, \"paralysis\": 1, \"fluoroscopic\": 1, \"nasopharynx\": 1, \"intravenous\": 3, \"potential\": 1, \"exchange\": 1, \"multiple\": 11, \"one\": 4, \"like\": 2, \"discuss\": 2, \"case\": 2, \"thanks\": 2, \"calcific\": 2, \"25\": 1, \"residua\": 1, \"healed\": 3, \"osteocartilaginous\": 1, \"lesion\": 4, \"conceivably\": 1, \"see\": 3, \"followed\": 3, \"azygos\": 3, \"incidentally\": 3, \"displacement\": 1, \"closely\": 1, \"skin\": 1, \"surface\": 1, \"alignment\": 1, \"tracheostomy\": 5, \"picc\": 8, \"hemithorax\": 5, \"expected\": 1, \"vein\": 6, \"repositioning\": 1, \"vp\": 2, \"shunt\": 2, \"tubing\": 2, \"nephrostomy\": 1, \"larger\": 1, \"differential\": 15, \"diagnosis\": 11, \"includes\": 8, \"aspiration\": 5, \"distribution\": 1, \"earlier\": 1, \"technically\": 2, \"reticulonodular\": 2, \"inferior\": 2, \"knee\": 8, \"narrowing\": 2, \"compartment\": 4, \"patellofemoral\": 1, \"pneumoperitoneum\": 1, \"attributed\": 1, \"abdominal\": 8, \"hyper\": 1, \"suggesting\": 8, \"hyperlucent\": 1, \"cachexia\": 1, \"pectus\": 3, \"excavatum\": 1, \"either\": 2, \"fibronodular\": 1, \"involving\": 5, \"disruption\": 1, \"needed\": 2, \"suggests\": 4, \"component\": 1, \"persist\": 2, \"clarification\": 1, \"clavicular\": 1, \"nipple\": 4, \"nonenlarged\": 1, \"epigastric\": 1, \"quadrant\": 4, \"transection\": 1, \"noncalcified\": 1, \"benefit\": 1, \"consolidations\": 1, \"breast\": 2, \"implants\": 1, \"t6\": 1, \"resection\": 2, \"overlap\": 1, \"first\": 3, \"kyphosis\": 2, \"pattern\": 8, \"including\": 2, \"clips\": 9, \"valve\": 4, \"evident\": 1, \"progression\": 4, \"hodgkin\": 1, \"lymphoma\": 2, \"aicd\": 1, \"intact\": 3, \"abdomen\": 13, \"tenting\": 1, \"clipped\": 1, \"epicardial\": 2, \"pads\": 1, \"dish\": 1, \"17\": 1, \"characterized\": 4, \"shaped\": 3, \"developmental\": 1, \"anomaly\": 1, \"partially\": 1, \"t12\": 2, \"l1\": 4, \"levoscoliosis\": 2, \"thoracolumbar\": 3, \"oligemia\": 1, \"redemonstrated\": 3, \"technical\": 4, \"factors\": 4, \"retained\": 2, \"renal\": 1, \"collecting\": 1, \"metastasis\": 2, \"hyperexpansion\": 5, \"indolent\": 1, \"here\": 1, \"perhaps\": 1, \"chf\": 6, \"diameter\": 1, \"iv\": 1, \"elbow\": 1, \"forearm\": 1, \"traumatic\": 2, \"ankle\": 2, \"midfoot\": 1, \"calcaneal\": 1, \"enthesopathy\": 1, \"retraction\": 2, \"reduced\": 1, \"suspicion\": 2, \"granulomata\": 2, \"subcutaneous\": 1, \"tissues\": 1, \"gross\": 3, \"presumably\": 1, \"substantial\": 2, \"shift\": 3, \"relates\": 1, \"mechanical\": 1, \"obstruction\": 2, \"sized\": 2, \"smaller\": 1, \"sensitive\": 1, \"detecting\": 1, \"lobes\": 4, \"surgical\": 5, \"loss\": 7, \"mri\": 1, \"conveyed\": 1, \"ordering\": 1, \"physician\": 1, \"communication\": 1, \"impression\": 2, \"2v\": 1, \"frontal\": 5, \"date\": 1, \"pm\": 2, \"shortness\": 1, \"breath\": 1, \"hypoinflated\": 2, \"motion\": 1, \"advanced\": 2, \"markedly\": 2, \"prosthetic\": 1, \"highly\": 2, \"notified\": 3, \"results\": 5, \"telephone\": 5, \"acknowledged\": 2, \"receipt\": 4, \"8mm\": 3, \"lymphoproliferative\": 1, \"inhalational\": 1, \"complete\": 4, \"worrisome\": 1, \"scapula\": 2, \"drainage\": 1, \"again\": 3, \"processes\": 1, \"basal\": 2, \"reflect\": 9, \"recesses\": 1, \"esophagogastric\": 2, \"coursing\": 1, \"inferiorly\": 2, \"into\": 2, \"stomach\": 4, \"included\": 1, \"flexion\": 1, \"been\": 6, \"removed\": 5, \"postoperative\": 3, \"several\": 1, \"pathologic\": 1, \"bowel\": 5, \"dissection\": 1, \"voluntary\": 1, \"considering\": 3, \"inflammation\": 4, \"cavity\": 3, \"hydropneumothorax\": 1, \"empyema\": 1, \"indeterminant\": 2, \"placement\": 3, \"humeral\": 1, \"orthopedic\": 1, \"attention\": 1, \"desired\": 2, \"actual\": 1, \"satisfactory\": 1, \"position\": 2, \"trachea\": 1, \"9\": 3, \"background\": 1, \"doctor\": 1, \"service\": 1, \"142\": 1, \"11\": 1, \"degree\": 1, \"vertebra\": 1, \"two\": 2, \"subjacent\": 1, \"posteriorly\": 2, \"another\": 1, \"origin\": 2, \"currently\": 1, \"islands\": 1, \"costochondral\": 1, \"junctions\": 1, \"early\": 5, \"cystic\": 3, \"exacerbation\": 1, \"posttraumatic\": 1, \"gunshot\": 1, \"wound\": 1, \"13\": 1, \"14\": 1, \"ring\": 1, \"certainty\": 1, \"projects\": 3, \"something\": 1, \"external\": 1, \"bullous\": 3, \"benign\": 3, \"time\": 2, \"decrease\": 1, \"definitely\": 1, \"opportunistic\": 1, \"idiopathic\": 1, \"consolidative\": 1, \"suboptimal\": 1, \"inspiration\": 1, \"reactivation\": 1, \"other\": 3, \"scars\": 2, \"gallbladder\": 2, \"enteric\": 1, \"midline\": 1, \"bullet\": 1, \"overlies\": 1, \"l3\": 1, \"unknown\": 2, \"significance\": 2, \"located\": 2, \"rounded\": 2, \"projectile\": 1, \"until\": 1, \"exams\": 2, \"obliquely\": 1, \"oriented\": 1, \"12th\": 1, \"per\": 1, \"carina\": 3, \"cervical\": 3, \"sulci\": 1, \"dependent\": 1, \"raises\": 1, \"leftward\": 1, \"masslike\": 2, \"cancer\": 4, \"advised\": 1, \"contain\": 1, \"blunted\": 2, \"possibility\": 1, \"redistribution\": 2, \"cavitation\": 1, \"postprocedural\": 1, \"elsewhere\": 1, \"i\": 2, \"biapical\": 3, \"have\": 4, \"cavitary\": 3, \"largest\": 2, \"persists\": 1, \"medication\": 1, \"injection\": 1, \"its\": 2, \"cavoatrial\": 1, \"paraspinal\": 1, \"retrocrural\": 1, \"containing\": 2, \"liver\": 1, \"loops\": 1, \"suggestion\": 1, \"bronchitic\": 2, \"4th\": 2, \"radiography\": 1, \"discordant\": 2, \"notably\": 1, \"tips\": 2, \"stent\": 4, \"capping\": 1, \"reticular\": 2, \"mitral\": 1, \"annular\": 1, \"esophagus\": 1, \"constellation\": 1, \"congestive\": 2, \"parahilar\": 1, \"portacatheter\": 1, \"effort\": 1, \"reference\": 1, \"coiled\": 1, \"artifacts\": 1, \"embolization\": 1, \"procedure\": 1, \"below\": 2, \"atherosclerosis\": 3, \"ng\": 1, \"distention\": 1, \"correct\": 1, \"osteoarthritis\": 1, \"all\": 1, \"compartments\": 1, \"exposure\": 1, \"knees\": 1, \"nodularity\": 1, \"carinatum\": 2, \"7mm\": 1, \"non\": 1, \"subpulmonic\": 2, \"though\": 1, \"symmetrically\": 1, \"aerated\": 1, \"peripherally\": 1, \"splenic\": 2, \"cyst\": 2, \"localized\": 4, \"thought\": 1, \"winged\": 1, \"supporting\": 1, \"transverse\": 1, \"collection\": 4, \"broken\": 1, \"fragment\": 1, \"loculation\": 1, \"radiation\": 2, \"layering\": 1, \"postop\": 2, \"improving\": 1, \"completely\": 2, \"airway\": 1, \"absence\": 2, \"interstitium\": 2, \"lumen\": 3, \"entering\": 1, \"coarse\": 1, \"epigastrium\": 1, \"image\": 1, \"pancreatic\": 1, \"pneumomediastinum\": 1, \"buckling\": 1, \"cortex\": 1, \"energy\": 1, \"summation\": 1, \"internal\": 3, \"jugular\": 3, \"perform\": 1, \"thoracotomy\": 1, \"cholecystectomy\": 2, \"nonobstructive\": 1, \"compressive\": 1, \"neoplastic\": 1, \"dual\": 2, \"dialysis\": 1, \"projected\": 1, \"atrium\": 3, \"reviewed\": 1, \"lobectomy\": 1, \"developed\": 1, \"spinal\": 1, \"fixation\": 1, \"recurrent\": 1, \"almost\": 1, \"outflow\": 1, \"indicates\": 1, \"raise\": 1, \"metastases\": 3, \"pelvis\": 3, \"xray\": 1, \"multilobar\": 1, \"enlarging\": 1, \"extremity\": 2, \"terminates\": 1, \"showing\": 1, \"type\": 1, \"generalized\": 2, \"concomitant\": 1, \"lt\": 1, \"gt\": 1, \"raising\": 1, \"esophagectomy\": 1, \"imaged\": 1, \"pathology\": 2, \"innominate\": 2, \"focused\": 1, \"reaction\": 2, \"outward\": 1, \"now\": 2, \"partial\": 1, \"hemothorax\": 1, \"postobstructive\": 1, \"tricompartmental\": 1, \"reasonable\": 1, \"allow\": 1, \"presence\": 1, \"intra\": 2, \"diffusely\": 1, \"greatest\": 1, \"oblique\": 1, \"true\": 1, \"arthritic\": 1, \"hips\": 1, \"suture\": 1, \"material\": 1, \"confluent\": 2, \"employed\": 1, \"notify\": 1, \"referring\": 1, \"physicians\": 1, \"arising\": 1, \"flattened\": 1, \"occult\": 1, \"opportunity\": 2, \"assist\": 2, \"care\": 2, \"your\": 2, \"about\": 2, \"certified\": 2, \"xxxxpm\": 1, \"accepted\": 1, \"faxed\": 1, \"histoplasmoma\": 2, \"localize\": 1, \"suspect\": 1, \"informative\": 1, \"thyroid\": 1, \"op\": 1, \"medially\": 1, \"define\": 1, \"infracarinal\": 1, \"pneumothoraces\": 1, \"flowing\": 1, \"osteophytes\": 1, \"node\": 2, \"histoplasmosis\": 1, \"difference\": 1, \"accentuated\": 2, \"subsequent\": 1, \"strongly\": 1, \"malpositioned\": 1, \"neoplasm\": 1, \"workup\": 2, \"initiated\": 1, \"contrasted\": 1, \"suggestions\": 1, \"pronounced\": 1, \"postradiation\": 1, \"demineralization\": 1, \"combination\": 1, \"ruled\": 1, \"disc\": 1, \"inlet\": 1, \"overlie\": 1, \"pic\": 1, \"communicated\": 1, \"inability\": 1, \"definitively\": 1, \"nonemergent\": 1, \"single\": 1, \"nonsclerotic\": 2, \"infiltrative\": 1, \"prosthesis\": 1, \"between\": 1, \"8th\": 1, \"scans\": 1, \"cardiophrenic\": 1, \"technologist\": 1, \"examinations\": 2, \"exist\": 1, \"element\": 1, \"atelectatic\": 1, \"ventricle\": 1, \"incidental\": 1, \"scant\": 1, \"foci\": 1, \"remarkable\": 2, \"postinfectious\": 1, \"postinflammatory\": 1}',\n",
       " 'word_docs': '{\"cardiopulmonary\": 1091, \"no\": 1843, \"acute\": 1535, \"abnormality\": 562, \"disease\": 672, \"process\": 224, \"radiographic\": 96, \"findings\": 309, \"of\": 501, \"active\": 235, \"evidence\": 209, \"and\": 330, \"are\": 154, \"clear\": 246, \"lungs\": 268, \"is\": 200, \"heart\": 223, \"size\": 210, \"normal\": 307, \"the\": 329, \"for\": 148, \"negative\": 97, \"1\": 494, \"pulmonary\": 293, \"comparison\": 56, \"within\": 108, \"contour\": 67, \"mediastinal\": 115, \"stable\": 156, \"limits\": 105, \"xxxx\": 406, \"expanded\": 43, \"identified\": 85, \"well\": 47, \"chest\": 252, \"preoperative\": 14, \"abnormalities\": 132, \"intrathoracic\": 15, \"finding\": 27, \"exam\": 41, \"x\": 54, \"without\": 105, \"emphysema\": 45, \"or\": 232, \"pleural\": 206, \"cardiac\": 38, \"effusion\": 149, \"consolidation\": 82, \"pneumothorax\": 88, \"focal\": 103, \"cardiomediastinal\": 18, \"silhouette\": 47, \"vasculature\": 24, \"there\": 75, \"appears\": 21, \"space\": 22, \"air\": 33, \"hypoinflation\": 19, \"visible\": 18, \"with\": 265, \"low\": 75, \"lung\": 189, \"volumes\": 67, \"old\": 17, \"granulomatous\": 28, \"but\": 23, \"hyperexpanded\": 22, \"infiltrate\": 65, \"lobe\": 125, \"lower\": 75, \"right\": 292, \"pneumonia\": 99, \"copd\": 29, \"cardiothoracic\": 5, \"unremarkable\": 30, \"examination\": 14, \"radiograph\": 27, \"otherwise\": 43, \"borderline\": 22, \"cardiomegaly\": 151, \"tuberculous\": 5, \"specifically\": 10, \"film\": 12, \"as\": 27, \"chronic\": 61, \"changes\": 83, \"described\": 6, \"tuberculosis\": 40, \"mild\": 121, \"change\": 37, \"hyperinflated\": 17, \"trapping\": 7, \"versus\": 42, \"inspiratory\": 8, \"appearance\": 40, \"limited\": 19, \"quality\": 6, \"definite\": 31, \"shows\": 3, \"opacity\": 71, \"seen\": 70, \"infiltrates\": 19, \"effusions\": 92, \"contours\": 16, \"radiographs\": 9, \"visualized\": 8, \"tb\": 3, \"edema\": 111, \"airspace\": 121, \"parenchyma\": 8, \"upper\": 101, \"unchanged\": 30, \"bilateral\": 69, \"small\": 70, \"report\": 3, \"end\": 3, \"superimposed\": 18, \"thoracic\": 42, \"bibasilar\": 47, \"atelectasis\": 172, \"mildly\": 21, \"prior\": 52, \"from\": 34, \"imaging\": 16, \"may\": 93, \"be\": 94, \"fractures\": 25, \"demonstrated\": 6, \"not\": 32, \"consider\": 23, \"please\": 12, \"that\": 7, \"warranted\": 7, \"clinically\": 18, \"additional\": 4, \"note\": 4, \"suspicious\": 12, \"masses\": 27, \"nodules\": 48, \"fibrosis\": 15, \"diffuse\": 6, \"left\": 238, \"status\": 7, \"mastectomy\": 1, \"post\": 10, \"possibly\": 22, \"extensive\": 7, \"suggest\": 16, \"dislocation\": 2, \"congestion\": 22, \"shoulder\": 8, \"central\": 25, \"clinical\": 19, \"elevated\": 10, \"degenerative\": 23, \"hemidiaphragm\": 25, \"correlation\": 18, \"subsegmental\": 32, \"2\": 251, \"basilar\": 68, \"subluxation\": 1, \"3\": 53, \"vascular\": 32, \"aortic\": 22, \"enlarged\": 21, \"slightly\": 10, \"calcification\": 6, \"wall\": 4, \"compatible\": 29, \"represent\": 59, \"projecting\": 13, \"opacities\": 81, \"accompanied\": 1, \"loculated\": 2, \"base\": 59, \"thickening\": 14, \"previous\": 25, \"on\": 60, \"inflammatory\": 7, \"which\": 43, \"hilum\": 6, \"scarring\": 64, \"round\": 5, \"associated\": 12, \"some\": 11, \"view\": 26, \"discoid\": 1, \"conspicuous\": 4, \"more\": 9, \"along\": 3, \"lateral\": 42, \"to\": 146, \"adjacent\": 5, \"fluid\": 11, \"pa\": 7, \"aspect\": 3, \"fissure\": 2, \"a\": 70, \"could\": 34, \"secondary\": 19, \"blunting\": 16, \"costophrenic\": 22, \"sulcus\": 3, \"near\": 6, \"evaluation\": 35, \"prominence\": 18, \"further\": 55, \"lymphadenopathy\": 9, \"contrast\": 16, \"representing\": 11, \"aorta\": 29, \"ascending\": 3, \"ct\": 35, \"helpful\": 15, \"in\": 158, \"due\": 19, \"bronchiectasis\": 4, \"filled\": 1, \"vague\": 8, \"bronchi\": 1, \"nodular\": 25, \"dilated\": 4, \"perihilar\": 22, \"mucous\": 1, \"zone\": 2, \"peribronchial\": 3, \"areas\": 4, \"width\": 1, \"calcifications\": 10, \"hilar\": 29, \"vertebrae\": 2, \"age\": 14, \"very\": 9, \"technique\": 10, \"t7\": 1, \"displaced\": 9, \"tenderness\": 5, \"rib\": 36, \"midthoracic\": 9, \"supine\": 1, \"ap\": 5, \"deformity\": 15, \"indeterminate\": 11, \"correlate\": 10, \"wedge\": 5, \"anterior\": 19, \"posterior\": 21, \"10\": 2, \"fracture\": 25, \"question\": 14, \"aeration\": 5, \"improvement\": 3, \"interval\": 38, \"residual\": 8, \"questionable\": 5, \"bases\": 9, \"any\": 5, \"cxr\": 1, \"concern\": 11, \"if\": 44, \"repeat\": 2, \"mediastinum\": 19, \"nonspecific\": 7, \"scattered\": 11, \"decreased\": 2, \"continued\": 10, \"innumerable\": 1, \"bony\": 18, \"tissue\": 9, \"bone\": 5, \"thorax\": 9, \"soft\": 10, \"significant\": 16, \"adenopathy\": 17, \"discrete\": 2, \"separation\": 2, \"abnormal\": 10, \"pain\": 1, \"films\": 6, \"indicated\": 13, \"cortical\": 2, \"artery\": 6, \"dedicated\": 6, \"injury\": 9, \"malignancy\": 7, \"however\": 11, \"4\": 21, \"severe\": 14, \"remote\": 2, \"these\": 16, \"irregular\": 3, \"stability\": 7, \"reformatted\": 1, \"images\": 5, \"institution\": 1, \"long\": 1, \"were\": 9, \"short\": 2, \"excluded\": 9, \"study\": 30, \"confidently\": 1, \"none\": 2, \"available\": 10, \"parenchymal\": 13, \"months\": 3, \"outside\": 5, \"term\": 1, \"recommend\": 29, \"this\": 64, \"cannot\": 9, \"determine\": 2, \"would\": 22, \"sagittal\": 1, \"at\": 40, \"also\": 5, \"coronal\": 1, \"volume\": 17, \"amount\": 4, \"demonstrates\": 2, \"bronchitis\": 2, \"increased\": 27, \"region\": 11, \"related\": 10, \"history\": 14, \"particularly\": 1, \"markings\": 15, \"streaky\": 24, \"midlung\": 29, \"structures\": 15, \"given\": 11, \"subtle\": 3, \"density\": 20, \"vascularity\": 17, \"obscuring\": 1, \"skeletal\": 1, \"medial\": 15, \"interstitial\": 56, \"fusion\": 4, \"infection\": 31, \"notification\": 6, \"c\": 1, \"lordotic\": 4, \"body\": 10, \"noted\": 25, \"t\": 1, \"through\": 8, \"projection\": 3, \"primordial\": 9, \"critical\": 9, \"documented\": 6, \"habitus\": 1, \"spine\": 34, \"result\": 7, \"fat\": 5, \"mass\": 21, \"prominent\": 31, \"pericardial\": 7, \"maybe\": 3, \"increase\": 4, \"recommended\": 29, \"moderate\": 24, \"tortuous\": 19, \"unclear\": 3, \"widened\": 1, \"whether\": 1, \"resolution\": 27, \"emphysematous\": 13, \"concerning\": 11, \"granulomas\": 16, \"favoring\": 1, \"patchy\": 32, \"crowding\": 22, \"bronchovascular\": 23, \"suggestive\": 19, \"obstructive\": 7, \"minimal\": 41, \"ill\": 6, \"oblong\": 1, \"exact\": 2, \"defined\": 7, \"clearing\": 3, \"followup\": 31, \"based\": 4, \"suggested\": 3, \"confirm\": 5, \"cuffing\": 2, \"fullness\": 3, \"than\": 18, \"can\": 4, \"regions\": 3, \"reactive\": 4, \"manifestations\": 1, \"lobar\": 15, \"airways\": 1, \"weeks\": 7, \"an\": 19, \"after\": 6, \"8\": 7, \"therapy\": 3, \"appropriate\": 10, \"12\": 2, \"exclude\": 10, \"underlying\": 13, \"failure\": 16, \"slight\": 10, \"collapse\": 5, \"consistent\": 26, \"typical\": 21, \"widening\": 2, \"hypoventilation\": 7, \"alveolar\": 17, \"improved\": 9, \"over\": 16, \"appearing\": 11, \"middle\": 24, \"most\": 27, \"ensure\": 6, \"follow\": 4, \"up\": 8, \"osseous\": 12, \"hemidiaphragms\": 2, \"appear\": 20, \"appreciated\": 4, \"configuration\": 6, \"beneath\": 1, \"free\": 5, \"infectious\": 8, \"bilaterally\": 9, \"minimally\": 2, \"atypical\": 11, \"compared\": 7, \"calcified\": 50, \"granuloma\": 30, \"following\": 7, \"treatment\": 7, \"setting\": 6, \"document\": 10, \"juxtahilar\": 1, \"hypertension\": 10, \"venous\": 8, \"area\": 10, \"lingula\": 9, \"discussed\": 7, \"asymmetric\": 4, \"sternoclavicular\": 1, \"department\": 2, \"m\": 3, \"apical\": 18, \"joint\": 5, \"evaluate\": 8, \"entirely\": 3, \"attributable\": 1, \"nodule\": 33, \"recommendations\": 3, \"indicate\": 3, \"lingular\": 9, \"obscured\": 3, \"large\": 22, \"assessment\": 1, \"margination\": 3, \"indistinct\": 3, \"s\": 20, \"reflecting\": 2, \"sarcoidosis\": 5, \"known\": 12, \"sequela\": 5, \"patient\": 25, \"colonic\": 1, \"greater\": 10, \"interposition\": 1, \"postsurgical\": 11, \"overlying\": 14, \"similar\": 7, \"tortuosity\": 10, \"ectasia\": 8, \"favored\": 3, \"cell\": 1, \"stigmata\": 1, \"cholelithiasis\": 1, \"appendage\": 1, \"circumscribed\": 1, \"should\": 3, \"structure\": 2, \"arterial\": 3, \"online\": 1, \"atrial\": 3, \"aneurysm\": 6, \"considered\": 3, \"enlargement\": 15, \"pancreatitis\": 2, \"pleuritis\": 1, \"sympathetic\": 1, \"today\": 6, \"clavicle\": 8, \"distal\": 11, \"ectatic\": 5, \"better\": 5, \"fibrotic\": 4, \"has\": 9, \"throughout\": 4, \"both\": 7, \"evaluated\": 4, \"cm\": 19, \"incompletely\": 3, \"svc\": 8, \"level\": 10, \"elevation\": 12, \"recent\": 5, \"approximately\": 8, \"tip\": 25, \"suprahilar\": 4, \"measuring\": 7, \"approximating\": 2, \"sided\": 25, \"apex\": 11, \"axilla\": 1, \"catheter\": 16, \"subclavian\": 6, \"br\": 1, \"metastatic\": 14, \"bandlike\": 4, \"grossly\": 15, \"arm\": 1, \"5\": 20, \"6\": 11, \"spaces\": 3, \"7\": 4, \"by\": 11, \"hernia\": 18, \"hiatal\": 18, \"uncertain\": 3, \"7th\": 5, \"6th\": 5, \"suspected\": 7, \"ribs\": 12, \"acuity\": 1, \"multifocal\": 2, \"part\": 3, \"difficult\": 5, \"mid\": 14, \"represents\": 10, \"curvature\": 6, \"grade\": 2, \"paratracheal\": 9, \"t10\": 2, \"correlated\": 1, \"spurring\": 10, \"shadows\": 5, \"anterolisthesis\": 1, \"t11\": 2, \"vertebral\": 11, \"endplate\": 2, \"multilevel\": 1, \"marked\": 6, \"osteopenia\": 2, \"degenerated\": 1, \"kyphotic\": 1, \"line\": 7, \"diaphragm\": 6, \"deformities\": 4, \"atherosclerotic\": 6, \"poorly\": 1, \"possible\": 18, \"probably\": 5, \"performed\": 4, \"studies\": 5, \"enhanced\": 2, \"arteries\": 6, \"lymph\": 12, \"lobulated\": 1, \"periphery\": 3, \"will\": 3, \"require\": 1, \"remainder\": 1, \"development\": 4, \"scoliosis\": 4, \"before\": 8, \"explained\": 1, \"useful\": 3, \"overlapping\": 3, \"haziness\": 1, \"corresponding\": 2, \"retrocardiac\": 8, \"tube\": 9, \"removal\": 3, \"recurrence\": 2, \"less\": 5, \"pneumonitis\": 6, \"dyspnea\": 1, \"onset\": 2, \"reflects\": 2, \"positioning\": 1, \"9th\": 2, \"platelike\": 3, \"probable\": 18, \"decreasing\": 4, \"decubitus\": 5, \"detailed\": 2, \"sinus\": 2, \"remaining\": 1, \"obliteration\": 1, \"views\": 5, \"side\": 3, \"surgery\": 7, \"significantly\": 2, \"alternatively\": 1, \"since\": 14, \"scapular\": 2, \"acromioclavicular\": 1, \"epiglottis\": 1, \"prevertebral\": 1, \"head\": 2, \"subglottic\": 1, \"caliber\": 1, \"neck\": 4, \"rotation\": 4, \"injuries\": 3, \"present\": 7, \"viral\": 1, \"overload\": 3, \"bronchiolitis\": 2, \"placed\": 1, \"adequately\": 2, \"subpleural\": 1, \"scar\": 9, \"provide\": 1, \"silhouettes\": 2, \"exaggerated\": 2, \"recess\": 3, \"overall\": 8, \"overt\": 9, \"mixed\": 1, \"worsening\": 6, \"segment\": 5, \"tumor\": 3, \"increasing\": 1, \"superior\": 4, \"dislocations\": 2, \"segments\": 1, \"worse\": 5, \"causing\": 1, \"persistent\": 14, \"identify\": 1, \"location\": 4, \"previously\": 4, \"does\": 5, \"peripheral\": 7, \"consideration\": 5, \"resolve\": 2, \"somewhat\": 2, \"opacification\": 4, \"characterization\": 8, \"obvious\": 4, \"nondisplaced\": 3, \"complication\": 1, \"sternotomy\": 8, \"fractured\": 1, \"lucency\": 5, \"under\": 1, \"intraperitoneal\": 2, \"carcinoma\": 1, \"diagnostic\": 1, \"primary\": 7, \"considerations\": 4, \"include\": 4, \"brain\": 1, \"dominant\": 1, \"numerous\": 5, \"establish\": 2, \"relatively\": 4, \"few\": 6, \"dense\": 6, \"lesions\": 4, \"anticipated\": 4, \"destructive\": 1, \"senescent\": 6, \"great\": 1, \"underneath\": 1, \"mm\": 22, \"second\": 1, \"dextroscoliosis\": 5, \"irregularity\": 3, \"verify\": 1, \"cross\": 1, \"sectional\": 1, \"high\": 4, \"veriphy\": 1, \"was\": 8, \"regarding\": 2, \"densities\": 5, \"sent\": 1, \"healing\": 3, \"hours\": 5, \"message\": 2, \"out\": 3, \"5th\": 2, \"rule\": 2, \"developing\": 4, \"redemonstration\": 1, \"junction\": 2, \"feeding\": 1, \"gastroesophageal\": 1, \"scan\": 14, \"artifact\": 5, \"sclerotic\": 2, \"although\": 6, \"focus\": 4, \"piriform\": 1, \"only\": 6, \"parapneumonic\": 1, \"lipoma\": 1, \"lines\": 1, \"tubes\": 2, \"above\": 9, \"top\": 6, \"lumbar\": 5, \"interface\": 1, \"staff\": 1, \"review\": 2, \"radiologist\": 3, \"hyperdensity\": 1, \"lentiform\": 1, \"formation\": 1, \"addition\": 3, \"core\": 1, \"callus\": 2, \"sternum\": 1, \"margin\": 1, \"projectional\": 2, \"ovoid\": 1, \"solid\": 1, \"dr\": 6, \"assess\": 1, \"crowded\": 2, \"series\": 3, \"circular\": 1, \"portion\": 2, \"arteriographic\": 1, \"foot\": 2, \"erosions\": 1, \"eventration\": 5, \"hyperinflation\": 7, \"replacement\": 2, \"accentuation\": 1, \"appreciable\": 1, \"kv\": 1, \"questions\": 3, \"densely\": 2, \"it\": 1, \"obtained\": 2, \"p\": 3, \"confirmation\": 2, \"addended\": 1, \"interpretation\": 2, \"symptoms\": 1, \"brachiocephalic\": 1, \"confluence\": 1, \"approach\": 2, \"essentially\": 2, \"ij\": 2, \"reaches\": 1, \"resolved\": 2, \"radiodense\": 1, \"foreign\": 1, \"bodies\": 2, \"t9\": 1, \"scoliotic\": 1, \"bibasal\": 1, \"infrahilar\": 2, \"thoracentesis\": 1, \"radiographically\": 3, \"etiology\": 5, \"apparent\": 3, \"hemoptysis\": 1, \"cabg\": 4, \"bypass\": 2, \"comparisons\": 2, \"grafting\": 2, \"coronary\": 3, \"cleared\": 2, \"characterize\": 2, \"moderately\": 3, \"humerus\": 4, \"proximal\": 2, \"paralysis\": 1, \"intravenous\": 3, \"nasopharynx\": 1, \"potential\": 1, \"fluoroscopic\": 1, \"exchange\": 1, \"discuss\": 2, \"multiple\": 11, \"like\": 2, \"case\": 2, \"one\": 4, \"thanks\": 2, \"25\": 1, \"conceivably\": 1, \"followed\": 3, \"lesion\": 4, \"incidentally\": 3, \"calcific\": 2, \"residua\": 1, \"azygos\": 3, \"see\": 3, \"osteocartilaginous\": 1, \"healed\": 3, \"skin\": 1, \"alignment\": 1, \"hemithorax\": 4, \"tracheostomy\": 5, \"vp\": 2, \"nephrostomy\": 1, \"repositioning\": 1, \"picc\": 8, \"expected\": 1, \"shunt\": 2, \"tubing\": 2, \"closely\": 1, \"surface\": 1, \"vein\": 6, \"displacement\": 1, \"distribution\": 1, \"diagnosis\": 10, \"differential\": 14, \"larger\": 1, \"aspiration\": 5, \"includes\": 8, \"earlier\": 1, \"technically\": 2, \"reticulonodular\": 2, \"inferior\": 2, \"narrowing\": 2, \"knee\": 6, \"compartment\": 3, \"patellofemoral\": 1, \"pneumoperitoneum\": 1, \"abdominal\": 8, \"attributed\": 1, \"hyper\": 1, \"suggesting\": 8, \"hyperlucent\": 1, \"excavatum\": 1, \"cachexia\": 1, \"pectus\": 3, \"either\": 2, \"fibronodular\": 1, \"needed\": 2, \"involving\": 5, \"disruption\": 1, \"suggests\": 4, \"component\": 1, \"persist\": 2, \"clarification\": 1, \"clavicular\": 1, \"nipple\": 4, \"epigastric\": 1, \"quadrant\": 4, \"nonenlarged\": 1, \"transection\": 1, \"benefit\": 1, \"noncalcified\": 1, \"t6\": 1, \"implants\": 1, \"consolidations\": 1, \"breast\": 2, \"resection\": 2, \"first\": 3, \"overlap\": 1, \"pattern\": 8, \"including\": 2, \"kyphosis\": 2, \"clips\": 9, \"valve\": 4, \"progression\": 4, \"hodgkin\": 1, \"lymphoma\": 2, \"evident\": 1, \"intact\": 3, \"aicd\": 1, \"abdomen\": 12, \"tenting\": 1, \"epicardial\": 2, \"pads\": 1, \"clipped\": 1, \"dish\": 1, \"17\": 1, \"characterized\": 4, \"shaped\": 3, \"partially\": 1, \"l1\": 4, \"t12\": 2, \"developmental\": 1, \"anomaly\": 1, \"thoracolumbar\": 3, \"levoscoliosis\": 2, \"oligemia\": 1, \"redemonstrated\": 2, \"factors\": 4, \"technical\": 4, \"retained\": 2, \"collecting\": 1, \"renal\": 1, \"metastasis\": 2, \"hyperexpansion\": 5, \"chf\": 6, \"here\": 1, \"perhaps\": 1, \"indolent\": 1, \"diameter\": 1, \"iv\": 1, \"elbow\": 1, \"midfoot\": 1, \"calcaneal\": 1, \"enthesopathy\": 1, \"traumatic\": 1, \"ankle\": 2, \"forearm\": 1, \"retraction\": 2, \"reduced\": 1, \"suspicion\": 2, \"granulomata\": 2, \"tissues\": 1, \"subcutaneous\": 1, \"gross\": 3, \"presumably\": 1, \"substantial\": 1, \"shift\": 3, \"relates\": 1, \"mechanical\": 1, \"obstruction\": 2, \"sized\": 2, \"smaller\": 1, \"sensitive\": 1, \"detecting\": 1, \"lobes\": 4, \"surgical\": 5, \"mri\": 1, \"ordering\": 1, \"loss\": 6, \"communication\": 1, \"conveyed\": 1, \"physician\": 1, \"2v\": 1, \"hypoinflated\": 2, \"pm\": 2, \"shortness\": 1, \"date\": 1, \"impression\": 1, \"motion\": 1, \"breath\": 1, \"frontal\": 5, \"advanced\": 2, \"markedly\": 2, \"prosthetic\": 1, \"receipt\": 4, \"acknowledged\": 2, \"results\": 4, \"notified\": 3, \"telephone\": 5, \"highly\": 2, \"8mm\": 3, \"lymphoproliferative\": 1, \"inhalational\": 1, \"complete\": 4, \"worrisome\": 1, \"scapula\": 2, \"drainage\": 1, \"again\": 3, \"processes\": 1, \"basal\": 2, \"reflect\": 9, \"removed\": 4, \"included\": 1, \"been\": 5, \"stomach\": 4, \"inferiorly\": 2, \"flexion\": 1, \"recesses\": 1, \"coursing\": 1, \"esophagogastric\": 1, \"into\": 2, \"postoperative\": 3, \"several\": 1, \"pathologic\": 1, \"bowel\": 4, \"dissection\": 1, \"voluntary\": 1, \"considering\": 3, \"inflammation\": 4, \"empyema\": 1, \"cavity\": 3, \"hydropneumothorax\": 1, \"indeterminant\": 2, \"attention\": 1, \"orthopedic\": 1, \"placement\": 3, \"desired\": 2, \"humeral\": 1, \"actual\": 1, \"posteriorly\": 2, \"9\": 3, \"trachea\": 1, \"satisfactory\": 1, \"position\": 2, \"background\": 1, \"subjacent\": 1, \"11\": 1, \"degree\": 1, \"vertebra\": 1, \"doctor\": 1, \"two\": 2, \"142\": 1, \"service\": 1, \"another\": 1, \"currently\": 1, \"origin\": 2, \"islands\": 1, \"costochondral\": 1, \"junctions\": 1, \"early\": 5, \"exacerbation\": 1, \"cystic\": 2, \"gunshot\": 1, \"wound\": 1, \"posttraumatic\": 1, \"something\": 1, \"projects\": 3, \"external\": 1, \"13\": 1, \"14\": 1, \"ring\": 1, \"certainty\": 1, \"bullous\": 3, \"benign\": 3, \"time\": 2, \"definitely\": 1, \"decrease\": 1, \"idiopathic\": 1, \"opportunistic\": 1, \"consolidative\": 1, \"inspiration\": 1, \"suboptimal\": 1, \"other\": 3, \"reactivation\": 1, \"scars\": 2, \"gallbladder\": 2, \"l3\": 1, \"bullet\": 1, \"overlies\": 1, \"enteric\": 1, \"midline\": 1, \"unknown\": 2, \"rounded\": 2, \"significance\": 2, \"located\": 2, \"projectile\": 1, \"until\": 1, \"exams\": 2, \"obliquely\": 1, \"12th\": 1, \"oriented\": 1, \"per\": 1, \"carina\": 3, \"cervical\": 3, \"dependent\": 1, \"sulci\": 1, \"raises\": 1, \"leftward\": 1, \"contain\": 1, \"advised\": 1, \"cancer\": 4, \"masslike\": 2, \"blunted\": 2, \"possibility\": 1, \"redistribution\": 2, \"cavitation\": 1, \"postprocedural\": 1, \"elsewhere\": 1, \"i\": 2, \"biapical\": 3, \"have\": 3, \"largest\": 2, \"cavitary\": 3, \"persists\": 1, \"medication\": 1, \"its\": 2, \"cavoatrial\": 1, \"injection\": 1, \"paraspinal\": 1, \"retrocrural\": 1, \"containing\": 2, \"liver\": 1, \"loops\": 1, \"suggestion\": 1, \"bronchitic\": 2, \"4th\": 2, \"radiography\": 1, \"discordant\": 2, \"notably\": 1, \"tips\": 2, \"stent\": 4, \"capping\": 1, \"reticular\": 2, \"mitral\": 1, \"annular\": 1, \"esophagus\": 1, \"congestive\": 2, \"constellation\": 1, \"parahilar\": 1, \"effort\": 1, \"portacatheter\": 1, \"reference\": 1, \"artifacts\": 1, \"embolization\": 1, \"coiled\": 1, \"procedure\": 1, \"below\": 2, \"ng\": 1, \"distention\": 1, \"atherosclerosis\": 3, \"correct\": 1, \"osteoarthritis\": 1, \"all\": 1, \"compartments\": 1, \"exposure\": 1, \"knees\": 1, \"nodularity\": 1, \"carinatum\": 2, \"7mm\": 1, \"non\": 1, \"subpulmonic\": 2, \"though\": 1, \"symmetrically\": 1, \"thought\": 1, \"cyst\": 2, \"peripherally\": 1, \"localized\": 4, \"splenic\": 2, \"aerated\": 1, \"supporting\": 1, \"winged\": 1, \"transverse\": 1, \"collection\": 4, \"fragment\": 1, \"broken\": 1, \"loculation\": 1, \"radiation\": 2, \"layering\": 1, \"postop\": 2, \"improving\": 1, \"absence\": 2, \"completely\": 2, \"airway\": 1, \"interstitium\": 2, \"entering\": 1, \"lumen\": 3, \"image\": 1, \"pancreatic\": 1, \"coarse\": 1, \"epigastrium\": 1, \"pneumomediastinum\": 1, \"energy\": 1, \"cortex\": 1, \"buckling\": 1, \"summation\": 1, \"jugular\": 3, \"internal\": 3, \"perform\": 1, \"thoracotomy\": 1, \"cholecystectomy\": 2, \"nonobstructive\": 1, \"compressive\": 1, \"neoplastic\": 1, \"dialysis\": 1, \"dual\": 2, \"projected\": 1, \"atrium\": 3, \"reviewed\": 1, \"lobectomy\": 1, \"developed\": 1, \"fixation\": 1, \"spinal\": 1, \"recurrent\": 1, \"almost\": 1, \"indicates\": 1, \"outflow\": 1, \"raise\": 1, \"metastases\": 3, \"pelvis\": 3, \"xray\": 1, \"multilobar\": 1, \"extremity\": 2, \"enlarging\": 1, \"terminates\": 1, \"showing\": 1, \"type\": 1, \"generalized\": 2, \"concomitant\": 1, \"gt\": 1, \"lt\": 1, \"raising\": 1, \"esophagectomy\": 1, \"imaged\": 1, \"pathology\": 2, \"innominate\": 2, \"focused\": 1, \"reaction\": 2, \"now\": 2, \"outward\": 1, \"partial\": 1, \"hemothorax\": 1, \"postobstructive\": 1, \"tricompartmental\": 1, \"reasonable\": 1, \"allow\": 1, \"presence\": 1, \"intra\": 2, \"greatest\": 1, \"diffusely\": 1, \"oblique\": 1, \"true\": 1, \"hips\": 1, \"arthritic\": 1, \"material\": 1, \"suture\": 1, \"confluent\": 2, \"referring\": 1, \"employed\": 1, \"physicians\": 1, \"notify\": 1, \"arising\": 1, \"flattened\": 1, \"occult\": 1, \"your\": 2, \"opportunity\": 2, \"about\": 2, \"certified\": 2, \"care\": 2, \"assist\": 2, \"xxxxpm\": 1, \"faxed\": 1, \"accepted\": 1, \"histoplasmoma\": 2, \"suspect\": 1, \"localize\": 1, \"informative\": 1, \"thyroid\": 1, \"op\": 1, \"define\": 1, \"medially\": 1, \"infracarinal\": 1, \"pneumothoraces\": 1, \"osteophytes\": 1, \"flowing\": 1, \"histoplasmosis\": 1, \"node\": 2, \"difference\": 1, \"accentuated\": 2, \"subsequent\": 1, \"strongly\": 1, \"malpositioned\": 1, \"initiated\": 1, \"neoplasm\": 1, \"suggestions\": 1, \"contrasted\": 1, \"workup\": 1, \"pronounced\": 1, \"postradiation\": 1, \"demineralization\": 1, \"combination\": 1, \"ruled\": 1, \"disc\": 1, \"inlet\": 1, \"overlie\": 1, \"pic\": 1, \"communicated\": 1, \"inability\": 1, \"nonemergent\": 1, \"definitively\": 1, \"single\": 1, \"nonsclerotic\": 1, \"infiltrative\": 1, \"prosthesis\": 1, \"scans\": 1, \"8th\": 1, \"between\": 1, \"technologist\": 1, \"cardiophrenic\": 1, \"exist\": 1, \"examinations\": 1, \"ventricle\": 1, \"incidental\": 1, \"element\": 1, \"atelectatic\": 1, \"scant\": 1, \"foci\": 1, \"remarkable\": 1, \"postinflammatory\": 1, \"postinfectious\": 1}',\n",
       " 'index_docs': '{\"3\": 1091, \"1\": 1843, \"2\": 1535, \"7\": 562, \"5\": 672, \"25\": 224, \"53\": 96, \"14\": 309, \"6\": 501, \"23\": 235, \"28\": 209, \"10\": 330, \"33\": 154, \"22\": 246, \"17\": 268, \"20\": 200, \"24\": 223, \"29\": 210, \"12\": 307, \"8\": 329, \"36\": 148, \"52\": 97, \"9\": 494, \"13\": 293, \"79\": 56, \"45\": 108, \"73\": 67, \"42\": 115, \"34\": 156, \"47\": 105, \"4\": 406, \"97\": 43, \"55\": 85, \"88\": 47, \"19\": 252, \"241\": 14, \"39\": 132, \"230\": 15, \"131\": 27, \"94\": 41, \"84\": 54, \"48\": 105, \"91\": 45, \"18\": 232, \"26\": 206, \"104\": 38, \"35\": 149, \"61\": 82, \"56\": 88, \"50\": 103, \"202\": 18, \"89\": 47, \"156\": 24, \"59\": 75, \"164\": 21, \"170\": 22, \"111\": 33, \"187\": 19, \"192\": 18, \"15\": 265, \"64\": 75, \"27\": 189, \"74\": 67, \"213\": 17, \"137\": 28, \"157\": 23, \"171\": 22, \"71\": 65, \"38\": 125, \"62\": 75, \"11\": 292, \"51\": 99, \"132\": 29, \"435\": 5, \"116\": 30, \"242\": 14, \"138\": 27, \"98\": 43, \"172\": 22, \"37\": 151, \"436\": 5, \"293\": 10, \"260\": 12, \"114\": 27, \"78\": 61, \"57\": 83, \"400\": 6, \"99\": 40, \"40\": 121, \"100\": 37, \"214\": 17, \"370\": 7, \"95\": 42, \"341\": 8, \"101\": 40, \"193\": 19, \"401\": 6, \"122\": 31, \"562\": 3, \"63\": 71, \"68\": 70, \"194\": 19, \"54\": 92, \"220\": 16, \"315\": 9, \"316\": 8, \"563\": 3, \"44\": 111, \"41\": 121, \"342\": 8, \"46\": 101, \"117\": 30, \"67\": 69, \"65\": 70, \"565\": 3, \"564\": 3, \"203\": 18, \"96\": 42, \"90\": 47, \"32\": 172, \"173\": 21, \"82\": 52, \"105\": 34, \"221\": 16, \"49\": 93, \"43\": 94, \"142\": 25, \"402\": 6, \"112\": 32, \"151\": 23, \"261\": 12, \"371\": 7, \"372\": 7, \"204\": 18, \"495\": 4, \"494\": 4, \"262\": 12, \"139\": 27, \"85\": 48, \"222\": 15, \"403\": 6, \"16\": 238, \"373\": 7, \"847\": 1, \"294\": 10, \"175\": 22, \"374\": 7, \"223\": 16, \"658\": 2, \"174\": 22, \"317\": 8, \"152\": 25, \"165\": 19, \"263\": 10, \"146\": 23, \"140\": 25, \"205\": 18, \"119\": 32, \"21\": 251, \"69\": 68, \"848\": 1, \"83\": 53, \"118\": 32, \"166\": 22, \"179\": 21, \"275\": 10, \"404\": 6, \"497\": 4, \"123\": 29, \"75\": 59, \"252\": 13, \"60\": 81, \"849\": 1, \"659\": 2, \"77\": 59, \"231\": 14, \"153\": 25, \"70\": 60, \"343\": 7, \"92\": 43, \"406\": 6, \"76\": 64, \"437\": 5, \"264\": 12, \"206\": 11, \"141\": 26, \"850\": 1, \"498\": 4, \"295\": 9, \"496\": 3, \"87\": 42, \"31\": 146, \"405\": 5, \"253\": 11, \"375\": 7, \"566\": 3, \"660\": 2, \"58\": 70, \"106\": 34, \"180\": 19, \"224\": 16, \"154\": 22, \"567\": 3, \"407\": 6, \"109\": 35, \"195\": 18, \"80\": 55, \"318\": 9, \"225\": 16, \"276\": 11, \"133\": 29, \"499\": 3, \"110\": 35, \"232\": 15, \"30\": 158, \"181\": 19, \"500\": 4, \"852\": 1, \"344\": 8, \"851\": 1, \"147\": 25, \"501\": 4, \"167\": 22, \"853\": 1, \"661\": 2, \"568\": 3, \"502\": 4, \"854\": 1, \"265\": 10, \"134\": 29, \"662\": 2, \"243\": 14, \"319\": 9, \"296\": 10, \"856\": 1, \"320\": 9, \"440\": 5, \"107\": 36, \"297\": 9, \"855\": 1, \"438\": 5, \"215\": 15, \"266\": 11, \"298\": 10, \"439\": 5, \"188\": 19, \"182\": 21, \"663\": 2, \"143\": 25, \"244\": 14, \"441\": 5, \"569\": 3, \"103\": 38, \"322\": 8, \"442\": 5, \"321\": 9, \"443\": 5, \"857\": 1, \"277\": 11, \"86\": 44, \"664\": 2, \"196\": 19, \"376\": 7, \"267\": 11, \"665\": 2, \"299\": 10, \"858\": 1, \"197\": 18, \"300\": 9, \"408\": 5, \"323\": 9, \"278\": 10, \"226\": 16, \"207\": 17, \"666\": 2, \"667\": 2, \"301\": 10, \"859\": 1, \"377\": 6, \"254\": 13, \"668\": 2, \"410\": 6, \"409\": 6, \"279\": 9, \"346\": 7, \"280\": 11, \"176\": 21, \"233\": 14, \"669\": 2, \"227\": 16, \"444\": 3, \"379\": 7, \"863\": 1, \"345\": 5, \"864\": 1, \"860\": 1, \"324\": 9, \"673\": 2, \"326\": 9, \"125\": 30, \"865\": 1, \"672\": 2, \"246\": 10, \"245\": 13, \"570\": 3, \"378\": 5, \"671\": 1, \"124\": 29, \"66\": 64, \"325\": 9, \"670\": 2, \"168\": 22, \"862\": 1, \"102\": 40, \"445\": 5, \"861\": 1, \"208\": 17, \"503\": 4, \"674\": 2, \"675\": 2, \"126\": 27, \"281\": 11, \"302\": 10, \"247\": 14, \"866\": 1, \"228\": 15, \"158\": 24, \"135\": 29, \"183\": 15, \"268\": 11, \"571\": 3, \"177\": 20, \"216\": 17, \"867\": 1, \"868\": 1, \"234\": 15, \"72\": 56, \"504\": 4, \"115\": 31, \"411\": 6, \"871\": 1, \"505\": 4, \"303\": 10, \"127\": 25, \"870\": 1, \"347\": 8, \"572\": 3, \"328\": 9, \"327\": 9, \"412\": 6, \"869\": 1, \"108\": 34, \"380\": 7, \"446\": 5, \"178\": 21, \"128\": 31, \"381\": 7, \"574\": 3, \"506\": 4, \"129\": 29, \"159\": 24, \"198\": 19, \"573\": 3, \"873\": 1, \"872\": 1, \"144\": 27, \"255\": 13, \"282\": 11, \"217\": 16, \"874\": 1, \"120\": 32, \"160\": 22, \"169\": 23, \"199\": 19, \"382\": 7, \"93\": 41, \"413\": 6, \"875\": 1, \"676\": 2, \"383\": 7, \"509\": 3, \"121\": 31, \"507\": 4, \"508\": 3, \"447\": 5, \"677\": 2, \"575\": 3, \"209\": 18, \"448\": 4, \"576\": 3, \"510\": 4, \"876\": 1, \"235\": 15, \"877\": 1, \"349\": 7, \"200\": 19, \"414\": 6, \"348\": 7, \"577\": 3, \"304\": 10, \"678\": 2, \"305\": 10, \"256\": 13, \"229\": 16, \"283\": 10, \"449\": 5, \"148\": 26, \"184\": 21, \"679\": 2, \"384\": 7, \"218\": 17, \"329\": 9, \"219\": 16, \"269\": 11, \"161\": 24, \"145\": 27, \"415\": 6, \"511\": 4, \"350\": 8, \"270\": 12, \"680\": 2, \"136\": 20, \"512\": 4, \"416\": 6, \"878\": 1, \"450\": 5, \"351\": 8, \"330\": 9, \"681\": 2, \"284\": 11, \"385\": 7, \"81\": 50, \"130\": 30, \"386\": 7, \"352\": 7, \"417\": 6, \"306\": 10, \"879\": 1, \"307\": 10, \"353\": 8, \"308\": 10, \"331\": 9, \"387\": 7, \"513\": 4, \"881\": 1, \"682\": 2, \"580\": 3, \"189\": 18, \"451\": 5, \"354\": 8, \"578\": 3, \"880\": 1, \"113\": 33, \"579\": 3, \"581\": 3, \"332\": 9, \"584\": 3, \"162\": 22, \"882\": 1, \"583\": 3, \"582\": 3, \"190\": 20, \"683\": 2, \"453\": 5, \"271\": 12, \"452\": 5, \"155\": 25, \"883\": 1, \"309\": 10, \"884\": 1, \"285\": 11, \"248\": 14, \"388\": 7, \"310\": 10, \"355\": 8, \"585\": 3, \"886\": 1, \"885\": 1, \"887\": 1, \"889\": 1, \"888\": 1, \"588\": 3, \"684\": 2, \"586\": 3, \"890\": 1, \"587\": 3, \"418\": 6, \"589\": 3, \"236\": 15, \"685\": 2, \"891\": 1, \"892\": 1, \"419\": 6, \"356\": 8, \"286\": 11, \"454\": 5, \"455\": 5, \"514\": 4, \"311\": 9, \"456\": 4, \"389\": 7, \"516\": 4, \"185\": 19, \"590\": 3, \"357\": 8, \"273\": 10, \"272\": 12, \"457\": 5, \"358\": 8, \"150\": 25, \"515\": 4, \"391\": 7, \"686\": 2, \"149\": 25, \"287\": 11, \"893\": 1, \"201\": 16, \"390\": 6, \"894\": 1, \"237\": 14, \"517\": 4, \"238\": 15, \"895\": 1, \"186\": 20, \"288\": 11, \"591\": 3, \"518\": 4, \"274\": 11, \"211\": 18, \"210\": 18, \"592\": 3, \"459\": 5, \"458\": 5, \"392\": 7, \"257\": 12, \"896\": 1, \"687\": 2, \"593\": 3, \"460\": 5, \"249\": 14, \"312\": 10, \"420\": 6, \"689\": 2, \"333\": 9, \"690\": 2, \"897\": 1, \"313\": 10, \"461\": 5, \"898\": 1, \"691\": 2, \"289\": 11, \"688\": 2, \"901\": 1, \"421\": 6, \"594\": 2, \"900\": 1, \"899\": 1, \"359\": 7, \"422\": 6, \"519\": 4, \"423\": 6, \"902\": 1, \"191\": 18, \"462\": 5, \"520\": 4, \"463\": 5, \"692\": 2, \"424\": 6, \"258\": 12, \"903\": 1, \"521\": 3, \"595\": 3, \"904\": 1, \"905\": 1, \"522\": 4, \"523\": 4, \"290\": 8, \"907\": 1, \"597\": 3, \"596\": 3, \"906\": 1, \"693\": 2, \"360\": 8, \"314\": 9, \"598\": 3, \"694\": 2, \"464\": 5, \"425\": 6, \"908\": 1, \"695\": 2, \"697\": 2, \"909\": 1, \"696\": 2, \"599\": 3, \"212\": 18, \"524\": 4, \"465\": 5, \"700\": 2, \"699\": 2, \"910\": 1, \"911\": 1, \"466\": 5, \"600\": 3, \"393\": 7, \"698\": 2, \"912\": 1, \"239\": 14, \"701\": 2, \"913\": 1, \"916\": 1, \"915\": 1, \"702\": 2, \"914\": 1, \"917\": 1, \"525\": 4, \"526\": 4, \"601\": 3, \"394\": 7, \"920\": 1, \"602\": 3, \"704\": 2, \"918\": 1, \"703\": 2, \"919\": 1, \"334\": 9, \"921\": 1, \"706\": 2, \"705\": 2, \"603\": 3, \"361\": 8, \"335\": 9, \"922\": 1, \"362\": 6, \"467\": 5, \"604\": 3, \"923\": 1, \"527\": 4, \"605\": 2, \"924\": 1, \"468\": 5, \"925\": 1, \"250\": 14, \"707\": 1, \"528\": 4, \"469\": 4, \"471\": 5, \"395\": 7, \"470\": 5, \"709\": 2, \"708\": 2, \"529\": 4, \"363\": 8, \"530\": 4, \"606\": 3, \"927\": 1, \"336\": 8, \"926\": 1, \"472\": 5, \"928\": 1, \"710\": 2, \"931\": 1, \"930\": 1, \"396\": 7, \"531\": 4, \"532\": 4, \"932\": 1, \"929\": 1, \"473\": 5, \"711\": 2, \"533\": 4, \"426\": 6, \"427\": 6, \"535\": 4, \"534\": 4, \"933\": 1, \"428\": 6, \"934\": 1, \"935\": 1, \"163\": 22, \"936\": 1, \"474\": 5, \"607\": 3, \"939\": 1, \"937\": 1, \"938\": 1, \"536\": 4, \"940\": 1, \"337\": 8, \"715\": 2, \"475\": 5, \"941\": 1, \"608\": 3, \"476\": 5, \"714\": 2, \"609\": 3, \"712\": 2, \"713\": 2, \"537\": 4, \"942\": 1, \"716\": 2, \"943\": 1, \"944\": 1, \"251\": 14, \"478\": 5, \"610\": 2, \"429\": 6, \"477\": 4, \"945\": 1, \"430\": 6, \"946\": 1, \"947\": 1, \"948\": 1, \"717\": 2, \"338\": 9, \"431\": 6, \"479\": 5, \"949\": 1, \"950\": 1, \"718\": 2, \"611\": 3, \"954\": 1, \"953\": 1, \"955\": 1, \"612\": 3, \"951\": 1, \"720\": 2, \"719\": 1, \"952\": 1, \"721\": 2, \"956\": 1, \"957\": 1, \"397\": 6, \"958\": 1, \"722\": 2, \"613\": 3, \"959\": 1, \"723\": 2, \"960\": 1, \"724\": 2, \"961\": 1, \"480\": 5, \"398\": 7, \"725\": 2, \"962\": 1, \"963\": 1, \"965\": 1, \"615\": 3, \"726\": 2, \"964\": 1, \"727\": 2, \"614\": 3, \"728\": 2, \"966\": 1, \"729\": 2, \"967\": 1, \"969\": 1, \"970\": 1, \"731\": 2, \"732\": 2, \"730\": 2, \"968\": 1, \"733\": 2, \"971\": 1, \"972\": 1, \"734\": 2, \"974\": 1, \"973\": 1, \"975\": 1, \"735\": 2, \"976\": 1, \"616\": 3, \"481\": 5, \"617\": 3, \"977\": 1, \"538\": 4, \"737\": 2, \"736\": 2, \"738\": 2, \"618\": 3, \"739\": 2, \"740\": 2, \"619\": 3, \"539\": 4, \"741\": 2, \"978\": 1, \"620\": 3, \"980\": 1, \"981\": 1, \"979\": 1, \"982\": 1, \"743\": 2, \"291\": 11, \"742\": 2, \"744\": 2, \"540\": 4, \"745\": 2, \"983\": 1, \"986\": 1, \"623\": 3, \"541\": 4, \"625\": 3, \"746\": 2, \"984\": 1, \"624\": 3, \"622\": 3, \"985\": 1, \"621\": 3, \"989\": 1, \"991\": 1, \"483\": 4, \"482\": 5, \"747\": 2, \"994\": 1, \"993\": 1, \"364\": 8, \"992\": 1, \"748\": 2, \"749\": 2, \"988\": 1, \"990\": 1, \"432\": 6, \"987\": 1, \"996\": 1, \"292\": 10, \"240\": 14, \"995\": 1, \"484\": 5, \"365\": 8, \"997\": 1, \"750\": 2, \"751\": 2, \"752\": 2, \"753\": 2, \"366\": 6, \"542\": 3, \"998\": 1, \"999\": 1, \"367\": 8, \"1000\": 1, \"1001\": 1, \"368\": 8, \"1002\": 1, \"1004\": 1, \"1003\": 1, \"626\": 3, \"754\": 2, \"1005\": 1, \"755\": 2, \"485\": 5, \"1006\": 1, \"543\": 4, \"1007\": 1, \"756\": 2, \"1008\": 1, \"1009\": 1, \"544\": 4, \"1011\": 1, \"545\": 4, \"1010\": 1, \"1012\": 1, \"1014\": 1, \"1013\": 1, \"1017\": 1, \"1016\": 1, \"1015\": 1, \"757\": 2, \"758\": 2, \"627\": 3, \"1018\": 1, \"369\": 8, \"760\": 2, \"759\": 2, \"339\": 9, \"546\": 4, \"547\": 4, \"1020\": 1, \"761\": 2, \"1019\": 1, \"628\": 3, \"1021\": 1, \"259\": 12, \"1022\": 1, \"762\": 2, \"1024\": 1, \"1023\": 1, \"1025\": 1, \"1026\": 1, \"548\": 4, \"629\": 3, \"1029\": 1, \"549\": 4, \"763\": 2, \"1027\": 1, \"1028\": 1, \"630\": 3, \"764\": 2, \"1030\": 1, \"631\": 2, \"551\": 4, \"550\": 4, \"765\": 2, \"1032\": 1, \"1031\": 1, \"766\": 2, \"486\": 5, \"433\": 6, \"1034\": 1, \"1035\": 1, \"1033\": 1, \"1036\": 1, \"1037\": 1, \"1038\": 1, \"1040\": 1, \"1041\": 1, \"1042\": 1, \"767\": 1, \"768\": 2, \"1039\": 1, \"769\": 2, \"1043\": 1, \"770\": 2, \"771\": 2, \"1045\": 1, \"1044\": 1, \"632\": 3, \"1046\": 1, \"772\": 1, \"633\": 3, \"1047\": 1, \"1048\": 1, \"773\": 2, \"774\": 2, \"1049\": 1, \"1050\": 1, \"1051\": 1, \"552\": 4, \"487\": 5, \"1052\": 1, \"1054\": 1, \"399\": 6, \"1056\": 1, \"1053\": 1, \"1055\": 1, \"1057\": 1, \"777\": 2, \"776\": 2, \"1059\": 1, \"1058\": 1, \"775\": 1, \"1061\": 1, \"1060\": 1, \"488\": 5, \"778\": 2, \"779\": 2, \"1062\": 1, \"553\": 4, \"781\": 2, \"489\": 4, \"634\": 3, \"490\": 5, \"780\": 2, \"635\": 3, \"1063\": 1, \"1064\": 1, \"554\": 4, \"1065\": 1, \"782\": 2, \"1066\": 1, \"636\": 3, \"1067\": 1, \"783\": 2, \"340\": 9, \"491\": 4, \"1070\": 1, \"434\": 5, \"555\": 4, \"785\": 2, \"1071\": 1, \"1068\": 1, \"1069\": 1, \"784\": 1, \"786\": 2, \"637\": 3, \"1072\": 1, \"1073\": 1, \"492\": 4, \"1074\": 1, \"1075\": 1, \"638\": 3, \"556\": 4, \"1077\": 1, \"639\": 3, \"1076\": 1, \"787\": 2, \"1080\": 1, \"1079\": 1, \"640\": 3, \"788\": 2, \"1078\": 1, \"1081\": 1, \"791\": 2, \"641\": 3, \"1083\": 1, \"1082\": 1, \"789\": 2, \"1084\": 1, \"1091\": 1, \"1088\": 1, \"1089\": 1, \"1090\": 1, \"1085\": 1, \"790\": 2, \"1087\": 1, \"1086\": 1, \"1092\": 1, \"1093\": 1, \"792\": 2, \"1094\": 1, \"1095\": 1, \"1096\": 1, \"493\": 5, \"1097\": 1, \"642\": 2, \"1099\": 1, \"1100\": 1, \"1098\": 1, \"1105\": 1, \"643\": 3, \"1106\": 1, \"1101\": 1, \"1102\": 1, \"1103\": 1, \"1104\": 1, \"644\": 3, \"645\": 3, \"793\": 2, \"1108\": 1, \"1107\": 1, \"1110\": 1, \"1109\": 1, \"1111\": 1, \"1113\": 1, \"1112\": 1, \"646\": 3, \"1114\": 1, \"794\": 2, \"795\": 2, \"1119\": 1, \"1117\": 1, \"1118\": 1, \"1115\": 1, \"1116\": 1, \"796\": 2, \"799\": 2, \"797\": 2, \"798\": 2, \"1120\": 1, \"1121\": 1, \"800\": 2, \"1122\": 1, \"1124\": 1, \"1123\": 1, \"1125\": 1, \"647\": 3, \"648\": 3, \"1127\": 1, \"1126\": 1, \"1128\": 1, \"1129\": 1, \"1131\": 1, \"1130\": 1, \"557\": 4, \"801\": 2, \"802\": 2, \"1132\": 1, \"803\": 2, \"1133\": 1, \"1134\": 1, \"1135\": 1, \"804\": 2, \"649\": 3, \"558\": 3, \"805\": 2, \"650\": 3, \"1136\": 1, \"1137\": 1, \"806\": 2, \"1139\": 1, \"1138\": 1, \"1140\": 1, \"1141\": 1, \"807\": 2, \"1142\": 1, \"1143\": 1, \"1144\": 1, \"808\": 2, \"809\": 2, \"1145\": 1, \"810\": 2, \"1146\": 1, \"811\": 2, \"559\": 4, \"1147\": 1, \"812\": 2, \"1148\": 1, \"1149\": 1, \"1150\": 1, \"813\": 2, \"1151\": 1, \"1152\": 1, \"1154\": 1, \"1153\": 1, \"1155\": 1, \"1157\": 1, \"1158\": 1, \"1156\": 1, \"1159\": 1, \"814\": 2, \"1160\": 1, \"1161\": 1, \"651\": 3, \"1162\": 1, \"1163\": 1, \"1164\": 1, \"1165\": 1, \"1166\": 1, \"1167\": 1, \"1168\": 1, \"815\": 2, \"1169\": 1, \"1170\": 1, \"816\": 2, \"1171\": 1, \"1172\": 1, \"1175\": 1, \"818\": 2, \"1174\": 1, \"560\": 4, \"817\": 2, \"1173\": 1, \"1177\": 1, \"1176\": 1, \"1178\": 1, \"561\": 4, \"1180\": 1, \"1179\": 1, \"1181\": 1, \"819\": 2, \"1182\": 1, \"820\": 2, \"1183\": 1, \"822\": 2, \"821\": 2, \"1184\": 1, \"823\": 2, \"1185\": 1, \"652\": 3, \"1188\": 1, \"1189\": 1, \"1186\": 1, \"1187\": 1, \"1190\": 1, \"1193\": 1, \"1192\": 1, \"1191\": 1, \"1194\": 1, \"654\": 3, \"653\": 3, \"1195\": 1, \"1196\": 1, \"824\": 2, \"1197\": 1, \"1198\": 1, \"1199\": 1, \"1200\": 1, \"825\": 2, \"1201\": 1, \"655\": 3, \"1202\": 1, \"1203\": 1, \"1204\": 1, \"1206\": 1, \"1205\": 1, \"1207\": 1, \"1208\": 1, \"1210\": 1, \"1209\": 1, \"1211\": 1, \"656\": 3, \"657\": 3, \"1212\": 1, \"1213\": 1, \"826\": 2, \"1214\": 1, \"1215\": 1, \"1216\": 1, \"1217\": 1, \"827\": 2, \"1218\": 1, \"1220\": 1, \"1219\": 1, \"1221\": 1, \"1222\": 1, \"1223\": 1, \"828\": 2, \"829\": 2, \"1224\": 1, \"830\": 2, \"831\": 2, \"1225\": 1, \"1226\": 1, \"1227\": 1, \"1228\": 1, \"1229\": 1, \"1230\": 1, \"1231\": 1, \"1232\": 1, \"832\": 2, \"1234\": 1, \"1233\": 1, \"1235\": 1, \"1236\": 1, \"1238\": 1, \"1237\": 1, \"1240\": 1, \"1239\": 1, \"833\": 2, \"1243\": 1, \"1241\": 1, \"1244\": 1, \"1242\": 1, \"1245\": 1, \"1246\": 1, \"1247\": 1, \"837\": 2, \"834\": 2, \"838\": 2, \"839\": 2, \"836\": 2, \"835\": 2, \"1248\": 1, \"1250\": 1, \"1249\": 1, \"840\": 2, \"1252\": 1, \"1251\": 1, \"1253\": 1, \"1254\": 1, \"1255\": 1, \"1257\": 1, \"1256\": 1, \"1258\": 1, \"1259\": 1, \"1261\": 1, \"1260\": 1, \"1262\": 1, \"841\": 2, \"1263\": 1, \"842\": 2, \"1264\": 1, \"1265\": 1, \"1266\": 1, \"1268\": 1, \"1267\": 1, \"1270\": 1, \"1269\": 1, \"843\": 1, \"1271\": 1, \"1272\": 1, \"1273\": 1, \"1274\": 1, \"1275\": 1, \"1276\": 1, \"1277\": 1, \"1278\": 1, \"1279\": 1, \"1280\": 1, \"1281\": 1, \"1283\": 1, \"1282\": 1, \"1284\": 1, \"844\": 1, \"1285\": 1, \"1286\": 1, \"1289\": 1, \"1288\": 1, \"1287\": 1, \"1291\": 1, \"1290\": 1, \"1292\": 1, \"845\": 1, \"1295\": 1, \"1296\": 1, \"1293\": 1, \"1294\": 1, \"1297\": 1, \"1298\": 1, \"846\": 1, \"1300\": 1, \"1299\": 1}',\n",
       " 'index_word': '{\"1\": \"no\", \"2\": \"acute\", \"3\": \"cardiopulmonary\", \"4\": \"xxxx\", \"5\": \"disease\", \"6\": \"of\", \"7\": \"abnormality\", \"8\": \"the\", \"9\": \"1\", \"10\": \"and\", \"11\": \"right\", \"12\": \"normal\", \"13\": \"pulmonary\", \"14\": \"findings\", \"15\": \"with\", \"16\": \"left\", \"17\": \"lungs\", \"18\": \"or\", \"19\": \"chest\", \"20\": \"is\", \"21\": \"2\", \"22\": \"clear\", \"23\": \"active\", \"24\": \"heart\", \"25\": \"process\", \"26\": \"pleural\", \"27\": \"lung\", \"28\": \"evidence\", \"29\": \"size\", \"30\": \"in\", \"31\": \"to\", \"32\": \"atelectasis\", \"33\": \"are\", \"34\": \"stable\", \"35\": \"effusion\", \"36\": \"for\", \"37\": \"cardiomegaly\", \"38\": \"lobe\", \"39\": \"abnormalities\", \"40\": \"mild\", \"41\": \"airspace\", \"42\": \"mediastinal\", \"43\": \"be\", \"44\": \"edema\", \"45\": \"within\", \"46\": \"upper\", \"47\": \"limits\", \"48\": \"without\", \"49\": \"may\", \"50\": \"focal\", \"51\": \"pneumonia\", \"52\": \"negative\", \"53\": \"radiographic\", \"54\": \"effusions\", \"55\": \"identified\", \"56\": \"pneumothorax\", \"57\": \"changes\", \"58\": \"a\", \"59\": \"there\", \"60\": \"opacities\", \"61\": \"consolidation\", \"62\": \"lower\", \"63\": \"opacity\", \"64\": \"low\", \"65\": \"small\", \"66\": \"this\", \"67\": \"bilateral\", \"68\": \"seen\", \"69\": \"basilar\", \"70\": \"on\", \"71\": \"infiltrate\", \"72\": \"interstitial\", \"73\": \"contour\", \"74\": \"volumes\", \"75\": \"represent\", \"76\": \"scarring\", \"77\": \"base\", \"78\": \"chronic\", \"79\": \"comparison\", \"80\": \"further\", \"81\": \"calcified\", \"82\": \"prior\", \"83\": \"3\", \"84\": \"x\", \"85\": \"nodules\", \"86\": \"if\", \"87\": \"lateral\", \"88\": \"well\", \"89\": \"silhouette\", \"90\": \"bibasilar\", \"91\": \"emphysema\", \"92\": \"which\", \"93\": \"minimal\", \"94\": \"exam\", \"95\": \"versus\", \"96\": \"thoracic\", \"97\": \"expanded\", \"98\": \"otherwise\", \"99\": \"tuberculosis\", \"100\": \"change\", \"101\": \"appearance\", \"102\": \"at\", \"103\": \"interval\", \"104\": \"cardiac\", \"105\": \"from\", \"106\": \"could\", \"107\": \"rib\", \"108\": \"spine\", \"109\": \"evaluation\", \"110\": \"ct\", \"111\": \"air\", \"112\": \"not\", \"113\": \"nodule\", \"114\": \"as\", \"115\": \"infection\", \"116\": \"unremarkable\", \"117\": \"unchanged\", \"118\": \"vascular\", \"119\": \"subsegmental\", \"120\": \"patchy\", \"121\": \"followup\", \"122\": \"definite\", \"123\": \"compatible\", \"124\": \"recommend\", \"125\": \"study\", \"126\": \"increased\", \"127\": \"noted\", \"128\": \"prominent\", \"129\": \"recommended\", \"130\": \"granuloma\", \"131\": \"finding\", \"132\": \"copd\", \"133\": \"aorta\", \"134\": \"hilar\", \"135\": \"midlung\", \"136\": \"appear\", \"137\": \"granulomatous\", \"138\": \"radiograph\", \"139\": \"masses\", \"140\": \"hemidiaphragm\", \"141\": \"view\", \"142\": \"fractures\", \"143\": \"fracture\", \"144\": \"resolution\", \"145\": \"most\", \"146\": \"degenerative\", \"147\": \"nodular\", \"148\": \"consistent\", \"149\": \"sided\", \"150\": \"tip\", \"151\": \"consider\", \"152\": \"central\", \"153\": \"previous\", \"154\": \"costophrenic\", \"155\": \"patient\", \"156\": \"vasculature\", \"157\": \"but\", \"158\": \"streaky\", \"159\": \"moderate\", \"160\": \"crowding\", \"161\": \"middle\", \"162\": \"large\", \"163\": \"mm\", \"164\": \"appears\", \"165\": \"clinical\", \"166\": \"aortic\", \"167\": \"perihilar\", \"168\": \"would\", \"169\": \"bronchovascular\", \"170\": \"space\", \"171\": \"hyperexpanded\", \"172\": \"borderline\", \"173\": \"mildly\", \"174\": \"congestion\", \"175\": \"possibly\", \"176\": \"4\", \"177\": \"density\", \"178\": \"mass\", \"179\": \"enlarged\", \"180\": \"secondary\", \"181\": \"due\", \"182\": \"posterior\", \"183\": \"structures\", \"184\": \"typical\", \"185\": \"cm\", \"186\": \"5\", \"187\": \"hypoinflation\", \"188\": \"anterior\", \"189\": \"apical\", \"190\": \"s\", \"191\": \"possible\", \"192\": \"visible\", \"193\": \"limited\", \"194\": \"infiltrates\", \"195\": \"prominence\", \"196\": \"mediastinum\", \"197\": \"bony\", \"198\": \"tortuous\", \"199\": \"suggestive\", \"200\": \"an\", \"201\": \"catheter\", \"202\": \"cardiomediastinal\", \"203\": \"superimposed\", \"204\": \"clinically\", \"205\": \"correlation\", \"206\": \"some\", \"207\": \"adenopathy\", \"208\": \"volume\", \"209\": \"than\", \"210\": \"hiatal\", \"211\": \"hernia\", \"212\": \"probable\", \"213\": \"old\", \"214\": \"hyperinflated\", \"215\": \"deformity\", \"216\": \"vascularity\", \"217\": \"granulomas\", \"218\": \"alveolar\", \"219\": \"over\", \"220\": \"contours\", \"221\": \"imaging\", \"222\": \"fibrosis\", \"223\": \"suggest\", \"224\": \"blunting\", \"225\": \"contrast\", \"226\": \"significant\", \"227\": \"these\", \"228\": \"markings\", \"229\": \"failure\", \"230\": \"intrathoracic\", \"231\": \"thickening\", \"232\": \"helpful\", \"233\": \"severe\", \"234\": \"medial\", \"235\": \"lobar\", \"236\": \"enlargement\", \"237\": \"metastatic\", \"238\": \"grossly\", \"239\": \"since\", \"240\": \"differential\", \"241\": \"preoperative\", \"242\": \"examination\", \"243\": \"age\", \"244\": \"question\", \"245\": \"parenchymal\", \"246\": \"available\", \"247\": \"history\", \"248\": \"overlying\", \"249\": \"mid\", \"250\": \"persistent\", \"251\": \"scan\", \"252\": \"projecting\", \"253\": \"fluid\", \"254\": \"indicated\", \"255\": \"emphysematous\", \"256\": \"underlying\", \"257\": \"ribs\", \"258\": \"lymph\", \"259\": \"abdomen\", \"260\": \"film\", \"261\": \"please\", \"262\": \"suspicious\", \"263\": \"elevated\", \"264\": \"associated\", \"265\": \"calcifications\", \"266\": \"indeterminate\", \"267\": \"scattered\", \"268\": \"given\", \"269\": \"appearing\", \"270\": \"osseous\", \"271\": \"known\", \"272\": \"elevation\", \"273\": \"level\", \"274\": \"by\", \"275\": \"slightly\", \"276\": \"representing\", \"277\": \"concern\", \"278\": \"soft\", \"279\": \"injury\", \"280\": \"however\", \"281\": \"region\", \"282\": \"concerning\", \"283\": \"slight\", \"284\": \"atypical\", \"285\": \"postsurgical\", \"286\": \"distal\", \"287\": \"apex\", \"288\": \"6\", \"289\": \"vertebral\", \"290\": \"before\", \"291\": \"multiple\", \"292\": \"diagnosis\", \"293\": \"specifically\", \"294\": \"post\", \"295\": \"more\", \"296\": \"technique\", \"297\": \"midthoracic\", \"298\": \"correlate\", \"299\": \"continued\", \"300\": \"tissue\", \"301\": \"abnormal\", \"302\": \"related\", \"303\": \"body\", \"304\": \"appropriate\", \"305\": \"exclude\", \"306\": \"document\", \"307\": \"hypertension\", \"308\": \"area\", \"309\": \"greater\", \"310\": \"tortuosity\", \"311\": \"has\", \"312\": \"represents\", \"313\": \"spurring\", \"314\": \"tube\", \"315\": \"radiographs\", \"316\": \"visualized\", \"317\": \"shoulder\", \"318\": \"lymphadenopathy\", \"319\": \"very\", \"320\": \"displaced\", \"321\": \"bases\", \"322\": \"residual\", \"323\": \"thorax\", \"324\": \"were\", \"325\": \"cannot\", \"326\": \"excluded\", \"327\": \"critical\", \"328\": \"primordial\", \"329\": \"improved\", \"330\": \"bilaterally\", \"331\": \"lingula\", \"332\": \"lingular\", \"333\": \"paratracheal\", \"334\": \"scar\", \"335\": \"overt\", \"336\": \"sternotomy\", \"337\": \"was\", \"338\": \"above\", \"339\": \"clips\", \"340\": \"reflect\", \"341\": \"inspiratory\", \"342\": \"parenchyma\", \"343\": \"inflammatory\", \"344\": \"vague\", \"345\": \"images\", \"346\": \"malignancy\", \"347\": \"through\", \"348\": \"8\", \"349\": \"weeks\", \"350\": \"up\", \"351\": \"infectious\", \"352\": \"treatment\", \"353\": \"venous\", \"354\": \"evaluate\", \"355\": \"ectasia\", \"356\": \"clavicle\", \"357\": \"svc\", \"358\": \"approximately\", \"359\": \"line\", \"360\": \"retrocardiac\", \"361\": \"overall\", \"362\": \"worsening\", \"363\": \"characterization\", \"364\": \"picc\", \"365\": \"includes\", \"366\": \"knee\", \"367\": \"abdominal\", \"368\": \"suggesting\", \"369\": \"pattern\", \"370\": \"trapping\", \"371\": \"that\", \"372\": \"warranted\", \"373\": \"status\", \"374\": \"extensive\", \"375\": \"pa\", \"376\": \"nonspecific\", \"377\": \"films\", \"378\": \"outside\", \"379\": \"stability\", \"380\": \"result\", \"381\": \"pericardial\", \"382\": \"obstructive\", \"383\": \"defined\", \"384\": \"hypoventilation\", \"385\": \"compared\", \"386\": \"following\", \"387\": \"discussed\", \"388\": \"similar\", \"389\": \"both\", \"390\": \"subclavian\", \"391\": \"measuring\", \"392\": \"suspected\", \"393\": \"surgery\", \"394\": \"present\", \"395\": \"peripheral\", \"396\": \"primary\", \"397\": \"dr\", \"398\": \"hyperinflation\", \"399\": \"loss\", \"400\": \"described\", \"401\": \"quality\", \"402\": \"demonstrated\", \"403\": \"diffuse\", \"404\": \"calcification\", \"405\": \"adjacent\", \"406\": \"hilum\", \"407\": \"near\", \"408\": \"bone\", \"409\": \"dedicated\", \"410\": \"artery\", \"411\": \"notification\", \"412\": \"documented\", \"413\": \"ill\", \"414\": \"after\", \"415\": \"ensure\", \"416\": \"configuration\", \"417\": \"setting\", \"418\": \"aneurysm\", \"419\": \"today\", \"420\": \"curvature\", \"421\": \"marked\", \"422\": \"diaphragm\", \"423\": \"atherosclerotic\", \"424\": \"arteries\", \"425\": \"pneumonitis\", \"426\": \"few\", \"427\": \"dense\", \"428\": \"senescent\", \"429\": \"although\", \"430\": \"only\", \"431\": \"top\", \"432\": \"vein\", \"433\": \"chf\", \"434\": \"been\", \"435\": \"cardiothoracic\", \"436\": \"tuberculous\", \"437\": \"round\", \"438\": \"ap\", \"439\": \"wedge\", \"440\": \"tenderness\", \"441\": \"aeration\", \"442\": \"questionable\", \"443\": \"any\", \"444\": \"irregular\", \"445\": \"also\", \"446\": \"fat\", \"447\": \"confirm\", \"448\": \"can\", \"449\": \"collapse\", \"450\": \"free\", \"451\": \"joint\", \"452\": \"sequela\", \"453\": \"sarcoidosis\", \"454\": \"ectatic\", \"455\": \"better\", \"456\": \"throughout\", \"457\": \"recent\", \"458\": \"6th\", \"459\": \"7th\", \"460\": \"difficult\", \"461\": \"shadows\", \"462\": \"probably\", \"463\": \"studies\", \"464\": \"less\", \"465\": \"decubitus\", \"466\": \"views\", \"467\": \"segment\", \"468\": \"worse\", \"469\": \"previously\", \"470\": \"consideration\", \"471\": \"does\", \"472\": \"lucency\", \"473\": \"numerous\", \"474\": \"dextroscoliosis\", \"475\": \"densities\", \"476\": \"hours\", \"477\": \"focus\", \"478\": \"artifact\", \"479\": \"lumbar\", \"480\": \"eventration\", \"481\": \"etiology\", \"482\": \"tracheostomy\", \"483\": \"hemithorax\", \"484\": \"aspiration\", \"485\": \"involving\", \"486\": \"hyperexpansion\", \"487\": \"surgical\", \"488\": \"frontal\", \"489\": \"results\", \"490\": \"telephone\", \"491\": \"removed\", \"492\": \"bowel\", \"493\": \"early\", \"494\": \"note\", \"495\": \"additional\", \"496\": \"along\", \"497\": \"wall\", \"498\": \"conspicuous\", \"499\": \"ascending\", \"500\": \"bronchiectasis\", \"501\": \"dilated\", \"502\": \"areas\", \"503\": \"amount\", \"504\": \"fusion\", \"505\": \"lordotic\", \"506\": \"increase\", \"507\": \"based\", \"508\": \"suggested\", \"509\": \"clearing\", \"510\": \"reactive\", \"511\": \"follow\", \"512\": \"appreciated\", \"513\": \"asymmetric\", \"514\": \"fibrotic\", \"515\": \"suprahilar\", \"516\": \"evaluated\", \"517\": \"bandlike\", \"518\": \"7\", \"519\": \"deformities\", \"520\": \"performed\", \"521\": \"periphery\", \"522\": \"development\", \"523\": \"scoliosis\", \"524\": \"decreasing\", \"525\": \"neck\", \"526\": \"rotation\", \"527\": \"superior\", \"528\": \"location\", \"529\": \"opacification\", \"530\": \"obvious\", \"531\": \"considerations\", \"532\": \"include\", \"533\": \"relatively\", \"534\": \"anticipated\", \"535\": \"lesions\", \"536\": \"high\", \"537\": \"developing\", \"538\": \"cabg\", \"539\": \"humerus\", \"540\": \"one\", \"541\": \"lesion\", \"542\": \"compartment\", \"543\": \"suggests\", \"544\": \"nipple\", \"545\": \"quadrant\", \"546\": \"valve\", \"547\": \"progression\", \"548\": \"characterized\", \"549\": \"l1\", \"550\": \"technical\", \"551\": \"factors\", \"552\": \"lobes\", \"553\": \"receipt\", \"554\": \"complete\", \"555\": \"stomach\", \"556\": \"inflammation\", \"557\": \"cancer\", \"558\": \"have\", \"559\": \"stent\", \"560\": \"localized\", \"561\": \"collection\", \"562\": \"shows\", \"563\": \"tb\", \"564\": \"end\", \"565\": \"report\", \"566\": \"aspect\", \"567\": \"sulcus\", \"568\": \"peribronchial\", \"569\": \"improvement\", \"570\": \"months\", \"571\": \"subtle\", \"572\": \"projection\", \"573\": \"unclear\", \"574\": \"maybe\", \"575\": \"fullness\", \"576\": \"regions\", \"577\": \"therapy\", \"578\": \"entirely\", \"579\": \"recommendations\", \"580\": \"m\", \"581\": \"indicate\", \"582\": \"indistinct\", \"583\": \"margination\", \"584\": \"obscured\", \"585\": \"favored\", \"586\": \"arterial\", \"587\": \"atrial\", \"588\": \"should\", \"589\": \"considered\", \"590\": \"incompletely\", \"591\": \"spaces\", \"592\": \"uncertain\", \"593\": \"part\", \"594\": \"osteopenia\", \"595\": \"will\", \"596\": \"overlapping\", \"597\": \"useful\", \"598\": \"removal\", \"599\": \"platelike\", \"600\": \"side\", \"601\": \"injuries\", \"602\": \"overload\", \"603\": \"recess\", \"604\": \"tumor\", \"605\": \"dislocations\", \"606\": \"nondisplaced\", \"607\": \"irregularity\", \"608\": \"healing\", \"609\": \"out\", \"610\": \"sclerotic\", \"611\": \"radiologist\", \"612\": \"addition\", \"613\": \"series\", \"614\": \"p\", \"615\": \"questions\", \"616\": \"radiographically\", \"617\": \"apparent\", \"618\": \"coronary\", \"619\": \"moderately\", \"620\": \"intravenous\", \"621\": \"healed\", \"622\": \"see\", \"623\": \"followed\", \"624\": \"azygos\", \"625\": \"incidentally\", \"626\": \"pectus\", \"627\": \"first\", \"628\": \"intact\", \"629\": \"shaped\", \"630\": \"thoracolumbar\", \"631\": \"redemonstrated\", \"632\": \"gross\", \"633\": \"shift\", \"634\": \"notified\", \"635\": \"8mm\", \"636\": \"again\", \"637\": \"postoperative\", \"638\": \"considering\", \"639\": \"cavity\", \"640\": \"placement\", \"641\": \"9\", \"642\": \"cystic\", \"643\": \"projects\", \"644\": \"bullous\", \"645\": \"benign\", \"646\": \"other\", \"647\": \"carina\", \"648\": \"cervical\", \"649\": \"biapical\", \"650\": \"cavitary\", \"651\": \"atherosclerosis\", \"652\": \"lumen\", \"653\": \"internal\", \"654\": \"jugular\", \"655\": \"atrium\", \"656\": \"metastases\", \"657\": \"pelvis\", \"658\": \"dislocation\", \"659\": \"loculated\", \"660\": \"fissure\", \"661\": \"zone\", \"662\": \"vertebrae\", \"663\": \"10\", \"664\": \"repeat\", \"665\": \"decreased\", \"666\": \"discrete\", \"667\": \"separation\", \"668\": \"cortical\", \"669\": \"remote\", \"670\": \"determine\", \"671\": \"term\", \"672\": \"none\", \"673\": \"short\", \"674\": \"demonstrates\", \"675\": \"bronchitis\", \"676\": \"exact\", \"677\": \"cuffing\", \"678\": \"12\", \"679\": \"widening\", \"680\": \"hemidiaphragms\", \"681\": \"minimally\", \"682\": \"department\", \"683\": \"reflecting\", \"684\": \"structure\", \"685\": \"pancreatitis\", \"686\": \"approximating\", \"687\": \"multifocal\", \"688\": \"endplate\", \"689\": \"grade\", \"690\": \"t10\", \"691\": \"t11\", \"692\": \"enhanced\", \"693\": \"corresponding\", \"694\": \"recurrence\", \"695\": \"onset\", \"696\": \"9th\", \"697\": \"reflects\", \"698\": \"significantly\", \"699\": \"sinus\", \"700\": \"detailed\", \"701\": \"scapular\", \"702\": \"head\", \"703\": \"adequately\", \"704\": \"bronchiolitis\", \"705\": \"exaggerated\", \"706\": \"silhouettes\", \"707\": \"identify\", \"708\": \"somewhat\", \"709\": \"resolve\", \"710\": \"intraperitoneal\", \"711\": \"establish\", \"712\": \"5th\", \"713\": \"rule\", \"714\": \"message\", \"715\": \"regarding\", \"716\": \"junction\", \"717\": \"tubes\", \"718\": \"review\", \"719\": \"sternum\", \"720\": \"callus\", \"721\": \"projectional\", \"722\": \"crowded\", \"723\": \"portion\", \"724\": \"foot\", \"725\": \"replacement\", \"726\": \"densely\", \"727\": \"obtained\", \"728\": \"confirmation\", \"729\": \"interpretation\", \"730\": \"ij\", \"731\": \"approach\", \"732\": \"essentially\", \"733\": \"resolved\", \"734\": \"bodies\", \"735\": \"infrahilar\", \"736\": \"comparisons\", \"737\": \"bypass\", \"738\": \"grafting\", \"739\": \"cleared\", \"740\": \"characterize\", \"741\": \"proximal\", \"742\": \"like\", \"743\": \"discuss\", \"744\": \"case\", \"745\": \"thanks\", \"746\": \"calcific\", \"747\": \"vp\", \"748\": \"shunt\", \"749\": \"tubing\", \"750\": \"technically\", \"751\": \"reticulonodular\", \"752\": \"inferior\", \"753\": \"narrowing\", \"754\": \"either\", \"755\": \"needed\", \"756\": \"persist\", \"757\": \"breast\", \"758\": \"resection\", \"759\": \"kyphosis\", \"760\": \"including\", \"761\": \"lymphoma\", \"762\": \"epicardial\", \"763\": \"t12\", \"764\": \"levoscoliosis\", \"765\": \"retained\", \"766\": \"metastasis\", \"767\": \"traumatic\", \"768\": \"ankle\", \"769\": \"retraction\", \"770\": \"suspicion\", \"771\": \"granulomata\", \"772\": \"substantial\", \"773\": \"obstruction\", \"774\": \"sized\", \"775\": \"impression\", \"776\": \"pm\", \"777\": \"hypoinflated\", \"778\": \"advanced\", \"779\": \"markedly\", \"780\": \"highly\", \"781\": \"acknowledged\", \"782\": \"scapula\", \"783\": \"basal\", \"784\": \"esophagogastric\", \"785\": \"inferiorly\", \"786\": \"into\", \"787\": \"indeterminant\", \"788\": \"desired\", \"789\": \"position\", \"790\": \"two\", \"791\": \"posteriorly\", \"792\": \"origin\", \"793\": \"time\", \"794\": \"scars\", \"795\": \"gallbladder\", \"796\": \"unknown\", \"797\": \"significance\", \"798\": \"located\", \"799\": \"rounded\", \"800\": \"exams\", \"801\": \"masslike\", \"802\": \"blunted\", \"803\": \"redistribution\", \"804\": \"i\", \"805\": \"largest\", \"806\": \"its\", \"807\": \"containing\", \"808\": \"bronchitic\", \"809\": \"4th\", \"810\": \"discordant\", \"811\": \"tips\", \"812\": \"reticular\", \"813\": \"congestive\", \"814\": \"below\", \"815\": \"carinatum\", \"816\": \"subpulmonic\", \"817\": \"splenic\", \"818\": \"cyst\", \"819\": \"radiation\", \"820\": \"postop\", \"821\": \"completely\", \"822\": \"absence\", \"823\": \"interstitium\", \"824\": \"cholecystectomy\", \"825\": \"dual\", \"826\": \"extremity\", \"827\": \"generalized\", \"828\": \"pathology\", \"829\": \"innominate\", \"830\": \"reaction\", \"831\": \"now\", \"832\": \"intra\", \"833\": \"confluent\", \"834\": \"opportunity\", \"835\": \"assist\", \"836\": \"care\", \"837\": \"your\", \"838\": \"about\", \"839\": \"certified\", \"840\": \"histoplasmoma\", \"841\": \"node\", \"842\": \"accentuated\", \"843\": \"workup\", \"844\": \"nonsclerotic\", \"845\": \"examinations\", \"846\": \"remarkable\", \"847\": \"mastectomy\", \"848\": \"subluxation\", \"849\": \"accompanied\", \"850\": \"discoid\", \"851\": \"bronchi\", \"852\": \"filled\", \"853\": \"mucous\", \"854\": \"width\", \"855\": \"supine\", \"856\": \"t7\", \"857\": \"cxr\", \"858\": \"innumerable\", \"859\": \"pain\", \"860\": \"long\", \"861\": \"coronal\", \"862\": \"sagittal\", \"863\": \"reformatted\", \"864\": \"institution\", \"865\": \"confidently\", \"866\": \"particularly\", \"867\": \"obscuring\", \"868\": \"skeletal\", \"869\": \"habitus\", \"870\": \"t\", \"871\": \"c\", \"872\": \"whether\", \"873\": \"widened\", \"874\": \"favoring\", \"875\": \"oblong\", \"876\": \"manifestations\", \"877\": \"airways\", \"878\": \"beneath\", \"879\": \"juxtahilar\", \"880\": \"attributable\", \"881\": \"sternoclavicular\", \"882\": \"assessment\", \"883\": \"colonic\", \"884\": \"interposition\", \"885\": \"stigmata\", \"886\": \"cell\", \"887\": \"cholelithiasis\", \"888\": \"circumscribed\", \"889\": \"appendage\", \"890\": \"online\", \"891\": \"pleuritis\", \"892\": \"sympathetic\", \"893\": \"axilla\", \"894\": \"br\", \"895\": \"arm\", \"896\": \"acuity\", \"897\": \"correlated\", \"898\": \"anterolisthesis\", \"899\": \"kyphotic\", \"900\": \"degenerated\", \"901\": \"multilevel\", \"902\": \"poorly\", \"903\": \"lobulated\", \"904\": \"require\", \"905\": \"remainder\", \"906\": \"haziness\", \"907\": \"explained\", \"908\": \"dyspnea\", \"909\": \"positioning\", \"910\": \"remaining\", \"911\": \"obliteration\", \"912\": \"alternatively\", \"913\": \"acromioclavicular\", \"914\": \"subglottic\", \"915\": \"prevertebral\", \"916\": \"epiglottis\", \"917\": \"caliber\", \"918\": \"placed\", \"919\": \"subpleural\", \"920\": \"viral\", \"921\": \"provide\", \"922\": \"mixed\", \"923\": \"increasing\", \"924\": \"segments\", \"925\": \"causing\", \"926\": \"fractured\", \"927\": \"complication\", \"928\": \"under\", \"929\": \"dominant\", \"930\": \"diagnostic\", \"931\": \"carcinoma\", \"932\": \"brain\", \"933\": \"destructive\", \"934\": \"great\", \"935\": \"underneath\", \"936\": \"second\", \"937\": \"cross\", \"938\": \"sectional\", \"939\": \"verify\", \"940\": \"veriphy\", \"941\": \"sent\", \"942\": \"redemonstration\", \"943\": \"feeding\", \"944\": \"gastroesophageal\", \"945\": \"piriform\", \"946\": \"parapneumonic\", \"947\": \"lipoma\", \"948\": \"lines\", \"949\": \"interface\", \"950\": \"staff\", \"951\": \"core\", \"952\": \"margin\", \"953\": \"lentiform\", \"954\": \"hyperdensity\", \"955\": \"formation\", \"956\": \"ovoid\", \"957\": \"solid\", \"958\": \"assess\", \"959\": \"circular\", \"960\": \"arteriographic\", \"961\": \"erosions\", \"962\": \"accentuation\", \"963\": \"appreciable\", \"964\": \"it\", \"965\": \"kv\", \"966\": \"addended\", \"967\": \"symptoms\", \"968\": \"reaches\", \"969\": \"brachiocephalic\", \"970\": \"confluence\", \"971\": \"radiodense\", \"972\": \"foreign\", \"973\": \"scoliotic\", \"974\": \"t9\", \"975\": \"bibasal\", \"976\": \"thoracentesis\", \"977\": \"hemoptysis\", \"978\": \"paralysis\", \"979\": \"fluoroscopic\", \"980\": \"nasopharynx\", \"981\": \"potential\", \"982\": \"exchange\", \"983\": \"25\", \"984\": \"residua\", \"985\": \"osteocartilaginous\", \"986\": \"conceivably\", \"987\": \"displacement\", \"988\": \"closely\", \"989\": \"skin\", \"990\": \"surface\", \"991\": \"alignment\", \"992\": \"expected\", \"993\": \"repositioning\", \"994\": \"nephrostomy\", \"995\": \"larger\", \"996\": \"distribution\", \"997\": \"earlier\", \"998\": \"patellofemoral\", \"999\": \"pneumoperitoneum\", \"1000\": \"attributed\", \"1001\": \"hyper\", \"1002\": \"hyperlucent\", \"1003\": \"cachexia\", \"1004\": \"excavatum\", \"1005\": \"fibronodular\", \"1006\": \"disruption\", \"1007\": \"component\", \"1008\": \"clarification\", \"1009\": \"clavicular\", \"1010\": \"nonenlarged\", \"1011\": \"epigastric\", \"1012\": \"transection\", \"1013\": \"noncalcified\", \"1014\": \"benefit\", \"1015\": \"consolidations\", \"1016\": \"implants\", \"1017\": \"t6\", \"1018\": \"overlap\", \"1019\": \"evident\", \"1020\": \"hodgkin\", \"1021\": \"aicd\", \"1022\": \"tenting\", \"1023\": \"clipped\", \"1024\": \"pads\", \"1025\": \"dish\", \"1026\": \"17\", \"1027\": \"developmental\", \"1028\": \"anomaly\", \"1029\": \"partially\", \"1030\": \"oligemia\", \"1031\": \"renal\", \"1032\": \"collecting\", \"1033\": \"indolent\", \"1034\": \"here\", \"1035\": \"perhaps\", \"1036\": \"diameter\", \"1037\": \"iv\", \"1038\": \"elbow\", \"1039\": \"forearm\", \"1040\": \"midfoot\", \"1041\": \"calcaneal\", \"1042\": \"enthesopathy\", \"1043\": \"reduced\", \"1044\": \"subcutaneous\", \"1045\": \"tissues\", \"1046\": \"presumably\", \"1047\": \"relates\", \"1048\": \"mechanical\", \"1049\": \"smaller\", \"1050\": \"sensitive\", \"1051\": \"detecting\", \"1052\": \"mri\", \"1053\": \"conveyed\", \"1054\": \"ordering\", \"1055\": \"physician\", \"1056\": \"communication\", \"1057\": \"2v\", \"1058\": \"date\", \"1059\": \"shortness\", \"1060\": \"breath\", \"1061\": \"motion\", \"1062\": \"prosthetic\", \"1063\": \"lymphoproliferative\", \"1064\": \"inhalational\", \"1065\": \"worrisome\", \"1066\": \"drainage\", \"1067\": \"processes\", \"1068\": \"recesses\", \"1069\": \"coursing\", \"1070\": \"included\", \"1071\": \"flexion\", \"1072\": \"several\", \"1073\": \"pathologic\", \"1074\": \"dissection\", \"1075\": \"voluntary\", \"1076\": \"hydropneumothorax\", \"1077\": \"empyema\", \"1078\": \"humeral\", \"1079\": \"orthopedic\", \"1080\": \"attention\", \"1081\": \"actual\", \"1082\": \"satisfactory\", \"1083\": \"trachea\", \"1084\": \"background\", \"1085\": \"doctor\", \"1086\": \"service\", \"1087\": \"142\", \"1088\": \"11\", \"1089\": \"degree\", \"1090\": \"vertebra\", \"1091\": \"subjacent\", \"1092\": \"another\", \"1093\": \"currently\", \"1094\": \"islands\", \"1095\": \"costochondral\", \"1096\": \"junctions\", \"1097\": \"exacerbation\", \"1098\": \"posttraumatic\", \"1099\": \"gunshot\", \"1100\": \"wound\", \"1101\": \"13\", \"1102\": \"14\", \"1103\": \"ring\", \"1104\": \"certainty\", \"1105\": \"something\", \"1106\": \"external\", \"1107\": \"decrease\", \"1108\": \"definitely\", \"1109\": \"opportunistic\", \"1110\": \"idiopathic\", \"1111\": \"consolidative\", \"1112\": \"suboptimal\", \"1113\": \"inspiration\", \"1114\": \"reactivation\", \"1115\": \"enteric\", \"1116\": \"midline\", \"1117\": \"bullet\", \"1118\": \"overlies\", \"1119\": \"l3\", \"1120\": \"projectile\", \"1121\": \"until\", \"1122\": \"obliquely\", \"1123\": \"oriented\", \"1124\": \"12th\", \"1125\": \"per\", \"1126\": \"sulci\", \"1127\": \"dependent\", \"1128\": \"raises\", \"1129\": \"leftward\", \"1130\": \"advised\", \"1131\": \"contain\", \"1132\": \"possibility\", \"1133\": \"cavitation\", \"1134\": \"postprocedural\", \"1135\": \"elsewhere\", \"1136\": \"persists\", \"1137\": \"medication\", \"1138\": \"injection\", \"1139\": \"cavoatrial\", \"1140\": \"paraspinal\", \"1141\": \"retrocrural\", \"1142\": \"liver\", \"1143\": \"loops\", \"1144\": \"suggestion\", \"1145\": \"radiography\", \"1146\": \"notably\", \"1147\": \"capping\", \"1148\": \"mitral\", \"1149\": \"annular\", \"1150\": \"esophagus\", \"1151\": \"constellation\", \"1152\": \"parahilar\", \"1153\": \"portacatheter\", \"1154\": \"effort\", \"1155\": \"reference\", \"1156\": \"coiled\", \"1157\": \"artifacts\", \"1158\": \"embolization\", \"1159\": \"procedure\", \"1160\": \"ng\", \"1161\": \"distention\", \"1162\": \"correct\", \"1163\": \"osteoarthritis\", \"1164\": \"all\", \"1165\": \"compartments\", \"1166\": \"exposure\", \"1167\": \"knees\", \"1168\": \"nodularity\", \"1169\": \"7mm\", \"1170\": \"non\", \"1171\": \"though\", \"1172\": \"symmetrically\", \"1173\": \"aerated\", \"1174\": \"peripherally\", \"1175\": \"thought\", \"1176\": \"winged\", \"1177\": \"supporting\", \"1178\": \"transverse\", \"1179\": \"broken\", \"1180\": \"fragment\", \"1181\": \"loculation\", \"1182\": \"layering\", \"1183\": \"improving\", \"1184\": \"airway\", \"1185\": \"entering\", \"1186\": \"coarse\", \"1187\": \"epigastrium\", \"1188\": \"image\", \"1189\": \"pancreatic\", \"1190\": \"pneumomediastinum\", \"1191\": \"buckling\", \"1192\": \"cortex\", \"1193\": \"energy\", \"1194\": \"summation\", \"1195\": \"perform\", \"1196\": \"thoracotomy\", \"1197\": \"nonobstructive\", \"1198\": \"compressive\", \"1199\": \"neoplastic\", \"1200\": \"dialysis\", \"1201\": \"projected\", \"1202\": \"reviewed\", \"1203\": \"lobectomy\", \"1204\": \"developed\", \"1205\": \"spinal\", \"1206\": \"fixation\", \"1207\": \"recurrent\", \"1208\": \"almost\", \"1209\": \"outflow\", \"1210\": \"indicates\", \"1211\": \"raise\", \"1212\": \"xray\", \"1213\": \"multilobar\", \"1214\": \"enlarging\", \"1215\": \"terminates\", \"1216\": \"showing\", \"1217\": \"type\", \"1218\": \"concomitant\", \"1219\": \"lt\", \"1220\": \"gt\", \"1221\": \"raising\", \"1222\": \"esophagectomy\", \"1223\": \"imaged\", \"1224\": \"focused\", \"1225\": \"outward\", \"1226\": \"partial\", \"1227\": \"hemothorax\", \"1228\": \"postobstructive\", \"1229\": \"tricompartmental\", \"1230\": \"reasonable\", \"1231\": \"allow\", \"1232\": \"presence\", \"1233\": \"diffusely\", \"1234\": \"greatest\", \"1235\": \"oblique\", \"1236\": \"true\", \"1237\": \"arthritic\", \"1238\": \"hips\", \"1239\": \"suture\", \"1240\": \"material\", \"1241\": \"employed\", \"1242\": \"notify\", \"1243\": \"referring\", \"1244\": \"physicians\", \"1245\": \"arising\", \"1246\": \"flattened\", \"1247\": \"occult\", \"1248\": \"xxxxpm\", \"1249\": \"accepted\", \"1250\": \"faxed\", \"1251\": \"localize\", \"1252\": \"suspect\", \"1253\": \"informative\", \"1254\": \"thyroid\", \"1255\": \"op\", \"1256\": \"medially\", \"1257\": \"define\", \"1258\": \"infracarinal\", \"1259\": \"pneumothoraces\", \"1260\": \"flowing\", \"1261\": \"osteophytes\", \"1262\": \"histoplasmosis\", \"1263\": \"difference\", \"1264\": \"subsequent\", \"1265\": \"strongly\", \"1266\": \"malpositioned\", \"1267\": \"neoplasm\", \"1268\": \"initiated\", \"1269\": \"contrasted\", \"1270\": \"suggestions\", \"1271\": \"pronounced\", \"1272\": \"postradiation\", \"1273\": \"demineralization\", \"1274\": \"combination\", \"1275\": \"ruled\", \"1276\": \"disc\", \"1277\": \"inlet\", \"1278\": \"overlie\", \"1279\": \"pic\", \"1280\": \"communicated\", \"1281\": \"inability\", \"1282\": \"definitively\", \"1283\": \"nonemergent\", \"1284\": \"single\", \"1285\": \"infiltrative\", \"1286\": \"prosthesis\", \"1287\": \"between\", \"1288\": \"8th\", \"1289\": \"scans\", \"1290\": \"cardiophrenic\", \"1291\": \"technologist\", \"1292\": \"exist\", \"1293\": \"element\", \"1294\": \"atelectatic\", \"1295\": \"ventricle\", \"1296\": \"incidental\", \"1297\": \"scant\", \"1298\": \"foci\", \"1299\": \"postinfectious\", \"1300\": \"postinflammatory\"}',\n",
       " 'word_index': '{\"no\": 1, \"acute\": 2, \"cardiopulmonary\": 3, \"xxxx\": 4, \"disease\": 5, \"of\": 6, \"abnormality\": 7, \"the\": 8, \"1\": 9, \"and\": 10, \"right\": 11, \"normal\": 12, \"pulmonary\": 13, \"findings\": 14, \"with\": 15, \"left\": 16, \"lungs\": 17, \"or\": 18, \"chest\": 19, \"is\": 20, \"2\": 21, \"clear\": 22, \"active\": 23, \"heart\": 24, \"process\": 25, \"pleural\": 26, \"lung\": 27, \"evidence\": 28, \"size\": 29, \"in\": 30, \"to\": 31, \"atelectasis\": 32, \"are\": 33, \"stable\": 34, \"effusion\": 35, \"for\": 36, \"cardiomegaly\": 37, \"lobe\": 38, \"abnormalities\": 39, \"mild\": 40, \"airspace\": 41, \"mediastinal\": 42, \"be\": 43, \"edema\": 44, \"within\": 45, \"upper\": 46, \"limits\": 47, \"without\": 48, \"may\": 49, \"focal\": 50, \"pneumonia\": 51, \"negative\": 52, \"radiographic\": 53, \"effusions\": 54, \"identified\": 55, \"pneumothorax\": 56, \"changes\": 57, \"a\": 58, \"there\": 59, \"opacities\": 60, \"consolidation\": 61, \"lower\": 62, \"opacity\": 63, \"low\": 64, \"small\": 65, \"this\": 66, \"bilateral\": 67, \"seen\": 68, \"basilar\": 69, \"on\": 70, \"infiltrate\": 71, \"interstitial\": 72, \"contour\": 73, \"volumes\": 74, \"represent\": 75, \"scarring\": 76, \"base\": 77, \"chronic\": 78, \"comparison\": 79, \"further\": 80, \"calcified\": 81, \"prior\": 82, \"3\": 83, \"x\": 84, \"nodules\": 85, \"if\": 86, \"lateral\": 87, \"well\": 88, \"silhouette\": 89, \"bibasilar\": 90, \"emphysema\": 91, \"which\": 92, \"minimal\": 93, \"exam\": 94, \"versus\": 95, \"thoracic\": 96, \"expanded\": 97, \"otherwise\": 98, \"tuberculosis\": 99, \"change\": 100, \"appearance\": 101, \"at\": 102, \"interval\": 103, \"cardiac\": 104, \"from\": 105, \"could\": 106, \"rib\": 107, \"spine\": 108, \"evaluation\": 109, \"ct\": 110, \"air\": 111, \"not\": 112, \"nodule\": 113, \"as\": 114, \"infection\": 115, \"unremarkable\": 116, \"unchanged\": 117, \"vascular\": 118, \"subsegmental\": 119, \"patchy\": 120, \"followup\": 121, \"definite\": 122, \"compatible\": 123, \"recommend\": 124, \"study\": 125, \"increased\": 126, \"noted\": 127, \"prominent\": 128, \"recommended\": 129, \"granuloma\": 130, \"finding\": 131, \"copd\": 132, \"aorta\": 133, \"hilar\": 134, \"midlung\": 135, \"appear\": 136, \"granulomatous\": 137, \"radiograph\": 138, \"masses\": 139, \"hemidiaphragm\": 140, \"view\": 141, \"fractures\": 142, \"fracture\": 143, \"resolution\": 144, \"most\": 145, \"degenerative\": 146, \"nodular\": 147, \"consistent\": 148, \"sided\": 149, \"tip\": 150, \"consider\": 151, \"central\": 152, \"previous\": 153, \"costophrenic\": 154, \"patient\": 155, \"vasculature\": 156, \"but\": 157, \"streaky\": 158, \"moderate\": 159, \"crowding\": 160, \"middle\": 161, \"large\": 162, \"mm\": 163, \"appears\": 164, \"clinical\": 165, \"aortic\": 166, \"perihilar\": 167, \"would\": 168, \"bronchovascular\": 169, \"space\": 170, \"hyperexpanded\": 171, \"borderline\": 172, \"mildly\": 173, \"congestion\": 174, \"possibly\": 175, \"4\": 176, \"density\": 177, \"mass\": 178, \"enlarged\": 179, \"secondary\": 180, \"due\": 181, \"posterior\": 182, \"structures\": 183, \"typical\": 184, \"cm\": 185, \"5\": 186, \"hypoinflation\": 187, \"anterior\": 188, \"apical\": 189, \"s\": 190, \"possible\": 191, \"visible\": 192, \"limited\": 193, \"infiltrates\": 194, \"prominence\": 195, \"mediastinum\": 196, \"bony\": 197, \"tortuous\": 198, \"suggestive\": 199, \"an\": 200, \"catheter\": 201, \"cardiomediastinal\": 202, \"superimposed\": 203, \"clinically\": 204, \"correlation\": 205, \"some\": 206, \"adenopathy\": 207, \"volume\": 208, \"than\": 209, \"hiatal\": 210, \"hernia\": 211, \"probable\": 212, \"old\": 213, \"hyperinflated\": 214, \"deformity\": 215, \"vascularity\": 216, \"granulomas\": 217, \"alveolar\": 218, \"over\": 219, \"contours\": 220, \"imaging\": 221, \"fibrosis\": 222, \"suggest\": 223, \"blunting\": 224, \"contrast\": 225, \"significant\": 226, \"these\": 227, \"markings\": 228, \"failure\": 229, \"intrathoracic\": 230, \"thickening\": 231, \"helpful\": 232, \"severe\": 233, \"medial\": 234, \"lobar\": 235, \"enlargement\": 236, \"metastatic\": 237, \"grossly\": 238, \"since\": 239, \"differential\": 240, \"preoperative\": 241, \"examination\": 242, \"age\": 243, \"question\": 244, \"parenchymal\": 245, \"available\": 246, \"history\": 247, \"overlying\": 248, \"mid\": 249, \"persistent\": 250, \"scan\": 251, \"projecting\": 252, \"fluid\": 253, \"indicated\": 254, \"emphysematous\": 255, \"underlying\": 256, \"ribs\": 257, \"lymph\": 258, \"abdomen\": 259, \"film\": 260, \"please\": 261, \"suspicious\": 262, \"elevated\": 263, \"associated\": 264, \"calcifications\": 265, \"indeterminate\": 266, \"scattered\": 267, \"given\": 268, \"appearing\": 269, \"osseous\": 270, \"known\": 271, \"elevation\": 272, \"level\": 273, \"by\": 274, \"slightly\": 275, \"representing\": 276, \"concern\": 277, \"soft\": 278, \"injury\": 279, \"however\": 280, \"region\": 281, \"concerning\": 282, \"slight\": 283, \"atypical\": 284, \"postsurgical\": 285, \"distal\": 286, \"apex\": 287, \"6\": 288, \"vertebral\": 289, \"before\": 290, \"multiple\": 291, \"diagnosis\": 292, \"specifically\": 293, \"post\": 294, \"more\": 295, \"technique\": 296, \"midthoracic\": 297, \"correlate\": 298, \"continued\": 299, \"tissue\": 300, \"abnormal\": 301, \"related\": 302, \"body\": 303, \"appropriate\": 304, \"exclude\": 305, \"document\": 306, \"hypertension\": 307, \"area\": 308, \"greater\": 309, \"tortuosity\": 310, \"has\": 311, \"represents\": 312, \"spurring\": 313, \"tube\": 314, \"radiographs\": 315, \"visualized\": 316, \"shoulder\": 317, \"lymphadenopathy\": 318, \"very\": 319, \"displaced\": 320, \"bases\": 321, \"residual\": 322, \"thorax\": 323, \"were\": 324, \"cannot\": 325, \"excluded\": 326, \"critical\": 327, \"primordial\": 328, \"improved\": 329, \"bilaterally\": 330, \"lingula\": 331, \"lingular\": 332, \"paratracheal\": 333, \"scar\": 334, \"overt\": 335, \"sternotomy\": 336, \"was\": 337, \"above\": 338, \"clips\": 339, \"reflect\": 340, \"inspiratory\": 341, \"parenchyma\": 342, \"inflammatory\": 343, \"vague\": 344, \"images\": 345, \"malignancy\": 346, \"through\": 347, \"8\": 348, \"weeks\": 349, \"up\": 350, \"infectious\": 351, \"treatment\": 352, \"venous\": 353, \"evaluate\": 354, \"ectasia\": 355, \"clavicle\": 356, \"svc\": 357, \"approximately\": 358, \"line\": 359, \"retrocardiac\": 360, \"overall\": 361, \"worsening\": 362, \"characterization\": 363, \"picc\": 364, \"includes\": 365, \"knee\": 366, \"abdominal\": 367, \"suggesting\": 368, \"pattern\": 369, \"trapping\": 370, \"that\": 371, \"warranted\": 372, \"status\": 373, \"extensive\": 374, \"pa\": 375, \"nonspecific\": 376, \"films\": 377, \"outside\": 378, \"stability\": 379, \"result\": 380, \"pericardial\": 381, \"obstructive\": 382, \"defined\": 383, \"hypoventilation\": 384, \"compared\": 385, \"following\": 386, \"discussed\": 387, \"similar\": 388, \"both\": 389, \"subclavian\": 390, \"measuring\": 391, \"suspected\": 392, \"surgery\": 393, \"present\": 394, \"peripheral\": 395, \"primary\": 396, \"dr\": 397, \"hyperinflation\": 398, \"loss\": 399, \"described\": 400, \"quality\": 401, \"demonstrated\": 402, \"diffuse\": 403, \"calcification\": 404, \"adjacent\": 405, \"hilum\": 406, \"near\": 407, \"bone\": 408, \"dedicated\": 409, \"artery\": 410, \"notification\": 411, \"documented\": 412, \"ill\": 413, \"after\": 414, \"ensure\": 415, \"configuration\": 416, \"setting\": 417, \"aneurysm\": 418, \"today\": 419, \"curvature\": 420, \"marked\": 421, \"diaphragm\": 422, \"atherosclerotic\": 423, \"arteries\": 424, \"pneumonitis\": 425, \"few\": 426, \"dense\": 427, \"senescent\": 428, \"although\": 429, \"only\": 430, \"top\": 431, \"vein\": 432, \"chf\": 433, \"been\": 434, \"cardiothoracic\": 435, \"tuberculous\": 436, \"round\": 437, \"ap\": 438, \"wedge\": 439, \"tenderness\": 440, \"aeration\": 441, \"questionable\": 442, \"any\": 443, \"irregular\": 444, \"also\": 445, \"fat\": 446, \"confirm\": 447, \"can\": 448, \"collapse\": 449, \"free\": 450, \"joint\": 451, \"sequela\": 452, \"sarcoidosis\": 453, \"ectatic\": 454, \"better\": 455, \"throughout\": 456, \"recent\": 457, \"6th\": 458, \"7th\": 459, \"difficult\": 460, \"shadows\": 461, \"probably\": 462, \"studies\": 463, \"less\": 464, \"decubitus\": 465, \"views\": 466, \"segment\": 467, \"worse\": 468, \"previously\": 469, \"consideration\": 470, \"does\": 471, \"lucency\": 472, \"numerous\": 473, \"dextroscoliosis\": 474, \"densities\": 475, \"hours\": 476, \"focus\": 477, \"artifact\": 478, \"lumbar\": 479, \"eventration\": 480, \"etiology\": 481, \"tracheostomy\": 482, \"hemithorax\": 483, \"aspiration\": 484, \"involving\": 485, \"hyperexpansion\": 486, \"surgical\": 487, \"frontal\": 488, \"results\": 489, \"telephone\": 490, \"removed\": 491, \"bowel\": 492, \"early\": 493, \"note\": 494, \"additional\": 495, \"along\": 496, \"wall\": 497, \"conspicuous\": 498, \"ascending\": 499, \"bronchiectasis\": 500, \"dilated\": 501, \"areas\": 502, \"amount\": 503, \"fusion\": 504, \"lordotic\": 505, \"increase\": 506, \"based\": 507, \"suggested\": 508, \"clearing\": 509, \"reactive\": 510, \"follow\": 511, \"appreciated\": 512, \"asymmetric\": 513, \"fibrotic\": 514, \"suprahilar\": 515, \"evaluated\": 516, \"bandlike\": 517, \"7\": 518, \"deformities\": 519, \"performed\": 520, \"periphery\": 521, \"development\": 522, \"scoliosis\": 523, \"decreasing\": 524, \"neck\": 525, \"rotation\": 526, \"superior\": 527, \"location\": 528, \"opacification\": 529, \"obvious\": 530, \"considerations\": 531, \"include\": 532, \"relatively\": 533, \"anticipated\": 534, \"lesions\": 535, \"high\": 536, \"developing\": 537, \"cabg\": 538, \"humerus\": 539, \"one\": 540, \"lesion\": 541, \"compartment\": 542, \"suggests\": 543, \"nipple\": 544, \"quadrant\": 545, \"valve\": 546, \"progression\": 547, \"characterized\": 548, \"l1\": 549, \"technical\": 550, \"factors\": 551, \"lobes\": 552, \"receipt\": 553, \"complete\": 554, \"stomach\": 555, \"inflammation\": 556, \"cancer\": 557, \"have\": 558, \"stent\": 559, \"localized\": 560, \"collection\": 561, \"shows\": 562, \"tb\": 563, \"end\": 564, \"report\": 565, \"aspect\": 566, \"sulcus\": 567, \"peribronchial\": 568, \"improvement\": 569, \"months\": 570, \"subtle\": 571, \"projection\": 572, \"unclear\": 573, \"maybe\": 574, \"fullness\": 575, \"regions\": 576, \"therapy\": 577, \"entirely\": 578, \"recommendations\": 579, \"m\": 580, \"indicate\": 581, \"indistinct\": 582, \"margination\": 583, \"obscured\": 584, \"favored\": 585, \"arterial\": 586, \"atrial\": 587, \"should\": 588, \"considered\": 589, \"incompletely\": 590, \"spaces\": 591, \"uncertain\": 592, \"part\": 593, \"osteopenia\": 594, \"will\": 595, \"overlapping\": 596, \"useful\": 597, \"removal\": 598, \"platelike\": 599, \"side\": 600, \"injuries\": 601, \"overload\": 602, \"recess\": 603, \"tumor\": 604, \"dislocations\": 605, \"nondisplaced\": 606, \"irregularity\": 607, \"healing\": 608, \"out\": 609, \"sclerotic\": 610, \"radiologist\": 611, \"addition\": 612, \"series\": 613, \"p\": 614, \"questions\": 615, \"radiographically\": 616, \"apparent\": 617, \"coronary\": 618, \"moderately\": 619, \"intravenous\": 620, \"healed\": 621, \"see\": 622, \"followed\": 623, \"azygos\": 624, \"incidentally\": 625, \"pectus\": 626, \"first\": 627, \"intact\": 628, \"shaped\": 629, \"thoracolumbar\": 630, \"redemonstrated\": 631, \"gross\": 632, \"shift\": 633, \"notified\": 634, \"8mm\": 635, \"again\": 636, \"postoperative\": 637, \"considering\": 638, \"cavity\": 639, \"placement\": 640, \"9\": 641, \"cystic\": 642, \"projects\": 643, \"bullous\": 644, \"benign\": 645, \"other\": 646, \"carina\": 647, \"cervical\": 648, \"biapical\": 649, \"cavitary\": 650, \"atherosclerosis\": 651, \"lumen\": 652, \"internal\": 653, \"jugular\": 654, \"atrium\": 655, \"metastases\": 656, \"pelvis\": 657, \"dislocation\": 658, \"loculated\": 659, \"fissure\": 660, \"zone\": 661, \"vertebrae\": 662, \"10\": 663, \"repeat\": 664, \"decreased\": 665, \"discrete\": 666, \"separation\": 667, \"cortical\": 668, \"remote\": 669, \"determine\": 670, \"term\": 671, \"none\": 672, \"short\": 673, \"demonstrates\": 674, \"bronchitis\": 675, \"exact\": 676, \"cuffing\": 677, \"12\": 678, \"widening\": 679, \"hemidiaphragms\": 680, \"minimally\": 681, \"department\": 682, \"reflecting\": 683, \"structure\": 684, \"pancreatitis\": 685, \"approximating\": 686, \"multifocal\": 687, \"endplate\": 688, \"grade\": 689, \"t10\": 690, \"t11\": 691, \"enhanced\": 692, \"corresponding\": 693, \"recurrence\": 694, \"onset\": 695, \"9th\": 696, \"reflects\": 697, \"significantly\": 698, \"sinus\": 699, \"detailed\": 700, \"scapular\": 701, \"head\": 702, \"adequately\": 703, \"bronchiolitis\": 704, \"exaggerated\": 705, \"silhouettes\": 706, \"identify\": 707, \"somewhat\": 708, \"resolve\": 709, \"intraperitoneal\": 710, \"establish\": 711, \"5th\": 712, \"rule\": 713, \"message\": 714, \"regarding\": 715, \"junction\": 716, \"tubes\": 717, \"review\": 718, \"sternum\": 719, \"callus\": 720, \"projectional\": 721, \"crowded\": 722, \"portion\": 723, \"foot\": 724, \"replacement\": 725, \"densely\": 726, \"obtained\": 727, \"confirmation\": 728, \"interpretation\": 729, \"ij\": 730, \"approach\": 731, \"essentially\": 732, \"resolved\": 733, \"bodies\": 734, \"infrahilar\": 735, \"comparisons\": 736, \"bypass\": 737, \"grafting\": 738, \"cleared\": 739, \"characterize\": 740, \"proximal\": 741, \"like\": 742, \"discuss\": 743, \"case\": 744, \"thanks\": 745, \"calcific\": 746, \"vp\": 747, \"shunt\": 748, \"tubing\": 749, \"technically\": 750, \"reticulonodular\": 751, \"inferior\": 752, \"narrowing\": 753, \"either\": 754, \"needed\": 755, \"persist\": 756, \"breast\": 757, \"resection\": 758, \"kyphosis\": 759, \"including\": 760, \"lymphoma\": 761, \"epicardial\": 762, \"t12\": 763, \"levoscoliosis\": 764, \"retained\": 765, \"metastasis\": 766, \"traumatic\": 767, \"ankle\": 768, \"retraction\": 769, \"suspicion\": 770, \"granulomata\": 771, \"substantial\": 772, \"obstruction\": 773, \"sized\": 774, \"impression\": 775, \"pm\": 776, \"hypoinflated\": 777, \"advanced\": 778, \"markedly\": 779, \"highly\": 780, \"acknowledged\": 781, \"scapula\": 782, \"basal\": 783, \"esophagogastric\": 784, \"inferiorly\": 785, \"into\": 786, \"indeterminant\": 787, \"desired\": 788, \"position\": 789, \"two\": 790, \"posteriorly\": 791, \"origin\": 792, \"time\": 793, \"scars\": 794, \"gallbladder\": 795, \"unknown\": 796, \"significance\": 797, \"located\": 798, \"rounded\": 799, \"exams\": 800, \"masslike\": 801, \"blunted\": 802, \"redistribution\": 803, \"i\": 804, \"largest\": 805, \"its\": 806, \"containing\": 807, \"bronchitic\": 808, \"4th\": 809, \"discordant\": 810, \"tips\": 811, \"reticular\": 812, \"congestive\": 813, \"below\": 814, \"carinatum\": 815, \"subpulmonic\": 816, \"splenic\": 817, \"cyst\": 818, \"radiation\": 819, \"postop\": 820, \"completely\": 821, \"absence\": 822, \"interstitium\": 823, \"cholecystectomy\": 824, \"dual\": 825, \"extremity\": 826, \"generalized\": 827, \"pathology\": 828, \"innominate\": 829, \"reaction\": 830, \"now\": 831, \"intra\": 832, \"confluent\": 833, \"opportunity\": 834, \"assist\": 835, \"care\": 836, \"your\": 837, \"about\": 838, \"certified\": 839, \"histoplasmoma\": 840, \"node\": 841, \"accentuated\": 842, \"workup\": 843, \"nonsclerotic\": 844, \"examinations\": 845, \"remarkable\": 846, \"mastectomy\": 847, \"subluxation\": 848, \"accompanied\": 849, \"discoid\": 850, \"bronchi\": 851, \"filled\": 852, \"mucous\": 853, \"width\": 854, \"supine\": 855, \"t7\": 856, \"cxr\": 857, \"innumerable\": 858, \"pain\": 859, \"long\": 860, \"coronal\": 861, \"sagittal\": 862, \"reformatted\": 863, \"institution\": 864, \"confidently\": 865, \"particularly\": 866, \"obscuring\": 867, \"skeletal\": 868, \"habitus\": 869, \"t\": 870, \"c\": 871, \"whether\": 872, \"widened\": 873, \"favoring\": 874, \"oblong\": 875, \"manifestations\": 876, \"airways\": 877, \"beneath\": 878, \"juxtahilar\": 879, \"attributable\": 880, \"sternoclavicular\": 881, \"assessment\": 882, \"colonic\": 883, \"interposition\": 884, \"stigmata\": 885, \"cell\": 886, \"cholelithiasis\": 887, \"circumscribed\": 888, \"appendage\": 889, \"online\": 890, \"pleuritis\": 891, \"sympathetic\": 892, \"axilla\": 893, \"br\": 894, \"arm\": 895, \"acuity\": 896, \"correlated\": 897, \"anterolisthesis\": 898, \"kyphotic\": 899, \"degenerated\": 900, \"multilevel\": 901, \"poorly\": 902, \"lobulated\": 903, \"require\": 904, \"remainder\": 905, \"haziness\": 906, \"explained\": 907, \"dyspnea\": 908, \"positioning\": 909, \"remaining\": 910, \"obliteration\": 911, \"alternatively\": 912, \"acromioclavicular\": 913, \"subglottic\": 914, \"prevertebral\": 915, \"epiglottis\": 916, \"caliber\": 917, \"placed\": 918, \"subpleural\": 919, \"viral\": 920, \"provide\": 921, \"mixed\": 922, \"increasing\": 923, \"segments\": 924, \"causing\": 925, \"fractured\": 926, \"complication\": 927, \"under\": 928, \"dominant\": 929, \"diagnostic\": 930, \"carcinoma\": 931, \"brain\": 932, \"destructive\": 933, \"great\": 934, \"underneath\": 935, \"second\": 936, \"cross\": 937, \"sectional\": 938, \"verify\": 939, \"veriphy\": 940, \"sent\": 941, \"redemonstration\": 942, \"feeding\": 943, \"gastroesophageal\": 944, \"piriform\": 945, \"parapneumonic\": 946, \"lipoma\": 947, \"lines\": 948, \"interface\": 949, \"staff\": 950, \"core\": 951, \"margin\": 952, \"lentiform\": 953, \"hyperdensity\": 954, \"formation\": 955, \"ovoid\": 956, \"solid\": 957, \"assess\": 958, \"circular\": 959, \"arteriographic\": 960, \"erosions\": 961, \"accentuation\": 962, \"appreciable\": 963, \"it\": 964, \"kv\": 965, \"addended\": 966, \"symptoms\": 967, \"reaches\": 968, \"brachiocephalic\": 969, \"confluence\": 970, \"radiodense\": 971, \"foreign\": 972, \"scoliotic\": 973, \"t9\": 974, \"bibasal\": 975, \"thoracentesis\": 976, \"hemoptysis\": 977, \"paralysis\": 978, \"fluoroscopic\": 979, \"nasopharynx\": 980, \"potential\": 981, \"exchange\": 982, \"25\": 983, \"residua\": 984, \"osteocartilaginous\": 985, \"conceivably\": 986, \"displacement\": 987, \"closely\": 988, \"skin\": 989, \"surface\": 990, \"alignment\": 991, \"expected\": 992, \"repositioning\": 993, \"nephrostomy\": 994, \"larger\": 995, \"distribution\": 996, \"earlier\": 997, \"patellofemoral\": 998, \"pneumoperitoneum\": 999, \"attributed\": 1000, \"hyper\": 1001, \"hyperlucent\": 1002, \"cachexia\": 1003, \"excavatum\": 1004, \"fibronodular\": 1005, \"disruption\": 1006, \"component\": 1007, \"clarification\": 1008, \"clavicular\": 1009, \"nonenlarged\": 1010, \"epigastric\": 1011, \"transection\": 1012, \"noncalcified\": 1013, \"benefit\": 1014, \"consolidations\": 1015, \"implants\": 1016, \"t6\": 1017, \"overlap\": 1018, \"evident\": 1019, \"hodgkin\": 1020, \"aicd\": 1021, \"tenting\": 1022, \"clipped\": 1023, \"pads\": 1024, \"dish\": 1025, \"17\": 1026, \"developmental\": 1027, \"anomaly\": 1028, \"partially\": 1029, \"oligemia\": 1030, \"renal\": 1031, \"collecting\": 1032, \"indolent\": 1033, \"here\": 1034, \"perhaps\": 1035, \"diameter\": 1036, \"iv\": 1037, \"elbow\": 1038, \"forearm\": 1039, \"midfoot\": 1040, \"calcaneal\": 1041, \"enthesopathy\": 1042, \"reduced\": 1043, \"subcutaneous\": 1044, \"tissues\": 1045, \"presumably\": 1046, \"relates\": 1047, \"mechanical\": 1048, \"smaller\": 1049, \"sensitive\": 1050, \"detecting\": 1051, \"mri\": 1052, \"conveyed\": 1053, \"ordering\": 1054, \"physician\": 1055, \"communication\": 1056, \"2v\": 1057, \"date\": 1058, \"shortness\": 1059, \"breath\": 1060, \"motion\": 1061, \"prosthetic\": 1062, \"lymphoproliferative\": 1063, \"inhalational\": 1064, \"worrisome\": 1065, \"drainage\": 1066, \"processes\": 1067, \"recesses\": 1068, \"coursing\": 1069, \"included\": 1070, \"flexion\": 1071, \"several\": 1072, \"pathologic\": 1073, \"dissection\": 1074, \"voluntary\": 1075, \"hydropneumothorax\": 1076, \"empyema\": 1077, \"humeral\": 1078, \"orthopedic\": 1079, \"attention\": 1080, \"actual\": 1081, \"satisfactory\": 1082, \"trachea\": 1083, \"background\": 1084, \"doctor\": 1085, \"service\": 1086, \"142\": 1087, \"11\": 1088, \"degree\": 1089, \"vertebra\": 1090, \"subjacent\": 1091, \"another\": 1092, \"currently\": 1093, \"islands\": 1094, \"costochondral\": 1095, \"junctions\": 1096, \"exacerbation\": 1097, \"posttraumatic\": 1098, \"gunshot\": 1099, \"wound\": 1100, \"13\": 1101, \"14\": 1102, \"ring\": 1103, \"certainty\": 1104, \"something\": 1105, \"external\": 1106, \"decrease\": 1107, \"definitely\": 1108, \"opportunistic\": 1109, \"idiopathic\": 1110, \"consolidative\": 1111, \"suboptimal\": 1112, \"inspiration\": 1113, \"reactivation\": 1114, \"enteric\": 1115, \"midline\": 1116, \"bullet\": 1117, \"overlies\": 1118, \"l3\": 1119, \"projectile\": 1120, \"until\": 1121, \"obliquely\": 1122, \"oriented\": 1123, \"12th\": 1124, \"per\": 1125, \"sulci\": 1126, \"dependent\": 1127, \"raises\": 1128, \"leftward\": 1129, \"advised\": 1130, \"contain\": 1131, \"possibility\": 1132, \"cavitation\": 1133, \"postprocedural\": 1134, \"elsewhere\": 1135, \"persists\": 1136, \"medication\": 1137, \"injection\": 1138, \"cavoatrial\": 1139, \"paraspinal\": 1140, \"retrocrural\": 1141, \"liver\": 1142, \"loops\": 1143, \"suggestion\": 1144, \"radiography\": 1145, \"notably\": 1146, \"capping\": 1147, \"mitral\": 1148, \"annular\": 1149, \"esophagus\": 1150, \"constellation\": 1151, \"parahilar\": 1152, \"portacatheter\": 1153, \"effort\": 1154, \"reference\": 1155, \"coiled\": 1156, \"artifacts\": 1157, \"embolization\": 1158, \"procedure\": 1159, \"ng\": 1160, \"distention\": 1161, \"correct\": 1162, \"osteoarthritis\": 1163, \"all\": 1164, \"compartments\": 1165, \"exposure\": 1166, \"knees\": 1167, \"nodularity\": 1168, \"7mm\": 1169, \"non\": 1170, \"though\": 1171, \"symmetrically\": 1172, \"aerated\": 1173, \"peripherally\": 1174, \"thought\": 1175, \"winged\": 1176, \"supporting\": 1177, \"transverse\": 1178, \"broken\": 1179, \"fragment\": 1180, \"loculation\": 1181, \"layering\": 1182, \"improving\": 1183, \"airway\": 1184, \"entering\": 1185, \"coarse\": 1186, \"epigastrium\": 1187, \"image\": 1188, \"pancreatic\": 1189, \"pneumomediastinum\": 1190, \"buckling\": 1191, \"cortex\": 1192, \"energy\": 1193, \"summation\": 1194, \"perform\": 1195, \"thoracotomy\": 1196, \"nonobstructive\": 1197, \"compressive\": 1198, \"neoplastic\": 1199, \"dialysis\": 1200, \"projected\": 1201, \"reviewed\": 1202, \"lobectomy\": 1203, \"developed\": 1204, \"spinal\": 1205, \"fixation\": 1206, \"recurrent\": 1207, \"almost\": 1208, \"outflow\": 1209, \"indicates\": 1210, \"raise\": 1211, \"xray\": 1212, \"multilobar\": 1213, \"enlarging\": 1214, \"terminates\": 1215, \"showing\": 1216, \"type\": 1217, \"concomitant\": 1218, \"lt\": 1219, \"gt\": 1220, \"raising\": 1221, \"esophagectomy\": 1222, \"imaged\": 1223, \"focused\": 1224, \"outward\": 1225, \"partial\": 1226, \"hemothorax\": 1227, \"postobstructive\": 1228, \"tricompartmental\": 1229, \"reasonable\": 1230, \"allow\": 1231, \"presence\": 1232, \"diffusely\": 1233, \"greatest\": 1234, \"oblique\": 1235, \"true\": 1236, \"arthritic\": 1237, \"hips\": 1238, \"suture\": 1239, \"material\": 1240, \"employed\": 1241, \"notify\": 1242, \"referring\": 1243, \"physicians\": 1244, \"arising\": 1245, \"flattened\": 1246, \"occult\": 1247, \"xxxxpm\": 1248, \"accepted\": 1249, \"faxed\": 1250, \"localize\": 1251, \"suspect\": 1252, \"informative\": 1253, \"thyroid\": 1254, \"op\": 1255, \"medially\": 1256, \"define\": 1257, \"infracarinal\": 1258, \"pneumothoraces\": 1259, \"flowing\": 1260, \"osteophytes\": 1261, \"histoplasmosis\": 1262, \"difference\": 1263, \"subsequent\": 1264, \"strongly\": 1265, \"malpositioned\": 1266, \"neoplasm\": 1267, \"initiated\": 1268, \"contrasted\": 1269, \"suggestions\": 1270, \"pronounced\": 1271, \"postradiation\": 1272, \"demineralization\": 1273, \"combination\": 1274, \"ruled\": 1275, \"disc\": 1276, \"inlet\": 1277, \"overlie\": 1278, \"pic\": 1279, \"communicated\": 1280, \"inability\": 1281, \"definitively\": 1282, \"nonemergent\": 1283, \"single\": 1284, \"infiltrative\": 1285, \"prosthesis\": 1286, \"between\": 1287, \"8th\": 1288, \"scans\": 1289, \"cardiophrenic\": 1290, \"technologist\": 1291, \"exist\": 1292, \"element\": 1293, \"atelectatic\": 1294, \"ventricle\": 1295, \"incidental\": 1296, \"scant\": 1297, \"foci\": 1298, \"postinfectious\": 1299, \"postinflammatory\": 1300}'}"
      ]
     },
     "execution_count": 81,
     "metadata": {},
     "output_type": "execute_result"
    }
   ],
   "source": [
    "token.get_config()"
   ]
  },
  {
   "cell_type": "code",
   "execution_count": 10,
   "id": "f6501700",
   "metadata": {},
   "outputs": [
    {
     "data": {
      "text/plain": [
       "[[831, 831, 831, 831]]"
      ]
     },
     "execution_count": 10,
     "metadata": {},
     "output_type": "execute_result"
    }
   ],
   "source": [
    "token.texts_to_sequences([a])"
   ]
  },
  {
   "cell_type": "code",
   "execution_count": 50,
   "id": "55c71a41",
   "metadata": {},
   "outputs": [],
   "source": [
    "df_1 = train.copy()\n",
    "df_1 = df_1.iloc[1:6]\n",
    "max_pad = max([len(df_1.iloc[i]['Caption']) for i in range(len(df_1))])\n",
    "img_path = \"/users/vspvikram/Downloads/AML_project/NLMCXR_png/\"\n",
    "data = Dataset(df_1,img_path, max_pad, token)"
   ]
  },
  {
   "cell_type": "code",
   "execution_count": 12,
   "id": "34e1821f",
   "metadata": {},
   "outputs": [
    {
     "data": {
      "text/plain": [
       "[array([[ 1,  2],\n",
       "        [ 5,  6],\n",
       "        [ 9, 10]]),\n",
       " array([[ 3,  4],\n",
       "        [ 7,  8],\n",
       "        [11, 12]])]"
      ]
     },
     "execution_count": 12,
     "metadata": {},
     "output_type": "execute_result"
    }
   ],
   "source": [
    "\n",
    "a = [([1,2], [3,4]), ([5,6], [7,8]), ([9,10], [11,12])]\n",
    "b = [np.stack(i, axis=0) for i in zip(*a)]\n",
    "b"
   ]
  },
  {
   "cell_type": "code",
   "execution_count": 39,
   "id": "23c2ac35",
   "metadata": {},
   "outputs": [
    {
     "data": {
      "text/plain": [
       "array([[143, 730, 428, 946,  45, 856, 916, 694, 787, 222],\n",
       "       [350, 967, 905, 947, 683, 611, 752, 972, 314,   6],\n",
       "       [836, 356, 941, 248,  88, 942, 898, 250, 153, 952],\n",
       "       [426, 183, 900, 116, 302, 585, 739, 859, 444, 833],\n",
       "       [645, 392, 614, 731,  53,  32,  20, 219, 122, 122],\n",
       "       [333, 695, 122, 744, 203, 501,   7, 701,  26, 433],\n",
       "       [814,  94, 910, 965, 106,  16, 791, 877, 241, 312],\n",
       "       [472, 172, 520, 965, 255, 845,  44, 571, 487, 249],\n",
       "       [200, 656, 728, 309, 739, 802, 738,  69, 940, 819],\n",
       "       [104, 308, 987, 121, 820, 461, 269, 376, 140, 313],\n",
       "       [868, 854, 537, 888, 989,  51, 981, 964, 601, 485],\n",
       "       [773, 614, 924, 522, 506, 650, 349, 619, 100, 819],\n",
       "       [263, 231, 779, 423, 620,   2, 313, 945, 729, 690],\n",
       "       [622, 384, 971,  34, 154, 126, 625, 555, 601, 896],\n",
       "       [ 85, 243, 796, 674, 159, 642, 423, 636, 385, 779],\n",
       "       [991, 548,  66, 228, 260, 184, 823,  32, 815, 295],\n",
       "       [947, 392, 456, 902, 455, 413, 861, 480, 694, 312],\n",
       "       [870, 979, 456,  63, 924, 196, 974, 345, 884, 297],\n",
       "       [575,  40, 159, 625, 544, 733,  88, 323, 329, 374],\n",
       "       [940, 840, 126, 227, 879, 238, 764, 984, 408, 605],\n",
       "       [234, 940, 896, 906, 894, 598, 570, 596, 999, 535],\n",
       "       [136,  41, 676, 149, 791, 631, 421, 616, 451, 362],\n",
       "       [226, 451, 497, 644, 880, 283, 677, 866,  78, 404],\n",
       "       [743, 534, 282,  51,  56, 881, 955, 587, 103, 357],\n",
       "       [808, 871, 340, 631, 683, 267, 166, 171, 186, 412],\n",
       "       [658, 779, 863, 112, 921,  53,  17, 873, 541, 633],\n",
       "       [527, 500, 509, 146, 506, 928, 583, 346, 904, 673],\n",
       "       [945, 212,  37, 991, 106, 312, 412, 904, 978,  22],\n",
       "       [108, 586, 632, 392, 879, 246, 770, 993, 949, 458],\n",
       "       [681, 782,  83, 994, 120, 277, 246, 462, 339, 209],\n",
       "       [608, 832, 264, 290, 838, 503, 905, 406,  55, 379],\n",
       "       [872, 823, 349, 500, 971, 549, 254, 638, 831, 170]])"
      ]
     },
     "execution_count": 39,
     "metadata": {},
     "output_type": "execute_result"
    }
   ],
   "source": [
    "input_array = np.random.randint(1000, size=(32, 10))\n",
    "input_array"
   ]
  },
  {
   "cell_type": "code",
   "execution_count": 40,
   "id": "0e4984fd",
   "metadata": {},
   "outputs": [
    {
     "data": {
      "text/plain": [
       "(32, 10)"
      ]
     },
     "execution_count": 40,
     "metadata": {},
     "output_type": "execute_result"
    }
   ],
   "source": [
    "input_array.shape"
   ]
  },
  {
   "cell_type": "markdown",
   "id": "467a9d60",
   "metadata": {},
   "source": [
    "# Creating data loader class"
   ]
  },
  {
   "cell_type": "code",
   "execution_count": 35,
   "id": "01b5e7f0",
   "metadata": {},
   "outputs": [],
   "source": [
    "class DataLoader(tf.keras.utils.Sequence):\n",
    "    def __init__(self, dataset, batch_size=1):\n",
    "        self.dataset = dataset\n",
    "        self.batch_size = batch_size\n",
    "        self.indices = np.arange(len(dataset))\n",
    "        \n",
    "        \n",
    "    def __getitem__(self, i):\n",
    "        ind_start = i*self.batch_size\n",
    "        ind_end = (i+1)*self.batch_size\n",
    "        \n",
    "        output = [self.dataset[self.indices[j]] for j in range(ind_start, ind_end)]\n",
    "        output = [np.stack(item, axis=0) for item in zip(*output)]\n",
    "        print(len(output))\n",
    "        \n",
    "        return output\n",
    "    \n",
    "    def __len__(self):\n",
    "        return len(self.dataset)//self.batch_size\n",
    "    \n",
    "   "
   ]
  },
  {
   "cell_type": "code",
   "execution_count": 36,
   "id": "27593d00",
   "metadata": {},
   "outputs": [],
   "source": [
    "dataloader = DataLoader(data, batch_size=4)"
   ]
  },
  {
   "cell_type": "code",
   "execution_count": 37,
   "id": "c7773118",
   "metadata": {},
   "outputs": [
    {
     "data": {
      "text/plain": [
       "4"
      ]
     },
     "execution_count": 37,
     "metadata": {},
     "output_type": "execute_result"
    }
   ],
   "source": [
    "len(dataloader)"
   ]
  },
  {
   "cell_type": "markdown",
   "id": "488eebcd",
   "metadata": {},
   "source": [
    "# Creating model training class"
   ]
  },
  {
   "cell_type": "code",
   "execution_count": 58,
   "id": "6686898c",
   "metadata": {},
   "outputs": [],
   "source": [
    "\n",
    "class DataLoader2(tf.keras.utils.Sequence):\n",
    "    def __init__(self, dataset, batch_size=1):\n",
    "        self.dataset = dataset\n",
    "        self.batch_size = batch_size\n",
    "        self.indices = np.arange(len(dataset))\n",
    "        \n",
    "        \n",
    "    def __getitem__(self, i):\n",
    "        ind_start = i*self.batch_size\n",
    "        ind_end = (i+1)*self.batch_size\n",
    "        \n",
    "        output = [self.dataset[self.indices[j]] for j in range(ind_start, ind_end)]\n",
    "        output = [np.stack(item, axis=0) for item in zip(*output)]\n",
    "        \n",
    "        return output[0][0]\n",
    "    \n",
    "    def __len__(self):\n",
    "        return len(self.dataset)//self.batch_size\n",
    "    \n",
    "path = \"/users/vspvikram/Downloads/AML_project/CheXNet-Keras-master/\"\n",
    "weight_file = \"best_weights.h5\"\n",
    "input_shape = (None, 224, 224, 3)\n",
    "classes = 14\n",
    "\n",
    "class Encoder2(tf.keras.Model):\n",
    "    def __init__(self, classes=14, input_shape = (224, 224, 3)):\n",
    "        super(Encoder2, self).__init__(trainable=False)\n",
    "        model = tf.keras.applications.densenet.DenseNet121(weights=os.path.join(path, weight_file),\n",
    "                            input_shape=input_shape,\n",
    "                            classes=classes)\n",
    "        self.model = tf.keras.Model(inputs=model.input, outputs=model.layers[-2].output)\n",
    "        self.model.trainable = False\n",
    "#         self.model.build(input_shape = input_shape)\n",
    "        \n",
    "    def call(self, x):\n",
    "        return self.model(x)"
   ]
  },
  {
   "cell_type": "code",
   "execution_count": 59,
   "id": "ecf23f7f",
   "metadata": {},
   "outputs": [
    {
     "name": "stderr",
     "output_type": "stream",
     "text": [
      "2021-12-12 09:01:04.283120: I tensorflow/compiler/mlir/mlir_graph_optimization_pass.cc:176] None of the MLIR Optimization Passes are enabled (registered 2)\n",
      "2021-12-12 09:01:04.283254: W tensorflow/core/platform/profile_utils/cpu_utils.cc:128] Failed to get CPU frequency: 0 Hz\n",
      "2021-12-12 09:01:04.587449: I tensorflow/core/grappler/optimizers/custom_graph_optimizer_registry.cc:112] Plugin optimizer for device_type GPU is enabled.\n"
     ]
    },
    {
     "data": {
      "text/plain": [
       "array([[3.3021401e-04, 1.5556754e-03, 3.3723761e-03, ..., 8.0976397e-01,\n",
       "        8.6365545e-01, 6.6404277e-01],\n",
       "       [0.0000000e+00, 1.8343396e-03, 1.5356751e-03, ..., 8.0483556e-01,\n",
       "        8.3966011e-01, 6.6455615e-01],\n",
       "       [3.2652434e-04, 2.0345622e-03, 2.6755284e-03, ..., 8.3007032e-01,\n",
       "        8.7301546e-01, 6.8006986e-01],\n",
       "       [2.4232979e-05, 1.5020234e-03, 2.0617729e-03, ..., 8.4052682e-01,\n",
       "        8.3416975e-01, 6.9074172e-01],\n",
       "       [3.8804300e-04, 2.3525273e-03, 1.8727980e-03, ..., 8.3511353e-01,\n",
       "        9.1837698e-01, 6.8563384e-01]], dtype=float32)"
      ]
     },
     "execution_count": 59,
     "metadata": {},
     "output_type": "execute_result"
    }
   ],
   "source": [
    "# class trainEncoder():\n",
    "#     def __init__(self):\n",
    "#         self.model = Encoder()\n",
    "    \n",
    "#     def train(self, dataloader):\n",
    "        \n",
    "        \n",
    "model2 = Encoder2()\n",
    "model2.compile()\n",
    "dataloader = DataLoader2(data, batch_size=1)\n",
    "model2.predict(dataloader)"
   ]
  },
  {
   "cell_type": "markdown",
   "id": "f51b766b",
   "metadata": {},
   "source": [
    "# Attention  encoder decoder model"
   ]
  },
  {
   "cell_type": "markdown",
   "id": "19e4ddc7",
   "metadata": {},
   "source": [
    "## Image encoder layer"
   ]
  },
  {
   "cell_type": "code",
   "execution_count": 60,
   "id": "de8d35d8",
   "metadata": {},
   "outputs": [],
   "source": [
    "class ImageEncoder(tf.keras.layers.Layer):\n",
    "    '''\n",
    "    abc = ImageEncoder()\n",
    "    abc(dataloader[0])\n",
    "    \n",
    "    <tf.Tensor: shape=(1, 1024), dtype=float32, numpy=\n",
    "    array([[3.3021401e-04, 1.5556754e-03, 3.3723761e-03, ..., 8.0976397e-01,\n",
    "            8.6365545e-01, 6.6404277e-01]], dtype=float32)>\n",
    "    '''\n",
    "    def __init__(self, name = 'image_encoder_block'):\n",
    "        super().__init__()\n",
    "        self.chexnet = Encoder()\n",
    "        self.chexnet.compile()\n",
    "        \n",
    "    def call(self, data):\n",
    "        return self.chexnet(data)"
   ]
  },
  {
   "cell_type": "markdown",
   "id": "1b48f70c",
   "metadata": {},
   "source": [
    "## Attention Model"
   ]
  },
  {
   "cell_type": "code",
   "execution_count": 67,
   "id": "af659021",
   "metadata": {},
   "outputs": [],
   "source": [
    "embedding_dim = 300\n",
    "dense_dim = 512\n",
    "lstm_units = dense_dim\n",
    "dropout_rate = 0.2"
   ]
  },
  {
   "cell_type": "markdown",
   "id": "7f1be350",
   "metadata": {},
   "source": [
    "## Encoder"
   ]
  },
  {
   "cell_type": "code",
   "execution_count": 70,
   "id": "826af91d",
   "metadata": {},
   "outputs": [],
   "source": [
    "def encoder(image1, image2, dense_dim = dense_dim, dropout_rate = dropout_rate):\n",
    "    '''From the two given images, returns the encoded vector\n",
    "    input_size = (224, 224)\n",
    "    image1 = Input(shape = (input_size + (3,))) #shape = 224,224,3\n",
    "    image2 = Input(shape = (input_size + (3,)))\n",
    "    en_output = encoder(image1, image2)\n",
    "    '''\n",
    "    #image1\n",
    "    im_encoder = ImageEncoder()\n",
    "    im_feat1 = im_encoder(image1)\n",
    "    bk_dense = Dense(dense_dim, name = 'bk_dense', activation='relu')\n",
    "    im_feat1 = bk_dense(im_feat1)\n",
    "    \n",
    "    #image2\n",
    "    im_feat2 = im_encoder(image2)\n",
    "    im_feat2 = bk_dense(im_feat2)\n",
    "    \n",
    "    # combining the two images together\n",
    "    concat = Concatenate(axis=1)([im_feat1, im_feat2])\n",
    "    bn = BatchNormalization(name = 'encoder_batch_norm')(concat)\n",
    "    dropout = Dropout(dropout_rate, name = 'encoder_dropout')(bn)\n",
    "    return dropout"
   ]
  },
  {
   "cell_type": "markdown",
   "id": "fa8452d4",
   "metadata": {},
   "source": [
    "## Global Attention layer"
   ]
  },
  {
   "cell_type": "code",
   "execution_count": 79,
   "id": "835de28f",
   "metadata": {},
   "outputs": [],
   "source": [
    "class global_attention(tf.keras.layers.Layer):\n",
    "    '''Calculate global attention\n",
    "    '''\n",
    "    def __init__(self, dense_dim = dense_dim):\n",
    "        super().__init__()\n",
    "        self.W1 = Dense(units = dense_dim)\n",
    "        self.W2 = Dense(units = dense_dim)\n",
    "        self.V = Dense(units = 1)\n",
    "        \n",
    "    def call(self, encoder_output, decoder_h):\n",
    "        decoder_h = tf.expand_dims(decoder_h, axis=1)\n",
    "        tanh_input = self.W1(encoder_output) + self.W2(decoder_h)\n",
    "        tanh_output = tf.nn.tanh(tanh_input)\n",
    "        attention_weights = tf.nn.softmax(self.V(tanh_output), axis=1)\n",
    "        op = attention_weights*encoder_output\n",
    "        context_vector = tf.reduce_sum(op, axis=1)\n",
    "        \n",
    "        return context_vector, attention_weights"
   ]
  },
  {
   "cell_type": "code",
   "execution_count": 83,
   "id": "6a87e837",
   "metadata": {},
   "outputs": [],
   "source": [
    "glove = {}\n",
    "vocab_size = len(token.word_counts)\n",
    "with open('/users/vspvikram/Downloads/AML_project/glove.6B/glove.6B.300d.txt', encoding='utf-8') as f:\n",
    "    for line in f:\n",
    "        word = line.split()\n",
    "        glove[word[0]] = np.asarray(word[1:], dtype='float32')\n",
    "        \n",
    "\n",
    "embedding_dims = 300\n",
    "embedding_matrix = np.zeros((vocab_size+1, embedding_dim))\n",
    "\n",
    "for word,i in token.word_index.items():\n",
    "    embedding_vector = glove.get(word)\n",
    "    if embedding_vector is not None:\n",
    "        embedding_matrix[i] = embedding_vector[:embedding_dim] # final shape: (1301, 300)"
   ]
  },
  {
   "cell_type": "markdown",
   "id": "d32c96f6",
   "metadata": {},
   "source": [
    "# One Step decoder"
   ]
  },
  {
   "cell_type": "code",
   "execution_count": null,
   "id": "65e7a06a",
   "metadata": {},
   "outputs": [],
   "source": []
  }
 ],
 "metadata": {
  "kernelspec": {
   "display_name": "Python 3.9 (tensorflow)",
   "language": "python",
   "name": "tensorflow"
  },
  "language_info": {
   "codemirror_mode": {
    "name": "ipython",
    "version": 3
   },
   "file_extension": ".py",
   "mimetype": "text/x-python",
   "name": "python",
   "nbconvert_exporter": "python",
   "pygments_lexer": "ipython3",
   "version": "3.9.7"
  }
 },
 "nbformat": 4,
 "nbformat_minor": 5
}
