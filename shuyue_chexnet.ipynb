{
  "metadata": {
    "kernelspec": {
      "language": "python",
      "display_name": "Python 3",
      "name": "python3"
    },
    "language_info": {
      "name": "python",
      "version": "3.7.12",
      "mimetype": "text/x-python",
      "codemirror_mode": {
        "name": "ipython",
        "version": 3
      },
      "pygments_lexer": "ipython3",
      "nbconvert_exporter": "python",
      "file_extension": ".py"
    },
    "colab": {
      "name": "aml-project.ipynb",
      "provenance": [],
      "collapsed_sections": [],
      "include_colab_link": true
    },
    "accelerator": "GPU"
  },
  "nbformat_minor": 0,
  "nbformat": 4,
  "cells": [
    {
      "cell_type": "markdown",
      "metadata": {
        "id": "view-in-github",
        "colab_type": "text"
      },
      "source": [
        "<a href=\"https://colab.research.google.com/github/shuyuexu/4994finalproj-stage1/blob/main/aml_project.ipynb\" target=\"_parent\"><img src=\"https://colab.research.google.com/assets/colab-badge.svg\" alt=\"Open In Colab\"/></a>"
      ]
    },
    {
      "cell_type": "code",
      "source": [
        "class Tokenizer():\n",
        "    \n",
        "    def __init__(self):\n",
        "        self.word_index = {}\n",
        "        self.index_word = {0: \"<start>\", 1: \"<end>\"}\n",
        "        self.vocab_size = 2\n",
        "        \n",
        "        \n",
        "    def fit(self, arr):\n",
        "        self.word_index = {}\n",
        "        self.index_word = {0: \"<start>\", 1: \"<end>\"}\n",
        "        self.vocab_size = 2\n",
        "        \n",
        "        for word in arr:\n",
        "            if word not in self.word_index:\n",
        "                self.index_word[self.vocab_size] = word\n",
        "                self.word_index[word] = self.vocab_size\n",
        "                self.vocab_size += 1\n",
        "                    \n",
        "    def transform(self, sentence):\n",
        "        return [0] + [self.word_index[word] for word in sentence] + [1]\n",
        "    \n",
        "    def reverse_transform(self, encoded_sentence):\n",
        "        return [self.index_word[num] for num in encoded_sentence[1:-1]]"
      ],
      "metadata": {
        "execution": {
          "iopub.status.busy": "2021-12-10T01:33:19.074128Z",
          "iopub.execute_input": "2021-12-10T01:33:19.074542Z",
          "iopub.status.idle": "2021-12-10T01:33:19.110738Z",
          "shell.execute_reply.started": "2021-12-10T01:33:19.074409Z",
          "shell.execute_reply": "2021-12-10T01:33:19.109695Z"
        },
        "trusted": true,
        "id": "Cz_gTRZCuJKw"
      },
      "execution_count": 1,
      "outputs": []
    },
    {
      "cell_type": "code",
      "source": [
        "import os\n",
        "from PIL import Image\n",
        "\n",
        "import torch\n",
        "from torch.utils.data import Dataset\n",
        "from torchvision import transforms\n",
        "\n",
        "class ImgCapDataset(Dataset):\n",
        "    def __init__(self, df, img_dir):\n",
        "        self.df = df\n",
        "        self.img_dir = img_dir\n",
        "        self.image_transform = transforms.Compose([\n",
        "                transforms.Resize((512, 512)),\n",
        "                transforms.ToTensor()\n",
        "        ])\n",
        "\n",
        "    def __len__(self):\n",
        "        return len(self.df)\n",
        "\n",
        "    def __getitem__(self, idx):\n",
        "        img_1 = os.path.join(self.img_dir, self.df.iloc[idx][\"Image1\"] + \".png\")\n",
        "        img_1 = Image.open(img_1)\n",
        "        img_1 = self.image_transform(img_1)\n",
        "        \n",
        "        img_2 = os.path.join(self.img_dir, self.df.iloc[idx][\"Image2\"] + \".png\")\n",
        "        img_2 = Image.open(img_2)\n",
        "        img_2 = self.image_transform(img_2)\n",
        "        \n",
        "        caption = torch.LongTensor(self.df.iloc[idx][\"CaptionSeq\"])\n",
        "\n",
        "        return img_1, img_2, caption"
      ],
      "metadata": {
        "execution": {
          "iopub.status.busy": "2021-12-10T01:33:19.772129Z",
          "iopub.execute_input": "2021-12-10T01:33:19.772809Z",
          "iopub.status.idle": "2021-12-10T01:33:21.976091Z",
          "shell.execute_reply.started": "2021-12-10T01:33:19.772773Z",
          "shell.execute_reply": "2021-12-10T01:33:21.974627Z"
        },
        "trusted": true,
        "id": "Gv9-6ESwuJK0"
      },
      "execution_count": 2,
      "outputs": []
    },
    {
      "cell_type": "code",
      "source": [
        "import torch\n",
        "import torch.nn as nn\n",
        "import torch.nn.functional as F\n",
        "from torchvision.models import vgg16\n",
        "from torchvision.models import densenet121\n",
        "\n",
        "class CNN_Encoder(nn.Module):\n",
        "    \n",
        "    def __init__(self):\n",
        "        super(CNN_Encoder, self).__init__()\n",
        "        self.conv = nn.Conv2d(3, 16, kernel_size=3, stride=1, padding='same')\n",
        "        self.fc = nn.Linear(256*256*16, 128)\n",
        "\n",
        "        self.conv2 = nn.Conv2d(3, 16, kernel_size=3, stride=1, padding='same')\n",
        "        self.fc2 = nn.Linear(256*256*16, 128)\n",
        "\n",
        "    def forward(self, x1, x2):\n",
        "        x1 = F.relu(self.conv(x1))\n",
        "        x1 = F.max_pool2d(x1, 2)\n",
        "        x1 = torch.flatten(x1, 1)\n",
        "        x1 = self.fc(x1)\n",
        "\n",
        "        x2 = F.relu(self.conv2(x2))\n",
        "        x2 = F.max_pool2d(x2, 2)\n",
        "        x2 = torch.flatten(x2, 1)\n",
        "        x2 = self.fc2(x2)\n",
        "\n",
        "        return torch.cat((x1, x2), 1)\n",
        "    \n",
        "class VGG_Encoder(nn.Module):\n",
        "    \n",
        "    def __init__(self):\n",
        "        super(VGG_Encoder, self).__init__()\n",
        "        self.vgg1 = vgg16(pretrained=True)\n",
        "        seq1 = list(self.vgg1.classifier)\n",
        "        seq1[-1] = nn.Linear(4096, 1024, bias=True)\n",
        "        seq1.append(nn.ReLU(inplace=True))\n",
        "        seq1.append(nn.Dropout(p=0.5, inplace=False))\n",
        "        seq1.append(nn.Linear(1024, 128, bias=True))\n",
        "        self.vgg1.classifier = nn.Sequential(*seq1)\n",
        "        \n",
        "        for param in self.vgg1.features.parameters():\n",
        "            param.requires_grad = False\n",
        "        \n",
        "        self.vgg2 = vgg16(pretrained=True)\n",
        "        seq2 = list(self.vgg2.classifier)\n",
        "        seq2[-1] = nn.Linear(4096, 1024, bias=True)\n",
        "        seq2.append(nn.ReLU(inplace=True))\n",
        "        seq2.append(nn.Dropout(p=0.5, inplace=False))\n",
        "        seq2.append(nn.Linear(1024, 128, bias=True))\n",
        "        self.vgg2.classifier = nn.Sequential(*seq2)\n",
        "        \n",
        "        for param in self.vgg2.features.parameters():\n",
        "            param.requires_grad = False\n",
        "        \n",
        "    def forward(self, x1, x2):\n",
        "        \n",
        "        x1 = self.vgg1(x1)\n",
        "        x2 = self.vgg2(x2)\n",
        "        \n",
        "        return torch.cat((x1, x2), 1)\n",
        "    \n",
        "class DN_Encoder(nn.Module):\n",
        "    \n",
        "    def __init__(self):\n",
        "        super(DN_Encoder, self).__init__()\n",
        "        self.dn1 = densenet121(pretrained=True)\n",
        "        #model = model_class.from_pretrained(pretrained_weights, force_download=True)\n",
        "        #self.dn1.load_state_dict(torch.load(\"m-30012020-104001.pth.tar\"))\n",
        "        checkpoint = torch.load(\"m-30012020-104001.pth.tar\")\n",
        "        self.dn1.load_state_dict(checkpoint['state_dict'],strict=False )\n",
        "        self.dn1.classifier = nn.Linear(1024, 128, bias=True)\n",
        "        \n",
        "        for param in self.dn1.features.parameters():\n",
        "            param.requires_grad = False\n",
        "        \n",
        "        self.dn2 = densenet121(pretrained=True)\n",
        "        #self.dn2.load_state_dict(torch.load(\"m-30012020-104001.pth\"))\n",
        "        self.dn2.classifier = nn.Linear(1024, 128, bias=True)\n",
        "        \n",
        "        for param in self.dn2.features.parameters():\n",
        "            param.requires_grad = False\n",
        "        \n",
        "    def forward(self, x1, x2):\n",
        "        \n",
        "        x1 = self.dn1(x1)\n",
        "        x2 = self.dn2(x2)\n",
        "        \n",
        "        return torch.cat((x1, x2), 1)\n",
        "        \n",
        "\n",
        "class RNN_Decoder(nn.Module):\n",
        "\n",
        "    def __init__(self, embed_size, hidden_size, vocab_size):\n",
        "        super(RNN_Decoder, self).__init__()\n",
        "        self.hidden_size = hidden_size\n",
        "        self.vocab_size = vocab_size\n",
        "        self.embed = nn.Embedding(vocab_size, embed_size)\n",
        "        self.rnn = nn.LSTMCell(embed_size, hidden_size)\n",
        "        self.fc = nn.Linear(hidden_size, vocab_size)\n",
        "\n",
        "    def forward(self, x, caption):\n",
        "\n",
        "        cap = torch.transpose(self.embed(caption), 0, 1)\n",
        "        output = torch.empty((caption.size(0), caption.size(1), self.vocab_size))\n",
        "\n",
        "        for i in range(caption.size(1)):\n",
        "\n",
        "            if i == 0:\n",
        "                device = torch.device(\"cuda\" if torch.cuda.is_available() else \"cpu\")\n",
        "                h = torch.autograd.Variable(torch.zeros(x.size(0), self.hidden_size)).to(device)\n",
        "                c = torch.autograd.Variable(torch.zeros(x.size(0), self.hidden_size)).to(device)\n",
        "                h, c = self.rnn(x, (h ,c))\n",
        "            else:\n",
        "                h, c = self.rnn(cap[i,:,:], (h, c))\n",
        "\n",
        "            output[:,i,:] = self.fc(h)\n",
        "\n",
        "        return output"
      ],
      "metadata": {
        "execution": {
          "iopub.status.busy": "2021-12-10T01:33:21.978717Z",
          "iopub.execute_input": "2021-12-10T01:33:21.979076Z",
          "iopub.status.idle": "2021-12-10T01:33:22.007026Z",
          "shell.execute_reply.started": "2021-12-10T01:33:21.979027Z",
          "shell.execute_reply": "2021-12-10T01:33:22.005559Z"
        },
        "trusted": true,
        "id": "qqd91pweuJLD"
      },
      "execution_count": 36,
      "outputs": []
    },
    {
      "cell_type": "code",
      "source": [
        "!pip install biobert-embedding"
      ],
      "metadata": {
        "colab": {
          "base_uri": "https://localhost:8080/",
          "height": 1000
        },
        "id": "th8C-AFT3PtO",
        "outputId": "29d889b7-4d58-4bdc-e36c-0d858adbe89f"
      },
      "execution_count": 4,
      "outputs": [
        {
          "output_type": "stream",
          "name": "stdout",
          "text": [
            "Collecting biobert-embedding\n",
            "  Downloading biobert-embedding-0.1.2.tar.gz (4.8 kB)\n",
            "Collecting torch==1.2.0\n",
            "\u001b[33m  WARNING: Retrying (Retry(total=4, connect=None, read=None, redirect=None, status=None)) after connection broken by 'ReadTimeoutError(\"HTTPSConnectionPool(host='files.pythonhosted.org', port=443): Read timed out. (read timeout=15)\")': /packages/05/65/5248be50c55ab7429dd5c11f5e2f9f5865606b80e854ca63139ad1a584f2/torch-1.2.0-cp37-cp37m-manylinux1_x86_64.whl\u001b[0m\n",
            "  Downloading torch-1.2.0-cp37-cp37m-manylinux1_x86_64.whl (748.9 MB)\n",
            "\u001b[K     |████████████████████████████████| 748.9 MB 704 bytes/s \n",
            "\u001b[?25hCollecting pytorch-pretrained-bert==0.6.2\n",
            "  Downloading pytorch_pretrained_bert-0.6.2-py3-none-any.whl (123 kB)\n",
            "\u001b[K     |████████████████████████████████| 123 kB 48.3 MB/s \n",
            "\u001b[?25hRequirement already satisfied: tensorflow in /usr/local/lib/python3.7/dist-packages (from biobert-embedding) (2.7.0)\n",
            "Requirement already satisfied: tqdm in /usr/local/lib/python3.7/dist-packages (from pytorch-pretrained-bert==0.6.2->biobert-embedding) (4.62.3)\n",
            "Requirement already satisfied: regex in /usr/local/lib/python3.7/dist-packages (from pytorch-pretrained-bert==0.6.2->biobert-embedding) (2019.12.20)\n",
            "Requirement already satisfied: requests in /usr/local/lib/python3.7/dist-packages (from pytorch-pretrained-bert==0.6.2->biobert-embedding) (2.23.0)\n",
            "Collecting boto3\n",
            "  Downloading boto3-1.20.23-py3-none-any.whl (131 kB)\n",
            "\u001b[K     |████████████████████████████████| 131 kB 52.5 MB/s \n",
            "\u001b[?25hRequirement already satisfied: numpy in /usr/local/lib/python3.7/dist-packages (from pytorch-pretrained-bert==0.6.2->biobert-embedding) (1.19.5)\n",
            "Collecting s3transfer<0.6.0,>=0.5.0\n",
            "  Downloading s3transfer-0.5.0-py3-none-any.whl (79 kB)\n",
            "\u001b[K     |████████████████████████████████| 79 kB 7.9 MB/s \n",
            "\u001b[?25hCollecting botocore<1.24.0,>=1.23.23\n",
            "  Downloading botocore-1.23.23-py3-none-any.whl (8.4 MB)\n",
            "\u001b[K     |████████████████████████████████| 8.4 MB 35.1 MB/s \n",
            "\u001b[?25hCollecting jmespath<1.0.0,>=0.7.1\n",
            "  Downloading jmespath-0.10.0-py2.py3-none-any.whl (24 kB)\n",
            "Requirement already satisfied: python-dateutil<3.0.0,>=2.1 in /usr/local/lib/python3.7/dist-packages (from botocore<1.24.0,>=1.23.23->boto3->pytorch-pretrained-bert==0.6.2->biobert-embedding) (2.8.2)\n",
            "Collecting urllib3<1.27,>=1.25.4\n",
            "  Downloading urllib3-1.26.7-py2.py3-none-any.whl (138 kB)\n",
            "\u001b[K     |████████████████████████████████| 138 kB 38.6 MB/s \n",
            "\u001b[?25hRequirement already satisfied: six>=1.5 in /usr/local/lib/python3.7/dist-packages (from python-dateutil<3.0.0,>=2.1->botocore<1.24.0,>=1.23.23->boto3->pytorch-pretrained-bert==0.6.2->biobert-embedding) (1.15.0)\n",
            "  Downloading urllib3-1.25.11-py2.py3-none-any.whl (127 kB)\n",
            "\u001b[K     |████████████████████████████████| 127 kB 53.1 MB/s \n",
            "\u001b[?25hRequirement already satisfied: certifi>=2017.4.17 in /usr/local/lib/python3.7/dist-packages (from requests->pytorch-pretrained-bert==0.6.2->biobert-embedding) (2021.10.8)\n",
            "Requirement already satisfied: chardet<4,>=3.0.2 in /usr/local/lib/python3.7/dist-packages (from requests->pytorch-pretrained-bert==0.6.2->biobert-embedding) (3.0.4)\n",
            "Requirement already satisfied: idna<3,>=2.5 in /usr/local/lib/python3.7/dist-packages (from requests->pytorch-pretrained-bert==0.6.2->biobert-embedding) (2.10)\n",
            "Requirement already satisfied: absl-py>=0.4.0 in /usr/local/lib/python3.7/dist-packages (from tensorflow->biobert-embedding) (0.12.0)\n",
            "Requirement already satisfied: opt-einsum>=2.3.2 in /usr/local/lib/python3.7/dist-packages (from tensorflow->biobert-embedding) (3.3.0)\n",
            "Requirement already satisfied: tensorflow-estimator<2.8,~=2.7.0rc0 in /usr/local/lib/python3.7/dist-packages (from tensorflow->biobert-embedding) (2.7.0)\n",
            "Requirement already satisfied: flatbuffers<3.0,>=1.12 in /usr/local/lib/python3.7/dist-packages (from tensorflow->biobert-embedding) (2.0)\n",
            "Requirement already satisfied: wheel<1.0,>=0.32.0 in /usr/local/lib/python3.7/dist-packages (from tensorflow->biobert-embedding) (0.37.0)\n",
            "Requirement already satisfied: h5py>=2.9.0 in /usr/local/lib/python3.7/dist-packages (from tensorflow->biobert-embedding) (3.1.0)\n",
            "Requirement already satisfied: typing-extensions>=3.6.6 in /usr/local/lib/python3.7/dist-packages (from tensorflow->biobert-embedding) (3.10.0.2)\n",
            "Requirement already satisfied: termcolor>=1.1.0 in /usr/local/lib/python3.7/dist-packages (from tensorflow->biobert-embedding) (1.1.0)\n",
            "Requirement already satisfied: keras<2.8,>=2.7.0rc0 in /usr/local/lib/python3.7/dist-packages (from tensorflow->biobert-embedding) (2.7.0)\n",
            "Requirement already satisfied: tensorflow-io-gcs-filesystem>=0.21.0 in /usr/local/lib/python3.7/dist-packages (from tensorflow->biobert-embedding) (0.22.0)\n",
            "Requirement already satisfied: gast<0.5.0,>=0.2.1 in /usr/local/lib/python3.7/dist-packages (from tensorflow->biobert-embedding) (0.4.0)\n",
            "Requirement already satisfied: libclang>=9.0.1 in /usr/local/lib/python3.7/dist-packages (from tensorflow->biobert-embedding) (12.0.0)\n",
            "Requirement already satisfied: wrapt>=1.11.0 in /usr/local/lib/python3.7/dist-packages (from tensorflow->biobert-embedding) (1.13.3)\n",
            "Requirement already satisfied: google-pasta>=0.1.1 in /usr/local/lib/python3.7/dist-packages (from tensorflow->biobert-embedding) (0.2.0)\n",
            "Requirement already satisfied: protobuf>=3.9.2 in /usr/local/lib/python3.7/dist-packages (from tensorflow->biobert-embedding) (3.17.3)\n",
            "Requirement already satisfied: astunparse>=1.6.0 in /usr/local/lib/python3.7/dist-packages (from tensorflow->biobert-embedding) (1.6.3)\n",
            "Requirement already satisfied: grpcio<2.0,>=1.24.3 in /usr/local/lib/python3.7/dist-packages (from tensorflow->biobert-embedding) (1.42.0)\n",
            "Requirement already satisfied: tensorboard~=2.6 in /usr/local/lib/python3.7/dist-packages (from tensorflow->biobert-embedding) (2.7.0)\n",
            "Requirement already satisfied: keras-preprocessing>=1.1.1 in /usr/local/lib/python3.7/dist-packages (from tensorflow->biobert-embedding) (1.1.2)\n",
            "Requirement already satisfied: cached-property in /usr/local/lib/python3.7/dist-packages (from h5py>=2.9.0->tensorflow->biobert-embedding) (1.5.2)\n",
            "Requirement already satisfied: google-auth-oauthlib<0.5,>=0.4.1 in /usr/local/lib/python3.7/dist-packages (from tensorboard~=2.6->tensorflow->biobert-embedding) (0.4.6)\n",
            "Requirement already satisfied: setuptools>=41.0.0 in /usr/local/lib/python3.7/dist-packages (from tensorboard~=2.6->tensorflow->biobert-embedding) (57.4.0)\n",
            "Requirement already satisfied: tensorboard-plugin-wit>=1.6.0 in /usr/local/lib/python3.7/dist-packages (from tensorboard~=2.6->tensorflow->biobert-embedding) (1.8.0)\n",
            "Requirement already satisfied: werkzeug>=0.11.15 in /usr/local/lib/python3.7/dist-packages (from tensorboard~=2.6->tensorflow->biobert-embedding) (1.0.1)\n",
            "Requirement already satisfied: google-auth<3,>=1.6.3 in /usr/local/lib/python3.7/dist-packages (from tensorboard~=2.6->tensorflow->biobert-embedding) (1.35.0)\n",
            "Requirement already satisfied: markdown>=2.6.8 in /usr/local/lib/python3.7/dist-packages (from tensorboard~=2.6->tensorflow->biobert-embedding) (3.3.6)\n",
            "Requirement already satisfied: tensorboard-data-server<0.7.0,>=0.6.0 in /usr/local/lib/python3.7/dist-packages (from tensorboard~=2.6->tensorflow->biobert-embedding) (0.6.1)\n",
            "Requirement already satisfied: cachetools<5.0,>=2.0.0 in /usr/local/lib/python3.7/dist-packages (from google-auth<3,>=1.6.3->tensorboard~=2.6->tensorflow->biobert-embedding) (4.2.4)\n",
            "Requirement already satisfied: rsa<5,>=3.1.4 in /usr/local/lib/python3.7/dist-packages (from google-auth<3,>=1.6.3->tensorboard~=2.6->tensorflow->biobert-embedding) (4.8)\n",
            "Requirement already satisfied: pyasn1-modules>=0.2.1 in /usr/local/lib/python3.7/dist-packages (from google-auth<3,>=1.6.3->tensorboard~=2.6->tensorflow->biobert-embedding) (0.2.8)\n",
            "Requirement already satisfied: requests-oauthlib>=0.7.0 in /usr/local/lib/python3.7/dist-packages (from google-auth-oauthlib<0.5,>=0.4.1->tensorboard~=2.6->tensorflow->biobert-embedding) (1.3.0)\n",
            "Requirement already satisfied: importlib-metadata>=4.4 in /usr/local/lib/python3.7/dist-packages (from markdown>=2.6.8->tensorboard~=2.6->tensorflow->biobert-embedding) (4.8.2)\n",
            "Requirement already satisfied: zipp>=0.5 in /usr/local/lib/python3.7/dist-packages (from importlib-metadata>=4.4->markdown>=2.6.8->tensorboard~=2.6->tensorflow->biobert-embedding) (3.6.0)\n",
            "Requirement already satisfied: pyasn1<0.5.0,>=0.4.6 in /usr/local/lib/python3.7/dist-packages (from pyasn1-modules>=0.2.1->google-auth<3,>=1.6.3->tensorboard~=2.6->tensorflow->biobert-embedding) (0.4.8)\n",
            "Requirement already satisfied: oauthlib>=3.0.0 in /usr/local/lib/python3.7/dist-packages (from requests-oauthlib>=0.7.0->google-auth-oauthlib<0.5,>=0.4.1->tensorboard~=2.6->tensorflow->biobert-embedding) (3.1.1)\n",
            "Building wheels for collected packages: biobert-embedding\n",
            "  Building wheel for biobert-embedding (setup.py) ... \u001b[?25l\u001b[?25hdone\n",
            "  Created wheel for biobert-embedding: filename=biobert_embedding-0.1.2-py3-none-any.whl size=5701 sha256=4c1ea5be895a5985b1f14c3042befe5cfb61441316dd5b4913c9f67878a01302\n",
            "  Stored in directory: /root/.cache/pip/wheels/67/26/c2/176e174845e1612a5d607eea1d1876e2c9aca2b5654a5cd681\n",
            "Successfully built biobert-embedding\n",
            "Installing collected packages: urllib3, jmespath, botocore, s3transfer, torch, boto3, pytorch-pretrained-bert, biobert-embedding\n",
            "  Attempting uninstall: urllib3\n",
            "    Found existing installation: urllib3 1.24.3\n",
            "    Uninstalling urllib3-1.24.3:\n",
            "      Successfully uninstalled urllib3-1.24.3\n",
            "  Attempting uninstall: torch\n",
            "    Found existing installation: torch 1.10.0+cu111\n",
            "    Uninstalling torch-1.10.0+cu111:\n",
            "      Successfully uninstalled torch-1.10.0+cu111\n",
            "\u001b[31mERROR: pip's dependency resolver does not currently take into account all the packages that are installed. This behaviour is the source of the following dependency conflicts.\n",
            "torchvision 0.11.1+cu111 requires torch==1.10.0, but you have torch 1.2.0 which is incompatible.\n",
            "torchtext 0.11.0 requires torch==1.10.0, but you have torch 1.2.0 which is incompatible.\n",
            "torchaudio 0.10.0+cu111 requires torch==1.10.0, but you have torch 1.2.0 which is incompatible.\n",
            "datascience 0.10.6 requires folium==0.2.1, but you have folium 0.8.3 which is incompatible.\u001b[0m\n",
            "Successfully installed biobert-embedding-0.1.2 boto3-1.20.23 botocore-1.23.23 jmespath-0.10.0 pytorch-pretrained-bert-0.6.2 s3transfer-0.5.0 torch-1.2.0 urllib3-1.25.11\n"
          ]
        },
        {
          "output_type": "display_data",
          "data": {
            "application/vnd.colab-display-data+json": {
              "pip_warning": {
                "packages": [
                  "torch"
                ]
              }
            }
          },
          "metadata": {}
        }
      ]
    },
    {
      "cell_type": "code",
      "source": [
        "import os\n",
        "import numpy as np\n",
        "import pandas as pd\n",
        "import matplotlib.pyplot as plt\n",
        "\n",
        "from scipy.spatial.distance import cosine\n",
        "from tqdm import tqdm\n",
        "\n",
        "import torch\n",
        "import torch.nn as nn\n",
        "import torch.nn.functional as F\n",
        "from torch.utils.data import DataLoader\n",
        "\n",
        "from biobert_embedding.embedding import BiobertEmbedding\n",
        "\n",
        "class BaseModel():\n",
        "    \n",
        "    def __init__(self, train_df, test_df,image_address, sentence_length, vocab_size, epoch, encoder_name):\n",
        "        \n",
        "        device = torch.device(\"cuda\" if torch.cuda.is_available() else \"cpu\")\n",
        "        \n",
        "        self.df = df.sample(frac=1).reset_index(drop=True)\n",
        "\n",
        "        test_df = test_df.sample(frac=1).reset_index(drop=True)\n",
        "        train_df= train_df.sample(frac=1).reset_index(drop=True)\n",
        "        train_df, val_df = self.train_val_split(train_df)\n",
        "        \n",
        "        train_ds = ImgCapDataset(train_df, image_address)\n",
        "        val_ds = ImgCapDataset(val_df, image_address)\n",
        "        test_ds = ImgCapDataset(test_df, image_address)\n",
        "        \n",
        "        self.train_dl = DataLoader(train_ds, batch_size=16, shuffle=True)\n",
        "        self.val_dl = DataLoader(val_ds, batch_size=16, shuffle=True)\n",
        "        self.test_dl = DataLoader(test_ds, batch_size=1, shuffle=True)\n",
        "        \n",
        "        self.EPOCH = epoch\n",
        "        \n",
        "        if encoder_name == \"CNN\":\n",
        "            self.encoder = CNN_Encoder()\n",
        "        elif encoder_name == \"VGG\":\n",
        "            self.encoder = VGG_Encoder()\n",
        "        elif encoder_name == \"DenseNet\":\n",
        "            self.encoder = DN_Encoder()\n",
        "        self.decoder = RNN_Decoder(256, sentence_length, vocab_size)\n",
        "        \n",
        "        self.encoder = self.encoder.to(device)\n",
        "        self.decoder = self.decoder.to(device)\n",
        "        \n",
        "        self.encoder_optim = torch.optim.Adam(self.encoder.parameters(), 0.0001)\n",
        "        self.decoder_optim = torch.optim.Adam(self.decoder.parameters(), 0.0001)\n",
        "        self.LOSS = torch.nn.CrossEntropyLoss()\n",
        "        \n",
        "    def train_val_split(self, df):\n",
        "\n",
        "        split = 4*len(df)//5\n",
        "        train = df.iloc[:split,:]\n",
        "        val = df.iloc[split:,:]\n",
        "        return train, val\n",
        "    \n",
        "    def train(self):\n",
        "        self._training_loop(\n",
        "            self.EPOCH, self.encoder, self.decoder, self.encoder_optim, \n",
        "            self.decoder_optim, self.LOSS, self.train_dl, self.val_dl\n",
        "        )\n",
        "        \n",
        "    def _training_loop(self, epochs, encoder, decoder, encoder_optimizer, decoder_optimizer, loss_f, train_loader, val_loader):\n",
        "        \n",
        "        device = torch.device(\"cuda\" if torch.cuda.is_available() else \"cpu\")\n",
        "        \n",
        "        for epoch in range(epochs):\n",
        "            loss_train = 0.0\n",
        "            for x1, x2, y in train_loader:\n",
        "                x1 = x1.to(device)\n",
        "                x2 = x2.to(device)\n",
        "                y = y.to(device)\n",
        "                \n",
        "                out = encoder(x1, x2)\n",
        "                out = decoder(out, y)\n",
        "                out = out.to(device)\n",
        "                loss = loss_f(torch.flatten(out, 0, 1), torch.flatten(y))\n",
        "\n",
        "                encoder_optimizer.zero_grad()\n",
        "                decoder_optimizer.zero_grad()\n",
        "                loss.backward()\n",
        "                encoder_optimizer.step()\n",
        "                decoder_optimizer.step()\n",
        "                loss_train += loss.item()\n",
        "            \n",
        "            with torch.no_grad():\n",
        "                loss_val = 0.0\n",
        "                for x1, x2, y in val_loader:\n",
        "                    x1 = x1.to(device)\n",
        "                    x2 = x2.to(device)\n",
        "                    y = y.to(device)\n",
        "\n",
        "                    out = encoder(x1, x2)\n",
        "                    out = decoder(out, y)\n",
        "                    out = out.to(device)\n",
        "                    loss = loss_f(torch.flatten(out, 0, 1), torch.flatten(y))\n",
        "                    loss_val += loss.item()\n",
        "                print(\"Epoch\", epoch, \"Train Loss\", loss_train/len(train_loader), \"Validation Loss\", loss_val/len(val_loader))\n",
        "    \n",
        "    def sample(self, tokenizer):\n",
        "        device = torch.device(\"cuda\" if torch.cuda.is_available() else \"cpu\")\n",
        "        x1, x2, c = next(iter(self.test_dl))\n",
        "        x1 = x1.to(device)\n",
        "        x2 = x2.to(device)\n",
        "        c = c.to(device)\n",
        "        out1 = self.encoder.forward(x1, x2)\n",
        "        out2 = self.decoder.forward(out1, c)\n",
        "        encoded_out = torch.argmax(out2, dim=2).cpu().detach().numpy()\n",
        "\n",
        "        decoded_out = \" \".join([tokenizer.index_word[x] for x in encoded_out[0] if x not in (0, 1)])\n",
        "            \n",
        "        c = c.cpu().detach().numpy()\n",
        "            \n",
        "        real = \" \".join([tokenizer.index_word[x] for x in c[0] if x not in (0, 1)])\n",
        "\n",
        "        fig, ax = plt.subplots(1, 2)\n",
        "        ax[0].imshow(x1[0].permute(1, 2, 0).cpu().detach().numpy())\n",
        "        ax[1].imshow(x2[0].permute(1, 2, 0).cpu().detach().numpy())\n",
        "        plt.show()\n",
        "        print(\"Prediction:\", decoded_out)\n",
        "        print(\"Caption:\", real)\n",
        "        \n",
        "    def evaluate(self, tokenizer):\n",
        "        \n",
        "        device = torch.device(\"cuda\" if torch.cuda.is_available() else \"cpu\")\n",
        "        dist = []\n",
        "        for x1, x2, c in self.test_dl:\n",
        "            x1 = x1.to(device)\n",
        "            x2 = x2.to(device)\n",
        "            c = c.to(device)\n",
        "            out1 = self.encoder.forward(x1, x2)\n",
        "            out2 = self.decoder.forward(out1, c)\n",
        "            encoded_out = torch.argmax(out2, dim=2).cpu().detach().numpy()\n",
        "\n",
        "            decoded_out = \" \".join([tokenizer.index_word[x] for x in encoded_out[0] if x not in (0, 1)])\n",
        "            c = c.cpu().detach().numpy()\n",
        "            real = \" \".join([tokenizer.index_word[x] for x in c[0] if x not in (0, 1)])\n",
        "\n",
        "            biobert = BiobertEmbedding()\n",
        "            preds = biobert.sentence_vector(decoded_out)\n",
        "            caps = biobert.sentence_vector(real)\n",
        "            dist.append(cosine(preds, caps))\n",
        "            \n",
        "        return np.mean(dist)\n",
        "        "
      ],
      "metadata": {
        "execution": {
          "iopub.status.busy": "2021-12-10T01:33:22.008903Z",
          "iopub.execute_input": "2021-12-10T01:33:22.010097Z",
          "iopub.status.idle": "2021-12-10T01:33:22.044279Z",
          "shell.execute_reply.started": "2021-12-10T01:33:22.010047Z",
          "shell.execute_reply": "2021-12-10T01:33:22.043244Z"
        },
        "trusted": true,
        "id": "9X8-oVAmuJLJ"
      },
      "execution_count": 116,
      "outputs": []
    },
    {
      "cell_type": "code",
      "source": [
        "   \n",
        "import os\n",
        "import numpy as np\n",
        "import pandas as pd\n",
        "import matplotlib.pyplot as plt\n",
        "\n",
        "from PIL import Image\n",
        "from functools import reduce\n",
        "from sklearn.model_selection import train_test_split\n",
        "from sklearn.preprocessing import LabelEncoder\n",
        "from sklearn.feature_extraction.text import CountVectorizer\n",
        "\n",
        "import torch\n",
        "import torch.nn as nn\n",
        "import torch.nn.functional as F\n",
        "import torchtext\n",
        "from torch.utils.data import DataLoader\n",
        "from torchtext.data.metrics import bleu_score"
      ],
      "metadata": {
        "execution": {
          "iopub.status.busy": "2021-12-10T01:33:22.048357Z",
          "iopub.execute_input": "2021-12-10T01:33:22.048727Z",
          "iopub.status.idle": "2021-12-10T01:33:23.196001Z",
          "shell.execute_reply.started": "2021-12-10T01:33:22.048695Z",
          "shell.execute_reply": "2021-12-10T01:33:23.194987Z"
        },
        "trusted": true,
        "id": "nzhIqVkGuJLN"
      },
      "execution_count": 21,
      "outputs": []
    },
    {
      "cell_type": "code",
      "source": [
        "df = pd.read_csv(\"input.csv\")\n",
        "df = df[[\"Image1\", \"Image2\", \"Clean_capt\"]]\n",
        "df.columns = [\"Image1\", \"Image2\", \"Caption\"]\n",
        "print(df.shape)\n",
        "df.head()"
      ],
      "metadata": {
        "execution": {
          "iopub.status.busy": "2021-12-10T01:33:23.197575Z",
          "iopub.execute_input": "2021-12-10T01:33:23.199186Z",
          "iopub.status.idle": "2021-12-10T01:33:23.274440Z",
          "shell.execute_reply.started": "2021-12-10T01:33:23.199120Z",
          "shell.execute_reply": "2021-12-10T01:33:23.273225Z"
        },
        "trusted": true,
        "colab": {
          "base_uri": "https://localhost:8080/",
          "height": 221
        },
        "id": "hh__N9N-uJLP",
        "outputId": "c7cf09b0-a15c-418f-b76e-c107701ef621"
      },
      "execution_count": 93,
      "outputs": [
        {
          "output_type": "stream",
          "name": "stdout",
          "text": [
            "(4017, 3)\n"
          ]
        },
        {
          "output_type": "execute_result",
          "data": {
            "text/html": [
              "<div>\n",
              "<style scoped>\n",
              "    .dataframe tbody tr th:only-of-type {\n",
              "        vertical-align: middle;\n",
              "    }\n",
              "\n",
              "    .dataframe tbody tr th {\n",
              "        vertical-align: top;\n",
              "    }\n",
              "\n",
              "    .dataframe thead th {\n",
              "        text-align: right;\n",
              "    }\n",
              "</style>\n",
              "<table border=\"1\" class=\"dataframe\">\n",
              "  <thead>\n",
              "    <tr style=\"text-align: right;\">\n",
              "      <th></th>\n",
              "      <th>Image1</th>\n",
              "      <th>Image2</th>\n",
              "      <th>Caption</th>\n",
              "    </tr>\n",
              "  </thead>\n",
              "  <tbody>\n",
              "    <tr>\n",
              "      <th>0</th>\n",
              "      <td>CXR162_IM-0401-1001</td>\n",
              "      <td>CXR162_IM-0401-2001</td>\n",
              "      <td>normal chest</td>\n",
              "    </tr>\n",
              "    <tr>\n",
              "      <th>1</th>\n",
              "      <td>CXR1390_IM-0249-1001</td>\n",
              "      <td>CXR1390_IM-0249-2001</td>\n",
              "      <td>no evidence active disease</td>\n",
              "    </tr>\n",
              "    <tr>\n",
              "      <th>2</th>\n",
              "      <td>CXR604_IM-2193-1001</td>\n",
              "      <td>CXR604_IM-2193-2001</td>\n",
              "      <td>no evidence active disease</td>\n",
              "    </tr>\n",
              "    <tr>\n",
              "      <th>3</th>\n",
              "      <td>CXR2699_IM-1167-1001</td>\n",
              "      <td>CXR2699_IM-1167-2001</td>\n",
              "      <td>no acute cardiopulmonary disease</td>\n",
              "    </tr>\n",
              "    <tr>\n",
              "      <th>4</th>\n",
              "      <td>CXR2841_IM-1253-2001</td>\n",
              "      <td>CXR2841_IM-1253-2001</td>\n",
              "      <td>no acute cardiopulmonary disease</td>\n",
              "    </tr>\n",
              "  </tbody>\n",
              "</table>\n",
              "</div>"
            ],
            "text/plain": [
              "                 Image1                Image2                           Caption\n",
              "0   CXR162_IM-0401-1001   CXR162_IM-0401-2001                      normal chest\n",
              "1  CXR1390_IM-0249-1001  CXR1390_IM-0249-2001        no evidence active disease\n",
              "2   CXR604_IM-2193-1001   CXR604_IM-2193-2001        no evidence active disease\n",
              "3  CXR2699_IM-1167-1001  CXR2699_IM-1167-2001  no acute cardiopulmonary disease\n",
              "4  CXR2841_IM-1253-2001  CXR2841_IM-1253-2001  no acute cardiopulmonary disease"
            ]
          },
          "metadata": {},
          "execution_count": 93
        }
      ]
    },
    {
      "cell_type": "code",
      "source": [
        "tokenizer = Tokenizer()\n",
        "tokenizer.fit(reduce(lambda a, b: a+b, df.Caption.str.split()))\n",
        "cap = df.Caption.apply(lambda x: tokenizer.transform(x.split()))\n",
        "cap_len = cap.apply(len).value_counts().sort_index()\n",
        "cap_len"
      ],
      "metadata": {
        "execution": {
          "iopub.status.busy": "2021-12-10T01:33:23.276555Z",
          "iopub.execute_input": "2021-12-10T01:33:23.277450Z",
          "iopub.status.idle": "2021-12-10T01:33:23.882278Z",
          "shell.execute_reply.started": "2021-12-10T01:33:23.277404Z",
          "shell.execute_reply": "2021-12-10T01:33:23.881311Z"
        },
        "trusted": true,
        "colab": {
          "base_uri": "https://localhost:8080/"
        },
        "id": "jW-gap9WuJLU",
        "outputId": "b7c254ff-aca8-4774-fc31-d802b80c4370"
      },
      "execution_count": 94,
      "outputs": [
        {
          "output_type": "execute_result",
          "data": {
            "text/plain": [
              "3       10\n",
              "4      109\n",
              "5      469\n",
              "6     1443\n",
              "7      292\n",
              "      ... \n",
              "65       1\n",
              "66       1\n",
              "86       1\n",
              "89       1\n",
              "90       2\n",
              "Name: Caption, Length: 63, dtype: int64"
            ]
          },
          "metadata": {},
          "execution_count": 94
        }
      ]
    },
    {
      "cell_type": "code",
      "source": [
        "LENGTH = 64\n",
        "seq_trim = cap_len[cap_len.index > LENGTH]\n",
        "print(\"If trimmed by length %d, %d captions will be trimmed\" % (LENGTH, seq_trim.sum()))\n",
        "print(\"If trimmed by length %d, %.2f%% of captions will be trimmed\" % (LENGTH, seq_trim.sum()*100/len(df)))"
      ],
      "metadata": {
        "execution": {
          "iopub.status.busy": "2021-12-10T01:33:23.883997Z",
          "iopub.execute_input": "2021-12-10T01:33:23.884634Z",
          "iopub.status.idle": "2021-12-10T01:33:23.893544Z",
          "shell.execute_reply.started": "2021-12-10T01:33:23.884586Z",
          "shell.execute_reply": "2021-12-10T01:33:23.892413Z"
        },
        "trusted": true,
        "colab": {
          "base_uri": "https://localhost:8080/"
        },
        "id": "XLmvmD6wuJLV",
        "outputId": "ac635fae-1ee7-474c-cc87-cef46340df03"
      },
      "execution_count": 95,
      "outputs": [
        {
          "output_type": "stream",
          "name": "stdout",
          "text": [
            "If trimmed by length 64, 6 captions will be trimmed\n",
            "If trimmed by length 64, 0.15% of captions will be trimmed\n"
          ]
        }
      ]
    },
    {
      "cell_type": "code",
      "source": [
        "df[\"CaptionSeq\"] = cap.apply(lambda x: x + [1] * (LENGTH - len(x)) if len(x) < LENGTH else x[:LENGTH])\n",
        "df.head()"
      ],
      "metadata": {
        "execution": {
          "iopub.status.busy": "2021-12-10T01:33:23.896579Z",
          "iopub.execute_input": "2021-12-10T01:33:23.897158Z",
          "iopub.status.idle": "2021-12-10T01:33:23.927000Z",
          "shell.execute_reply.started": "2021-12-10T01:33:23.897110Z",
          "shell.execute_reply": "2021-12-10T01:33:23.925966Z"
        },
        "trusted": true,
        "colab": {
          "base_uri": "https://localhost:8080/",
          "height": 204
        },
        "id": "SBBxdHo5uJLV",
        "outputId": "2ccfa7ad-aa09-4b57-8a46-176619e278b4"
      },
      "execution_count": 96,
      "outputs": [
        {
          "output_type": "execute_result",
          "data": {
            "text/html": [
              "<div>\n",
              "<style scoped>\n",
              "    .dataframe tbody tr th:only-of-type {\n",
              "        vertical-align: middle;\n",
              "    }\n",
              "\n",
              "    .dataframe tbody tr th {\n",
              "        vertical-align: top;\n",
              "    }\n",
              "\n",
              "    .dataframe thead th {\n",
              "        text-align: right;\n",
              "    }\n",
              "</style>\n",
              "<table border=\"1\" class=\"dataframe\">\n",
              "  <thead>\n",
              "    <tr style=\"text-align: right;\">\n",
              "      <th></th>\n",
              "      <th>Image1</th>\n",
              "      <th>Image2</th>\n",
              "      <th>Caption</th>\n",
              "      <th>CaptionSeq</th>\n",
              "    </tr>\n",
              "  </thead>\n",
              "  <tbody>\n",
              "    <tr>\n",
              "      <th>0</th>\n",
              "      <td>CXR162_IM-0401-1001</td>\n",
              "      <td>CXR162_IM-0401-2001</td>\n",
              "      <td>normal chest</td>\n",
              "      <td>[0, 2, 3, 1, 1, 1, 1, 1, 1, 1, 1, 1, 1, 1, 1, ...</td>\n",
              "    </tr>\n",
              "    <tr>\n",
              "      <th>1</th>\n",
              "      <td>CXR1390_IM-0249-1001</td>\n",
              "      <td>CXR1390_IM-0249-2001</td>\n",
              "      <td>no evidence active disease</td>\n",
              "      <td>[0, 4, 5, 6, 7, 1, 1, 1, 1, 1, 1, 1, 1, 1, 1, ...</td>\n",
              "    </tr>\n",
              "    <tr>\n",
              "      <th>2</th>\n",
              "      <td>CXR604_IM-2193-1001</td>\n",
              "      <td>CXR604_IM-2193-2001</td>\n",
              "      <td>no evidence active disease</td>\n",
              "      <td>[0, 4, 5, 6, 7, 1, 1, 1, 1, 1, 1, 1, 1, 1, 1, ...</td>\n",
              "    </tr>\n",
              "    <tr>\n",
              "      <th>3</th>\n",
              "      <td>CXR2699_IM-1167-1001</td>\n",
              "      <td>CXR2699_IM-1167-2001</td>\n",
              "      <td>no acute cardiopulmonary disease</td>\n",
              "      <td>[0, 4, 8, 9, 7, 1, 1, 1, 1, 1, 1, 1, 1, 1, 1, ...</td>\n",
              "    </tr>\n",
              "    <tr>\n",
              "      <th>4</th>\n",
              "      <td>CXR2841_IM-1253-2001</td>\n",
              "      <td>CXR2841_IM-1253-2001</td>\n",
              "      <td>no acute cardiopulmonary disease</td>\n",
              "      <td>[0, 4, 8, 9, 7, 1, 1, 1, 1, 1, 1, 1, 1, 1, 1, ...</td>\n",
              "    </tr>\n",
              "  </tbody>\n",
              "</table>\n",
              "</div>"
            ],
            "text/plain": [
              "                 Image1  ...                                         CaptionSeq\n",
              "0   CXR162_IM-0401-1001  ...  [0, 2, 3, 1, 1, 1, 1, 1, 1, 1, 1, 1, 1, 1, 1, ...\n",
              "1  CXR1390_IM-0249-1001  ...  [0, 4, 5, 6, 7, 1, 1, 1, 1, 1, 1, 1, 1, 1, 1, ...\n",
              "2   CXR604_IM-2193-1001  ...  [0, 4, 5, 6, 7, 1, 1, 1, 1, 1, 1, 1, 1, 1, 1, ...\n",
              "3  CXR2699_IM-1167-1001  ...  [0, 4, 8, 9, 7, 1, 1, 1, 1, 1, 1, 1, 1, 1, 1, ...\n",
              "4  CXR2841_IM-1253-2001  ...  [0, 4, 8, 9, 7, 1, 1, 1, 1, 1, 1, 1, 1, 1, 1, ...\n",
              "\n",
              "[5 rows x 4 columns]"
            ]
          },
          "metadata": {},
          "execution_count": 96
        }
      ]
    },
    {
      "cell_type": "code",
      "source": [
        "from google.colab import drive\n",
        "drive.mount('/content/gdrive')"
      ],
      "metadata": {
        "colab": {
          "base_uri": "https://localhost:8080/"
        },
        "id": "ZAJaHaBE6qPz",
        "outputId": "0feca97f-6318-48bb-a05e-abdf59b44005"
      },
      "execution_count": 14,
      "outputs": [
        {
          "output_type": "stream",
          "name": "stdout",
          "text": [
            "Mounted at /content/gdrive\n"
          ]
        }
      ]
    },
    {
      "cell_type": "code",
      "source": [
        "!unzip gdrive/My\\ Drive/image.zip > /dev/null"
      ],
      "metadata": {
        "id": "71YHmFvq6wmg"
      },
      "execution_count": 15,
      "outputs": []
    },
    {
      "cell_type": "code",
      "source": [
        "c = pd.read_csv(\"train.csv\")\n",
        "c = list(c[\"Number\"])\n",
        "train_df=df.loc[c,:]\n",
        "d = pd.read_csv(\"test.csv\")\n",
        "d = list(d[\"Number\"])\n",
        "test_df = df.iloc[d,:]"
      ],
      "metadata": {
        "id": "Kpvn9a72bEs3"
      },
      "execution_count": 112,
      "outputs": []
    },
    {
      "cell_type": "code",
      "source": [
        "df"
      ],
      "metadata": {
        "colab": {
          "base_uri": "https://localhost:8080/",
          "height": 419
        },
        "id": "bKz5NeM6fSUe",
        "outputId": "84e8073a-7b15-4827-81ad-5ffcaa73a665"
      },
      "execution_count": 107,
      "outputs": [
        {
          "output_type": "execute_result",
          "data": {
            "text/html": [
              "<div>\n",
              "<style scoped>\n",
              "    .dataframe tbody tr th:only-of-type {\n",
              "        vertical-align: middle;\n",
              "    }\n",
              "\n",
              "    .dataframe tbody tr th {\n",
              "        vertical-align: top;\n",
              "    }\n",
              "\n",
              "    .dataframe thead th {\n",
              "        text-align: right;\n",
              "    }\n",
              "</style>\n",
              "<table border=\"1\" class=\"dataframe\">\n",
              "  <thead>\n",
              "    <tr style=\"text-align: right;\">\n",
              "      <th></th>\n",
              "      <th>Image1</th>\n",
              "      <th>Image2</th>\n",
              "      <th>Caption</th>\n",
              "      <th>CaptionSeq</th>\n",
              "    </tr>\n",
              "  </thead>\n",
              "  <tbody>\n",
              "    <tr>\n",
              "      <th>0</th>\n",
              "      <td>CXR162_IM-0401-1001</td>\n",
              "      <td>CXR162_IM-0401-2001</td>\n",
              "      <td>normal chest</td>\n",
              "      <td>[0, 2, 3, 1, 1, 1, 1, 1, 1, 1, 1, 1, 1, 1, 1, ...</td>\n",
              "    </tr>\n",
              "    <tr>\n",
              "      <th>1</th>\n",
              "      <td>CXR1390_IM-0249-1001</td>\n",
              "      <td>CXR1390_IM-0249-2001</td>\n",
              "      <td>no evidence active disease</td>\n",
              "      <td>[0, 4, 5, 6, 7, 1, 1, 1, 1, 1, 1, 1, 1, 1, 1, ...</td>\n",
              "    </tr>\n",
              "    <tr>\n",
              "      <th>2</th>\n",
              "      <td>CXR604_IM-2193-1001</td>\n",
              "      <td>CXR604_IM-2193-2001</td>\n",
              "      <td>no evidence active disease</td>\n",
              "      <td>[0, 4, 5, 6, 7, 1, 1, 1, 1, 1, 1, 1, 1, 1, 1, ...</td>\n",
              "    </tr>\n",
              "    <tr>\n",
              "      <th>3</th>\n",
              "      <td>CXR2699_IM-1167-1001</td>\n",
              "      <td>CXR2699_IM-1167-2001</td>\n",
              "      <td>no acute cardiopulmonary disease</td>\n",
              "      <td>[0, 4, 8, 9, 7, 1, 1, 1, 1, 1, 1, 1, 1, 1, 1, ...</td>\n",
              "    </tr>\n",
              "    <tr>\n",
              "      <th>4</th>\n",
              "      <td>CXR2841_IM-1253-2001</td>\n",
              "      <td>CXR2841_IM-1253-2001</td>\n",
              "      <td>no acute cardiopulmonary disease</td>\n",
              "      <td>[0, 4, 8, 9, 7, 1, 1, 1, 1, 1, 1, 1, 1, 1, 1, ...</td>\n",
              "    </tr>\n",
              "    <tr>\n",
              "      <th>...</th>\n",
              "      <td>...</td>\n",
              "      <td>...</td>\n",
              "      <td>...</td>\n",
              "      <td>...</td>\n",
              "    </tr>\n",
              "    <tr>\n",
              "      <th>4012</th>\n",
              "      <td>CXR2680_IM-1154-1001</td>\n",
              "      <td>CXR2680_IM-1154-2001</td>\n",
              "      <td>no acute pulmonary disease</td>\n",
              "      <td>[0, 4, 8, 60, 7, 1, 1, 1, 1, 1, 1, 1, 1, 1, 1,...</td>\n",
              "    </tr>\n",
              "    <tr>\n",
              "      <th>4013</th>\n",
              "      <td>CXR2680_IM-1154-3001</td>\n",
              "      <td>CXR2680_IM-1154-3001</td>\n",
              "      <td>no acute pulmonary disease</td>\n",
              "      <td>[0, 4, 8, 60, 7, 1, 1, 1, 1, 1, 1, 1, 1, 1, 1,...</td>\n",
              "    </tr>\n",
              "    <tr>\n",
              "      <th>4014</th>\n",
              "      <td>CXR85_IM-2372-1001</td>\n",
              "      <td>CXR85_IM-2372-2001</td>\n",
              "      <td>no evidence active disease</td>\n",
              "      <td>[0, 4, 5, 6, 7, 1, 1, 1, 1, 1, 1, 1, 1, 1, 1, ...</td>\n",
              "    </tr>\n",
              "    <tr>\n",
              "      <th>4015</th>\n",
              "      <td>CXR1389_IM-0247-1001</td>\n",
              "      <td>CXR1389_IM-0247-2001</td>\n",
              "      <td>heart size normal lung clear overexpanded lung...</td>\n",
              "      <td>[0, 16, 41, 2, 19, 43, 1259, 19, 305, 55, 4, 6...</td>\n",
              "    </tr>\n",
              "    <tr>\n",
              "      <th>4016</th>\n",
              "      <td>CXR1389_IM-0247-3001</td>\n",
              "      <td>CXR1389_IM-0247-3001</td>\n",
              "      <td>heart size normal lung clear overexpanded lung...</td>\n",
              "      <td>[0, 16, 41, 2, 19, 43, 1259, 19, 305, 55, 4, 6...</td>\n",
              "    </tr>\n",
              "  </tbody>\n",
              "</table>\n",
              "<p>4017 rows × 4 columns</p>\n",
              "</div>"
            ],
            "text/plain": [
              "                    Image1  ...                                         CaptionSeq\n",
              "0      CXR162_IM-0401-1001  ...  [0, 2, 3, 1, 1, 1, 1, 1, 1, 1, 1, 1, 1, 1, 1, ...\n",
              "1     CXR1390_IM-0249-1001  ...  [0, 4, 5, 6, 7, 1, 1, 1, 1, 1, 1, 1, 1, 1, 1, ...\n",
              "2      CXR604_IM-2193-1001  ...  [0, 4, 5, 6, 7, 1, 1, 1, 1, 1, 1, 1, 1, 1, 1, ...\n",
              "3     CXR2699_IM-1167-1001  ...  [0, 4, 8, 9, 7, 1, 1, 1, 1, 1, 1, 1, 1, 1, 1, ...\n",
              "4     CXR2841_IM-1253-2001  ...  [0, 4, 8, 9, 7, 1, 1, 1, 1, 1, 1, 1, 1, 1, 1, ...\n",
              "...                    ...  ...                                                ...\n",
              "4012  CXR2680_IM-1154-1001  ...  [0, 4, 8, 60, 7, 1, 1, 1, 1, 1, 1, 1, 1, 1, 1,...\n",
              "4013  CXR2680_IM-1154-3001  ...  [0, 4, 8, 60, 7, 1, 1, 1, 1, 1, 1, 1, 1, 1, 1,...\n",
              "4014    CXR85_IM-2372-1001  ...  [0, 4, 5, 6, 7, 1, 1, 1, 1, 1, 1, 1, 1, 1, 1, ...\n",
              "4015  CXR1389_IM-0247-1001  ...  [0, 16, 41, 2, 19, 43, 1259, 19, 305, 55, 4, 6...\n",
              "4016  CXR1389_IM-0247-3001  ...  [0, 16, 41, 2, 19, 43, 1259, 19, 305, 55, 4, 6...\n",
              "\n",
              "[4017 rows x 4 columns]"
            ]
          },
          "metadata": {},
          "execution_count": 107
        }
      ]
    },
    {
      "cell_type": "code",
      "source": [
        "model = BaseModel(train_df,test_df, \"/content\", LENGTH, tokenizer.vocab_size, 20, \"DenseNet\")\n",
        "model.train()"
      ],
      "metadata": {
        "execution": {
          "iopub.status.busy": "2021-12-09T23:07:29.289372Z",
          "iopub.execute_input": "2021-12-09T23:07:29.289619Z",
          "iopub.status.idle": "2021-12-10T00:39:56.323665Z",
          "shell.execute_reply.started": "2021-12-09T23:07:29.289587Z",
          "shell.execute_reply": "2021-12-10T00:39:56.322854Z"
        },
        "trusted": true,
        "colab": {
          "base_uri": "https://localhost:8080/"
        },
        "id": "ltZ8BWLhuJLX",
        "outputId": "eef80903-d9ad-48bc-e3db-a22de41bd0a0"
      },
      "execution_count": 120,
      "outputs": [
        {
          "output_type": "stream",
          "name": "stdout",
          "text": [
            "Epoch 0 Train Loss 5.164400539042787 Validation Loss 3.286479670826982\n",
            "Epoch 1 Train Loss 2.1185963087200377 Validation Loss 1.4287021741634462\n",
            "Epoch 2 Train Loss 1.1753449054978649 Validation Loss 1.0545052813320626\n",
            "Epoch 3 Train Loss 0.9172068395599815 Validation Loss 0.8482170410272551\n",
            "Epoch 4 Train Loss 0.7816053549325244 Validation Loss 0.7450201554996211\n",
            "Epoch 5 Train Loss 0.6866891230485455 Validation Loss 0.658509694948429\n",
            "Epoch 6 Train Loss 0.6172080804472384 Validation Loss 0.6046049260511631\n",
            "Epoch 7 Train Loss 0.5593993765597017 Validation Loss 0.5481533771607934\n",
            "Epoch 8 Train Loss 0.5102620364531226 Validation Loss 0.5095237769731661\n",
            "Epoch 9 Train Loss 0.4667714701398559 Validation Loss 0.458761441453201\n",
            "Epoch 10 Train Loss 0.4298784014138376 Validation Loss 0.4343326193530385\n",
            "Epoch 11 Train Loss 0.3973037165514431 Validation Loss 0.41279893568376214\n",
            "Epoch 12 Train Loss 0.3693618587455394 Validation Loss 0.3746640622252371\n",
            "Epoch 13 Train Loss 0.34460202912273613 Validation Loss 0.3482827693223953\n",
            "Epoch 14 Train Loss 0.3231712248384582 Validation Loss 0.3311520427828882\n",
            "Epoch 15 Train Loss 0.3039861069702954 Validation Loss 0.3083905333244219\n",
            "Epoch 16 Train Loss 0.2857104224262771 Validation Loss 0.2918233062799384\n",
            "Epoch 17 Train Loss 0.26947631719319715 Validation Loss 0.28361553044580834\n",
            "Epoch 18 Train Loss 0.25467061674835517 Validation Loss 0.2634940988770345\n",
            "Epoch 19 Train Loss 0.24015791976812834 Validation Loss 0.25894187054619555\n"
          ]
        }
      ]
    },
    {
      "cell_type": "code",
      "source": [
        "model.sample(tokenizer)"
      ],
      "metadata": {
        "execution": {
          "iopub.status.busy": "2021-12-10T00:39:56.325306Z",
          "iopub.execute_input": "2021-12-10T00:39:56.325507Z",
          "iopub.status.idle": "2021-12-10T00:39:57.673938Z",
          "shell.execute_reply.started": "2021-12-10T00:39:56.325483Z",
          "shell.execute_reply": "2021-12-10T00:39:57.673222Z"
        },
        "trusted": true,
        "colab": {
          "base_uri": "https://localhost:8080/",
          "height": 238
        },
        "id": "olcWXu4YuJLY",
        "outputId": "0f7e40d0-a779-4b01-a5d6-d93cde4ee759"
      },
      "execution_count": 121,
      "outputs": [
        {
          "output_type": "display_data",
          "data": {
            "image/png": "[encoded data removed]",
            "text/plain": [
              "<Figure size 432x288 with 2 Axes>"
            ]
          },
          "metadata": {
            "needs_background": "light"
          }
        },
        {
          "output_type": "stream",
          "name": "stdout",
          "text": [
            "Prediction: no acute abnormality\n",
            "Caption: no acute abnormality\n"
          ]
        }
      ]
    },
    {
      "cell_type": "code",
      "source": [
        "for _ in range(3):\n",
        "    model.sample(tokenizer)\n",
        "    print()"
      ],
      "metadata": {
        "colab": {
          "base_uri": "https://localhost:8080/",
          "height": 731
        },
        "id": "TOqsN5KNuJLY",
        "outputId": "45c499da-742e-4172-e916-734da3ed2186"
      },
      "execution_count": 122,
      "outputs": [
        {
          "output_type": "display_data",
          "data": {
            "image/png": "[encoded data removed]",
            "text/plain": [
              "<Figure size 432x288 with 2 Axes>"
            ]
          },
          "metadata": {
            "needs_background": "light"
          }
        },
        {
          "output_type": "stream",
          "name": "stdout",
          "text": [
            "Prediction: mild cardiomegaly no acute pulmonary finding\n",
            "Caption: mild cardiomegaly no acute pulmonary finding\n",
            "\n"
          ]
        },
        {
          "output_type": "display_data",
          "data": {
            "image/png": "[encoded data removed]",
            "text/plain": [
              "<Figure size 432x288 with 2 Axes>"
            ]
          },
          "metadata": {
            "needs_background": "light"
          }
        },
        {
          "output_type": "stream",
          "name": "stdout",
          "text": [
            "Prediction: no evidence acute cardiopulmonary process\n",
            "Caption: no evidence acute cardiopulmonary process\n",
            "\n"
          ]
        },
        {
          "output_type": "display_data",
          "data": {
            "image/png": "[encoded data removed]",
            "text/plain": [
              "<Figure size 432x288 with 2 Axes>"
            ]
          },
          "metadata": {
            "needs_background": "light"
          }
        },
        {
          "output_type": "stream",
          "name": "stdout",
          "text": [
            "Prediction: no acute radiographic cardiopulmonary process\n",
            "Caption: no acute radiographic cardiopulmonary process\n",
            "\n"
          ]
        }
      ]
    },
    {
      "cell_type": "code",
      "source": [
        "model.evaluate(tokenizer)"
      ],
      "metadata": {
        "colab": {
          "base_uri": "https://localhost:8080/"
        },
        "id": "4KE6CzdB-b3w",
        "outputId": "1c67062b-94f4-4e81-b4bf-e5ff495d8153"
      },
      "execution_count": 123,
      "outputs": [
        {
          "output_type": "stream",
          "name": "stdout",
          "text": [
            "Downloading the biobert model, will take a minute...\n"
          ]
        },
        {
          "output_type": "stream",
          "name": "stderr",
          "text": [
            "/usr/local/lib/python3.7/dist-packages/urllib3/connectionpool.py:988: InsecureRequestWarning: Unverified HTTPS request is being made to host 'docs.google.com'. Adding certificate verification is strongly advised. See: https://urllib3.readthedocs.io/en/latest/advanced-usage.html#ssl-warnings\n",
            "  InsecureRequestWarning,\n",
            "/usr/local/lib/python3.7/dist-packages/urllib3/connectionpool.py:988: InsecureRequestWarning: Unverified HTTPS request is being made to host 'docs.google.com'. Adding certificate verification is strongly advised. See: https://urllib3.readthedocs.io/en/latest/advanced-usage.html#ssl-warnings\n",
            "  InsecureRequestWarning,\n",
            "/usr/local/lib/python3.7/dist-packages/urllib3/connectionpool.py:988: InsecureRequestWarning: Unverified HTTPS request is being made to host 'doc-0s-48-docs.googleusercontent.com'. Adding certificate verification is strongly advised. See: https://urllib3.readthedocs.io/en/latest/advanced-usage.html#ssl-warnings\n",
            "  InsecureRequestWarning,\n",
            "/usr/local/lib/python3.7/dist-packages/urllib3/connectionpool.py:988: InsecureRequestWarning: Unverified HTTPS request is being made to host 'docs.google.com'. Adding certificate verification is strongly advised. See: https://urllib3.readthedocs.io/en/latest/advanced-usage.html#ssl-warnings\n",
            "  InsecureRequestWarning,\n",
            "/usr/local/lib/python3.7/dist-packages/urllib3/connectionpool.py:988: InsecureRequestWarning: Unverified HTTPS request is being made to host 'doc-0s-48-docs.googleusercontent.com'. Adding certificate verification is strongly advised. See: https://urllib3.readthedocs.io/en/latest/advanced-usage.html#ssl-warnings\n",
            "  InsecureRequestWarning,\n"
          ]
        },
        {
          "output_type": "execute_result",
          "data": {
            "text/plain": [
              "0.021188224905900017"
            ]
          },
          "metadata": {},
          "execution_count": 123
        }
      ]
    }
  ]
}